{
 "cells": [
  {
   "cell_type": "markdown",
   "id": "a52f3746",
   "metadata": {},
   "source": [
    "<h1 style=\"text-align:center; font-family:Georgia; \"><b>Car Price Predictor </b></h1> "
   ]
  },
  {
   "cell_type": "markdown",
   "id": "be080df0",
   "metadata": {},
   "source": [
    "<div style=\"color:white;\n",
    "            display:fill;\n",
    "            border-radius:5px;\n",
    "            background-color:#ffefd5;  \n",
    "            font-size:100%;\n",
    "            theme: cosmo;\n",
    "            letter-spacing:0.5px\">\n",
    "<h3 style=\"padding-left: 20px; padding-top: 20px; color:#4a4a4a; font-family:Arial;\"><b>About:</b>\n",
    "</h3>\n",
    "<p style=\"padding-left: 20px; padding-right: 20px; color:#4a4a4a; font-size:110%;\">\n",
    "CarDekho is India's leading car search venture that helps users buy cars. It's website and app carry rich automotive content such as expert reviews, detailed specs and prices, comparisons as well as videos and pictures of all car brands and models available in India. The company has tie-ups with many auto manufacturers, more than 4000 car dealers and numerous financial institutions to facilitate the purchase of vehicles.\n",
    "<br><br>\n",
    "In this project, we'll collect data about used cars from the CarDekho website, find out some patterns in sales of cars using data analysis and then use different Machine Learning Models to build a good price predictor.\n",
    "</p>\n",
    "</div>"
   ]
  },
  {
   "cell_type": "markdown",
   "id": "deb338de",
   "metadata": {},
   "source": [
    "### 1. Importing the Dependencies"
   ]
  },
  {
   "cell_type": "code",
   "execution_count": 89,
   "id": "8ccabfaa",
   "metadata": {},
   "outputs": [],
   "source": [
    "#importing necessary libraries\n",
    "import numpy as np\n",
    "import pandas as pd\n",
    "import seaborn as sns\n",
    "import datetime\n",
    "import warnings\n",
    "import plotly.express as px\n",
    "import matplotlib.pyplot as plt\n",
    "%matplotlib inline\n",
    "\n",
    "from sklearn.model_selection import train_test_split\n",
    "from sklearn.linear_model import LinearRegression\n",
    "from sklearn.linear_model import Lasso\n",
    "from sklearn import tree\n",
    "from sklearn.ensemble import RandomForestClassifier\n",
    "from sklearn import metrics"
   ]
  },
  {
   "cell_type": "markdown",
   "id": "70d9b961",
   "metadata": {},
   "source": [
    "### 2. Data Collection and Processing"
   ]
  },
  {
   "cell_type": "code",
   "execution_count": 2,
   "id": "9d17ea1e",
   "metadata": {},
   "outputs": [
    {
     "data": {
      "text/html": [
       "<style type=\"text/css\">\n",
       "#T_e9840_row0_col1, #T_e9840_row1_col1 {\n",
       "  background-color: #ffd000;\n",
       "  color: #000000;\n",
       "}\n",
       "#T_e9840_row0_col2, #T_e9840_row0_col11, #T_e9840_row1_col11, #T_e9840_row2_col11, #T_e9840_row3_col11, #T_e9840_row4_col11, #T_e9840_row5_col1, #T_e9840_row5_col11, #T_e9840_row6_col3, #T_e9840_row6_col11, #T_e9840_row8_col11, #T_e9840_row9_col11 {\n",
       "  background-color: #ffff00;\n",
       "  color: #000000;\n",
       "}\n",
       "#T_e9840_row0_col3 {\n",
       "  background-color: #ffd300;\n",
       "  color: #000000;\n",
       "}\n",
       "#T_e9840_row1_col2 {\n",
       "  background-color: #ffcd00;\n",
       "  color: #000000;\n",
       "}\n",
       "#T_e9840_row1_col3, #T_e9840_row4_col3 {\n",
       "  background-color: #ffad00;\n",
       "  color: #000000;\n",
       "}\n",
       "#T_e9840_row2_col1 {\n",
       "  background-color: #ff5000;\n",
       "  color: #f1f1f1;\n",
       "}\n",
       "#T_e9840_row2_col2 {\n",
       "  background-color: #ff4700;\n",
       "  color: #f1f1f1;\n",
       "}\n",
       "#T_e9840_row2_col3 {\n",
       "  background-color: #ffcb00;\n",
       "  color: #000000;\n",
       "}\n",
       "#T_e9840_row3_col1 {\n",
       "  background-color: #ff9000;\n",
       "  color: #000000;\n",
       "}\n",
       "#T_e9840_row3_col2 {\n",
       "  background-color: #ff7100;\n",
       "  color: #f1f1f1;\n",
       "}\n",
       "#T_e9840_row3_col3 {\n",
       "  background-color: #ffb700;\n",
       "  color: #000000;\n",
       "}\n",
       "#T_e9840_row4_col1, #T_e9840_row6_col1 {\n",
       "  background-color: #ff6000;\n",
       "  color: #f1f1f1;\n",
       "}\n",
       "#T_e9840_row4_col2 {\n",
       "  background-color: #ff3500;\n",
       "  color: #f1f1f1;\n",
       "}\n",
       "#T_e9840_row5_col2 {\n",
       "  background-color: #fff900;\n",
       "  color: #000000;\n",
       "}\n",
       "#T_e9840_row5_col3 {\n",
       "  background-color: #ff3c00;\n",
       "  color: #f1f1f1;\n",
       "}\n",
       "#T_e9840_row6_col2 {\n",
       "  background-color: #ff2000;\n",
       "  color: #f1f1f1;\n",
       "}\n",
       "#T_e9840_row7_col1, #T_e9840_row7_col2, #T_e9840_row7_col3, #T_e9840_row7_col11 {\n",
       "  background-color: #ff0000;\n",
       "  color: #f1f1f1;\n",
       "}\n",
       "#T_e9840_row8_col1 {\n",
       "  background-color: #ffa000;\n",
       "  color: #000000;\n",
       "}\n",
       "#T_e9840_row8_col2, #T_e9840_row9_col1 {\n",
       "  background-color: #ffc000;\n",
       "  color: #000000;\n",
       "}\n",
       "#T_e9840_row8_col3 {\n",
       "  background-color: #ff8000;\n",
       "  color: #f1f1f1;\n",
       "}\n",
       "#T_e9840_row9_col2 {\n",
       "  background-color: #ff6100;\n",
       "  color: #f1f1f1;\n",
       "}\n",
       "#T_e9840_row9_col3 {\n",
       "  background-color: #fff600;\n",
       "  color: #000000;\n",
       "}\n",
       "</style>\n",
       "<table id=\"T_e9840_\">\n",
       "  <thead>\n",
       "    <tr>\n",
       "      <th class=\"blank level0\" >&nbsp;</th>\n",
       "      <th class=\"col_heading level0 col0\" >name</th>\n",
       "      <th class=\"col_heading level0 col1\" >year</th>\n",
       "      <th class=\"col_heading level0 col2\" >selling_price</th>\n",
       "      <th class=\"col_heading level0 col3\" >km_driven</th>\n",
       "      <th class=\"col_heading level0 col4\" >fuel</th>\n",
       "      <th class=\"col_heading level0 col5\" >seller_type</th>\n",
       "      <th class=\"col_heading level0 col6\" >transmission</th>\n",
       "      <th class=\"col_heading level0 col7\" >owner</th>\n",
       "      <th class=\"col_heading level0 col8\" >mileage</th>\n",
       "      <th class=\"col_heading level0 col9\" >engine</th>\n",
       "      <th class=\"col_heading level0 col10\" >max_power</th>\n",
       "      <th class=\"col_heading level0 col11\" >seats</th>\n",
       "    </tr>\n",
       "  </thead>\n",
       "  <tbody>\n",
       "    <tr>\n",
       "      <th id=\"T_e9840_level0_row0\" class=\"row_heading level0 row0\" >0</th>\n",
       "      <td id=\"T_e9840_row0_col0\" class=\"data row0 col0\" >Maruti Swift Dzire VDI</td>\n",
       "      <td id=\"T_e9840_row0_col1\" class=\"data row0 col1\" >2014</td>\n",
       "      <td id=\"T_e9840_row0_col2\" class=\"data row0 col2\" >450000</td>\n",
       "      <td id=\"T_e9840_row0_col3\" class=\"data row0 col3\" >145500</td>\n",
       "      <td id=\"T_e9840_row0_col4\" class=\"data row0 col4\" >Diesel</td>\n",
       "      <td id=\"T_e9840_row0_col5\" class=\"data row0 col5\" >Individual</td>\n",
       "      <td id=\"T_e9840_row0_col6\" class=\"data row0 col6\" >Manual</td>\n",
       "      <td id=\"T_e9840_row0_col7\" class=\"data row0 col7\" >First Owner</td>\n",
       "      <td id=\"T_e9840_row0_col8\" class=\"data row0 col8\" >23.4 kmpl</td>\n",
       "      <td id=\"T_e9840_row0_col9\" class=\"data row0 col9\" >1248 CC</td>\n",
       "      <td id=\"T_e9840_row0_col10\" class=\"data row0 col10\" >74 bhp</td>\n",
       "      <td id=\"T_e9840_row0_col11\" class=\"data row0 col11\" >5.000000</td>\n",
       "    </tr>\n",
       "    <tr>\n",
       "      <th id=\"T_e9840_level0_row1\" class=\"row_heading level0 row1\" >1</th>\n",
       "      <td id=\"T_e9840_row1_col0\" class=\"data row1 col0\" >Skoda Rapid 1.5 TDI Ambition</td>\n",
       "      <td id=\"T_e9840_row1_col1\" class=\"data row1 col1\" >2014</td>\n",
       "      <td id=\"T_e9840_row1_col2\" class=\"data row1 col2\" >370000</td>\n",
       "      <td id=\"T_e9840_row1_col3\" class=\"data row1 col3\" >120000</td>\n",
       "      <td id=\"T_e9840_row1_col4\" class=\"data row1 col4\" >Diesel</td>\n",
       "      <td id=\"T_e9840_row1_col5\" class=\"data row1 col5\" >Individual</td>\n",
       "      <td id=\"T_e9840_row1_col6\" class=\"data row1 col6\" >Manual</td>\n",
       "      <td id=\"T_e9840_row1_col7\" class=\"data row1 col7\" >Second Owner</td>\n",
       "      <td id=\"T_e9840_row1_col8\" class=\"data row1 col8\" >21.14 kmpl</td>\n",
       "      <td id=\"T_e9840_row1_col9\" class=\"data row1 col9\" >1498 CC</td>\n",
       "      <td id=\"T_e9840_row1_col10\" class=\"data row1 col10\" >103.52 bhp</td>\n",
       "      <td id=\"T_e9840_row1_col11\" class=\"data row1 col11\" >5.000000</td>\n",
       "    </tr>\n",
       "    <tr>\n",
       "      <th id=\"T_e9840_level0_row2\" class=\"row_heading level0 row2\" >2</th>\n",
       "      <td id=\"T_e9840_row2_col0\" class=\"data row2 col0\" >Honda City 2017-2020 EXi</td>\n",
       "      <td id=\"T_e9840_row2_col1\" class=\"data row2 col1\" >2006</td>\n",
       "      <td id=\"T_e9840_row2_col2\" class=\"data row2 col2\" >158000</td>\n",
       "      <td id=\"T_e9840_row2_col3\" class=\"data row2 col3\" >140000</td>\n",
       "      <td id=\"T_e9840_row2_col4\" class=\"data row2 col4\" >Petrol</td>\n",
       "      <td id=\"T_e9840_row2_col5\" class=\"data row2 col5\" >Individual</td>\n",
       "      <td id=\"T_e9840_row2_col6\" class=\"data row2 col6\" >Manual</td>\n",
       "      <td id=\"T_e9840_row2_col7\" class=\"data row2 col7\" >Third Owner</td>\n",
       "      <td id=\"T_e9840_row2_col8\" class=\"data row2 col8\" >17.7 kmpl</td>\n",
       "      <td id=\"T_e9840_row2_col9\" class=\"data row2 col9\" >1497 CC</td>\n",
       "      <td id=\"T_e9840_row2_col10\" class=\"data row2 col10\" >78 bhp</td>\n",
       "      <td id=\"T_e9840_row2_col11\" class=\"data row2 col11\" >5.000000</td>\n",
       "    </tr>\n",
       "    <tr>\n",
       "      <th id=\"T_e9840_level0_row3\" class=\"row_heading level0 row3\" >3</th>\n",
       "      <td id=\"T_e9840_row3_col0\" class=\"data row3 col0\" >Hyundai i20 Sportz Diesel</td>\n",
       "      <td id=\"T_e9840_row3_col1\" class=\"data row3 col1\" >2010</td>\n",
       "      <td id=\"T_e9840_row3_col2\" class=\"data row3 col2\" >225000</td>\n",
       "      <td id=\"T_e9840_row3_col3\" class=\"data row3 col3\" >127000</td>\n",
       "      <td id=\"T_e9840_row3_col4\" class=\"data row3 col4\" >Diesel</td>\n",
       "      <td id=\"T_e9840_row3_col5\" class=\"data row3 col5\" >Individual</td>\n",
       "      <td id=\"T_e9840_row3_col6\" class=\"data row3 col6\" >Manual</td>\n",
       "      <td id=\"T_e9840_row3_col7\" class=\"data row3 col7\" >First Owner</td>\n",
       "      <td id=\"T_e9840_row3_col8\" class=\"data row3 col8\" >23.0 kmpl</td>\n",
       "      <td id=\"T_e9840_row3_col9\" class=\"data row3 col9\" >1396 CC</td>\n",
       "      <td id=\"T_e9840_row3_col10\" class=\"data row3 col10\" >90 bhp</td>\n",
       "      <td id=\"T_e9840_row3_col11\" class=\"data row3 col11\" >5.000000</td>\n",
       "    </tr>\n",
       "    <tr>\n",
       "      <th id=\"T_e9840_level0_row4\" class=\"row_heading level0 row4\" >4</th>\n",
       "      <td id=\"T_e9840_row4_col0\" class=\"data row4 col0\" >Maruti Swift VXI BSIII</td>\n",
       "      <td id=\"T_e9840_row4_col1\" class=\"data row4 col1\" >2007</td>\n",
       "      <td id=\"T_e9840_row4_col2\" class=\"data row4 col2\" >130000</td>\n",
       "      <td id=\"T_e9840_row4_col3\" class=\"data row4 col3\" >120000</td>\n",
       "      <td id=\"T_e9840_row4_col4\" class=\"data row4 col4\" >Petrol</td>\n",
       "      <td id=\"T_e9840_row4_col5\" class=\"data row4 col5\" >Individual</td>\n",
       "      <td id=\"T_e9840_row4_col6\" class=\"data row4 col6\" >Manual</td>\n",
       "      <td id=\"T_e9840_row4_col7\" class=\"data row4 col7\" >First Owner</td>\n",
       "      <td id=\"T_e9840_row4_col8\" class=\"data row4 col8\" >16.1 kmpl</td>\n",
       "      <td id=\"T_e9840_row4_col9\" class=\"data row4 col9\" >1298 CC</td>\n",
       "      <td id=\"T_e9840_row4_col10\" class=\"data row4 col10\" >88.2 bhp</td>\n",
       "      <td id=\"T_e9840_row4_col11\" class=\"data row4 col11\" >5.000000</td>\n",
       "    </tr>\n",
       "    <tr>\n",
       "      <th id=\"T_e9840_level0_row5\" class=\"row_heading level0 row5\" >5</th>\n",
       "      <td id=\"T_e9840_row5_col0\" class=\"data row5 col0\" >Hyundai Xcent 1.2 VTVT E Plus</td>\n",
       "      <td id=\"T_e9840_row5_col1\" class=\"data row5 col1\" >2017</td>\n",
       "      <td id=\"T_e9840_row5_col2\" class=\"data row5 col2\" >440000</td>\n",
       "      <td id=\"T_e9840_row5_col3\" class=\"data row5 col3\" >45000</td>\n",
       "      <td id=\"T_e9840_row5_col4\" class=\"data row5 col4\" >Petrol</td>\n",
       "      <td id=\"T_e9840_row5_col5\" class=\"data row5 col5\" >Individual</td>\n",
       "      <td id=\"T_e9840_row5_col6\" class=\"data row5 col6\" >Manual</td>\n",
       "      <td id=\"T_e9840_row5_col7\" class=\"data row5 col7\" >First Owner</td>\n",
       "      <td id=\"T_e9840_row5_col8\" class=\"data row5 col8\" >20.14 kmpl</td>\n",
       "      <td id=\"T_e9840_row5_col9\" class=\"data row5 col9\" >1197 CC</td>\n",
       "      <td id=\"T_e9840_row5_col10\" class=\"data row5 col10\" >81.86 bhp</td>\n",
       "      <td id=\"T_e9840_row5_col11\" class=\"data row5 col11\" >5.000000</td>\n",
       "    </tr>\n",
       "    <tr>\n",
       "      <th id=\"T_e9840_level0_row6\" class=\"row_heading level0 row6\" >6</th>\n",
       "      <td id=\"T_e9840_row6_col0\" class=\"data row6 col0\" >Maruti Wagon R LXI DUO BSIII</td>\n",
       "      <td id=\"T_e9840_row6_col1\" class=\"data row6 col1\" >2007</td>\n",
       "      <td id=\"T_e9840_row6_col2\" class=\"data row6 col2\" >96000</td>\n",
       "      <td id=\"T_e9840_row6_col3\" class=\"data row6 col3\" >175000</td>\n",
       "      <td id=\"T_e9840_row6_col4\" class=\"data row6 col4\" >LPG</td>\n",
       "      <td id=\"T_e9840_row6_col5\" class=\"data row6 col5\" >Individual</td>\n",
       "      <td id=\"T_e9840_row6_col6\" class=\"data row6 col6\" >Manual</td>\n",
       "      <td id=\"T_e9840_row6_col7\" class=\"data row6 col7\" >First Owner</td>\n",
       "      <td id=\"T_e9840_row6_col8\" class=\"data row6 col8\" >17.3 km/kg</td>\n",
       "      <td id=\"T_e9840_row6_col9\" class=\"data row6 col9\" >1061 CC</td>\n",
       "      <td id=\"T_e9840_row6_col10\" class=\"data row6 col10\" >57.5 bhp</td>\n",
       "      <td id=\"T_e9840_row6_col11\" class=\"data row6 col11\" >5.000000</td>\n",
       "    </tr>\n",
       "    <tr>\n",
       "      <th id=\"T_e9840_level0_row7\" class=\"row_heading level0 row7\" >7</th>\n",
       "      <td id=\"T_e9840_row7_col0\" class=\"data row7 col0\" >Maruti 800 DX BSII</td>\n",
       "      <td id=\"T_e9840_row7_col1\" class=\"data row7 col1\" >2001</td>\n",
       "      <td id=\"T_e9840_row7_col2\" class=\"data row7 col2\" >45000</td>\n",
       "      <td id=\"T_e9840_row7_col3\" class=\"data row7 col3\" >5000</td>\n",
       "      <td id=\"T_e9840_row7_col4\" class=\"data row7 col4\" >Petrol</td>\n",
       "      <td id=\"T_e9840_row7_col5\" class=\"data row7 col5\" >Individual</td>\n",
       "      <td id=\"T_e9840_row7_col6\" class=\"data row7 col6\" >Manual</td>\n",
       "      <td id=\"T_e9840_row7_col7\" class=\"data row7 col7\" >Second Owner</td>\n",
       "      <td id=\"T_e9840_row7_col8\" class=\"data row7 col8\" >16.1 kmpl</td>\n",
       "      <td id=\"T_e9840_row7_col9\" class=\"data row7 col9\" >796 CC</td>\n",
       "      <td id=\"T_e9840_row7_col10\" class=\"data row7 col10\" >37 bhp</td>\n",
       "      <td id=\"T_e9840_row7_col11\" class=\"data row7 col11\" >4.000000</td>\n",
       "    </tr>\n",
       "    <tr>\n",
       "      <th id=\"T_e9840_level0_row8\" class=\"row_heading level0 row8\" >8</th>\n",
       "      <td id=\"T_e9840_row8_col0\" class=\"data row8 col0\" >Toyota Etios VXD</td>\n",
       "      <td id=\"T_e9840_row8_col1\" class=\"data row8 col1\" >2011</td>\n",
       "      <td id=\"T_e9840_row8_col2\" class=\"data row8 col2\" >350000</td>\n",
       "      <td id=\"T_e9840_row8_col3\" class=\"data row8 col3\" >90000</td>\n",
       "      <td id=\"T_e9840_row8_col4\" class=\"data row8 col4\" >Diesel</td>\n",
       "      <td id=\"T_e9840_row8_col5\" class=\"data row8 col5\" >Individual</td>\n",
       "      <td id=\"T_e9840_row8_col6\" class=\"data row8 col6\" >Manual</td>\n",
       "      <td id=\"T_e9840_row8_col7\" class=\"data row8 col7\" >First Owner</td>\n",
       "      <td id=\"T_e9840_row8_col8\" class=\"data row8 col8\" >23.59 kmpl</td>\n",
       "      <td id=\"T_e9840_row8_col9\" class=\"data row8 col9\" >1364 CC</td>\n",
       "      <td id=\"T_e9840_row8_col10\" class=\"data row8 col10\" >67.1 bhp</td>\n",
       "      <td id=\"T_e9840_row8_col11\" class=\"data row8 col11\" >5.000000</td>\n",
       "    </tr>\n",
       "    <tr>\n",
       "      <th id=\"T_e9840_level0_row9\" class=\"row_heading level0 row9\" >9</th>\n",
       "      <td id=\"T_e9840_row9_col0\" class=\"data row9 col0\" >Ford Figo Diesel Celebration Edition</td>\n",
       "      <td id=\"T_e9840_row9_col1\" class=\"data row9 col1\" >2013</td>\n",
       "      <td id=\"T_e9840_row9_col2\" class=\"data row9 col2\" >200000</td>\n",
       "      <td id=\"T_e9840_row9_col3\" class=\"data row9 col3\" >169000</td>\n",
       "      <td id=\"T_e9840_row9_col4\" class=\"data row9 col4\" >Diesel</td>\n",
       "      <td id=\"T_e9840_row9_col5\" class=\"data row9 col5\" >Individual</td>\n",
       "      <td id=\"T_e9840_row9_col6\" class=\"data row9 col6\" >Manual</td>\n",
       "      <td id=\"T_e9840_row9_col7\" class=\"data row9 col7\" >First Owner</td>\n",
       "      <td id=\"T_e9840_row9_col8\" class=\"data row9 col8\" >20.0 kmpl</td>\n",
       "      <td id=\"T_e9840_row9_col9\" class=\"data row9 col9\" >1399 CC</td>\n",
       "      <td id=\"T_e9840_row9_col10\" class=\"data row9 col10\" >68.1 bhp</td>\n",
       "      <td id=\"T_e9840_row9_col11\" class=\"data row9 col11\" >5.000000</td>\n",
       "    </tr>\n",
       "  </tbody>\n",
       "</table>\n"
      ],
      "text/plain": [
       "<pandas.io.formats.style.Styler at 0x2a6c7cb1dc0>"
      ]
     },
     "execution_count": 2,
     "metadata": {},
     "output_type": "execute_result"
    }
   ],
   "source": [
    "#reading the dataset from csv file\n",
    "df =pd.read_csv('Car details v3.csv')\n",
    "df.head(10).style.background_gradient(cmap = \"autumn\")"
   ]
  },
  {
   "cell_type": "code",
   "execution_count": 3,
   "id": "05176aae",
   "metadata": {},
   "outputs": [
    {
     "data": {
      "text/plain": [
       "(8128, 12)"
      ]
     },
     "execution_count": 3,
     "metadata": {},
     "output_type": "execute_result"
    }
   ],
   "source": [
    "#checking the number of rows and columns\n",
    "df.shape"
   ]
  },
  {
   "cell_type": "code",
   "execution_count": 4,
   "id": "31524dc5",
   "metadata": {},
   "outputs": [
    {
     "name": "stdout",
     "output_type": "stream",
     "text": [
      "<class 'pandas.core.frame.DataFrame'>\n",
      "RangeIndex: 8128 entries, 0 to 8127\n",
      "Data columns (total 12 columns):\n",
      " #   Column         Non-Null Count  Dtype  \n",
      "---  ------         --------------  -----  \n",
      " 0   name           8128 non-null   object \n",
      " 1   year           8128 non-null   int64  \n",
      " 2   selling_price  8128 non-null   int64  \n",
      " 3   km_driven      8128 non-null   int64  \n",
      " 4   fuel           8128 non-null   object \n",
      " 5   seller_type    8128 non-null   object \n",
      " 6   transmission   8128 non-null   object \n",
      " 7   owner          8128 non-null   object \n",
      " 8   mileage        7907 non-null   object \n",
      " 9   engine         7907 non-null   object \n",
      " 10  max_power      7913 non-null   object \n",
      " 11  seats          7907 non-null   float64\n",
      "dtypes: float64(1), int64(3), object(8)\n",
      "memory usage: 762.1+ KB\n"
     ]
    }
   ],
   "source": [
    "#Getting some information about the dataset \n",
    "df.info()"
   ]
  },
  {
   "cell_type": "code",
   "execution_count": 5,
   "id": "96318782",
   "metadata": {},
   "outputs": [
    {
     "data": {
      "text/html": [
       "<div>\n",
       "<style scoped>\n",
       "    .dataframe tbody tr th:only-of-type {\n",
       "        vertical-align: middle;\n",
       "    }\n",
       "\n",
       "    .dataframe tbody tr th {\n",
       "        vertical-align: top;\n",
       "    }\n",
       "\n",
       "    .dataframe thead th {\n",
       "        text-align: right;\n",
       "    }\n",
       "</style>\n",
       "<table border=\"1\" class=\"dataframe\">\n",
       "  <thead>\n",
       "    <tr style=\"text-align: right;\">\n",
       "      <th></th>\n",
       "      <th>name</th>\n",
       "      <th>fuel</th>\n",
       "      <th>seller_type</th>\n",
       "      <th>transmission</th>\n",
       "      <th>owner</th>\n",
       "      <th>mileage</th>\n",
       "      <th>engine</th>\n",
       "      <th>max_power</th>\n",
       "    </tr>\n",
       "  </thead>\n",
       "  <tbody>\n",
       "    <tr>\n",
       "      <th>count</th>\n",
       "      <td>8128</td>\n",
       "      <td>8128</td>\n",
       "      <td>8128</td>\n",
       "      <td>8128</td>\n",
       "      <td>8128</td>\n",
       "      <td>7907</td>\n",
       "      <td>7907</td>\n",
       "      <td>7913</td>\n",
       "    </tr>\n",
       "    <tr>\n",
       "      <th>unique</th>\n",
       "      <td>2058</td>\n",
       "      <td>4</td>\n",
       "      <td>3</td>\n",
       "      <td>2</td>\n",
       "      <td>5</td>\n",
       "      <td>393</td>\n",
       "      <td>121</td>\n",
       "      <td>322</td>\n",
       "    </tr>\n",
       "    <tr>\n",
       "      <th>top</th>\n",
       "      <td>Maruti Swift Dzire VDI</td>\n",
       "      <td>Diesel</td>\n",
       "      <td>Individual</td>\n",
       "      <td>Manual</td>\n",
       "      <td>First Owner</td>\n",
       "      <td>18.9 kmpl</td>\n",
       "      <td>1248 CC</td>\n",
       "      <td>74 bhp</td>\n",
       "    </tr>\n",
       "    <tr>\n",
       "      <th>freq</th>\n",
       "      <td>129</td>\n",
       "      <td>4402</td>\n",
       "      <td>6766</td>\n",
       "      <td>7078</td>\n",
       "      <td>5289</td>\n",
       "      <td>225</td>\n",
       "      <td>1017</td>\n",
       "      <td>377</td>\n",
       "    </tr>\n",
       "  </tbody>\n",
       "</table>\n",
       "</div>"
      ],
      "text/plain": [
       "                          name    fuel seller_type transmission        owner  \\\n",
       "count                     8128    8128        8128         8128         8128   \n",
       "unique                    2058       4           3            2            5   \n",
       "top     Maruti Swift Dzire VDI  Diesel  Individual       Manual  First Owner   \n",
       "freq                       129    4402        6766         7078         5289   \n",
       "\n",
       "          mileage   engine max_power  \n",
       "count        7907     7907      7913  \n",
       "unique        393      121       322  \n",
       "top     18.9 kmpl  1248 CC    74 bhp  \n",
       "freq          225     1017       377  "
      ]
     },
     "execution_count": 5,
     "metadata": {},
     "output_type": "execute_result"
    }
   ],
   "source": [
    "#counting unique Categorical Variables\n",
    "df.describe(include=object)"
   ]
  },
  {
   "cell_type": "code",
   "execution_count": 6,
   "id": "55064da0",
   "metadata": {},
   "outputs": [
    {
     "name": "stdout",
     "output_type": "stream",
     "text": [
      "Year: 29\n",
      "Selling Price: 677\n",
      "Km_driven: 921\n",
      "Seats: 9\n"
     ]
    }
   ],
   "source": [
    "#counting unique Numeric Variables\n",
    "print('Year:',df.year.nunique())\n",
    "print('Selling Price:',df.selling_price.nunique())\n",
    "print('Km_driven:',df.km_driven.nunique())\n",
    "print('Seats:',df.seats.nunique())"
   ]
  },
  {
   "cell_type": "code",
   "execution_count": 7,
   "id": "96b7064b",
   "metadata": {},
   "outputs": [
    {
     "data": {
      "text/plain": [
       "name               0\n",
       "year               0\n",
       "selling_price      0\n",
       "km_driven          0\n",
       "fuel               0\n",
       "seller_type        0\n",
       "transmission       0\n",
       "owner              0\n",
       "mileage          221\n",
       "engine           221\n",
       "max_power        215\n",
       "seats            221\n",
       "dtype: int64"
      ]
     },
     "execution_count": 7,
     "metadata": {},
     "output_type": "execute_result"
    }
   ],
   "source": [
    "#checking the number of missing values\n",
    "df.isnull().sum()"
   ]
  },
  {
   "cell_type": "code",
   "execution_count": 8,
   "id": "9facc1f1",
   "metadata": {},
   "outputs": [
    {
     "name": "stdout",
     "output_type": "stream",
     "text": [
      "Oldest car 1983\n",
      "Newest car 2020\n"
     ]
    }
   ],
   "source": [
    "#checking the time period of the dataset\n",
    "print('Oldest car',df.year.min())\n",
    "print('Newest car',df.year.max())"
   ]
  },
  {
   "cell_type": "code",
   "execution_count": 9,
   "id": "40a799b0",
   "metadata": {},
   "outputs": [],
   "source": [
    "df.replace([np.inf, -np.inf], np.nan, inplace=True)"
   ]
  },
  {
   "cell_type": "code",
   "execution_count": 10,
   "id": "2ffda662",
   "metadata": {},
   "outputs": [
    {
     "data": {
      "text/html": [
       "<div>\n",
       "<style scoped>\n",
       "    .dataframe tbody tr th:only-of-type {\n",
       "        vertical-align: middle;\n",
       "    }\n",
       "\n",
       "    .dataframe tbody tr th {\n",
       "        vertical-align: top;\n",
       "    }\n",
       "\n",
       "    .dataframe thead th {\n",
       "        text-align: right;\n",
       "    }\n",
       "</style>\n",
       "<table border=\"1\" class=\"dataframe\">\n",
       "  <thead>\n",
       "    <tr style=\"text-align: right;\">\n",
       "      <th></th>\n",
       "      <th>name</th>\n",
       "      <th>year</th>\n",
       "      <th>selling_price</th>\n",
       "      <th>km_driven</th>\n",
       "      <th>fuel</th>\n",
       "      <th>seller_type</th>\n",
       "      <th>transmission</th>\n",
       "      <th>owner</th>\n",
       "      <th>mileage</th>\n",
       "      <th>engine</th>\n",
       "      <th>max_power</th>\n",
       "      <th>seats</th>\n",
       "    </tr>\n",
       "  </thead>\n",
       "  <tbody>\n",
       "    <tr>\n",
       "      <th>13</th>\n",
       "      <td>Maruti Swift 1.3 VXi</td>\n",
       "      <td>2007</td>\n",
       "      <td>200000</td>\n",
       "      <td>80000</td>\n",
       "      <td>Petrol</td>\n",
       "      <td>Individual</td>\n",
       "      <td>Manual</td>\n",
       "      <td>Second Owner</td>\n",
       "      <td>NaN</td>\n",
       "      <td>NaN</td>\n",
       "      <td>NaN</td>\n",
       "      <td>NaN</td>\n",
       "    </tr>\n",
       "    <tr>\n",
       "      <th>31</th>\n",
       "      <td>Fiat Palio 1.2 ELX</td>\n",
       "      <td>2003</td>\n",
       "      <td>70000</td>\n",
       "      <td>50000</td>\n",
       "      <td>Petrol</td>\n",
       "      <td>Individual</td>\n",
       "      <td>Manual</td>\n",
       "      <td>Second Owner</td>\n",
       "      <td>NaN</td>\n",
       "      <td>NaN</td>\n",
       "      <td>NaN</td>\n",
       "      <td>NaN</td>\n",
       "    </tr>\n",
       "    <tr>\n",
       "      <th>78</th>\n",
       "      <td>Tata Indica DLS</td>\n",
       "      <td>2003</td>\n",
       "      <td>50000</td>\n",
       "      <td>70000</td>\n",
       "      <td>Diesel</td>\n",
       "      <td>Individual</td>\n",
       "      <td>Manual</td>\n",
       "      <td>First Owner</td>\n",
       "      <td>NaN</td>\n",
       "      <td>NaN</td>\n",
       "      <td>NaN</td>\n",
       "      <td>NaN</td>\n",
       "    </tr>\n",
       "    <tr>\n",
       "      <th>87</th>\n",
       "      <td>Maruti Swift VDI BSIV W ABS</td>\n",
       "      <td>2015</td>\n",
       "      <td>475000</td>\n",
       "      <td>78000</td>\n",
       "      <td>Diesel</td>\n",
       "      <td>Dealer</td>\n",
       "      <td>Manual</td>\n",
       "      <td>First Owner</td>\n",
       "      <td>NaN</td>\n",
       "      <td>NaN</td>\n",
       "      <td>NaN</td>\n",
       "      <td>NaN</td>\n",
       "    </tr>\n",
       "    <tr>\n",
       "      <th>119</th>\n",
       "      <td>Maruti Swift VDI BSIV</td>\n",
       "      <td>2010</td>\n",
       "      <td>300000</td>\n",
       "      <td>120000</td>\n",
       "      <td>Diesel</td>\n",
       "      <td>Individual</td>\n",
       "      <td>Manual</td>\n",
       "      <td>Second Owner</td>\n",
       "      <td>NaN</td>\n",
       "      <td>NaN</td>\n",
       "      <td>NaN</td>\n",
       "      <td>NaN</td>\n",
       "    </tr>\n",
       "  </tbody>\n",
       "</table>\n",
       "</div>"
      ],
      "text/plain": [
       "                            name  year  selling_price  km_driven    fuel  \\\n",
       "13          Maruti Swift 1.3 VXi  2007         200000      80000  Petrol   \n",
       "31            Fiat Palio 1.2 ELX  2003          70000      50000  Petrol   \n",
       "78               Tata Indica DLS  2003          50000      70000  Diesel   \n",
       "87   Maruti Swift VDI BSIV W ABS  2015         475000      78000  Diesel   \n",
       "119        Maruti Swift VDI BSIV  2010         300000     120000  Diesel   \n",
       "\n",
       "    seller_type transmission         owner mileage engine max_power  seats  \n",
       "13   Individual       Manual  Second Owner     NaN    NaN       NaN    NaN  \n",
       "31   Individual       Manual  Second Owner     NaN    NaN       NaN    NaN  \n",
       "78   Individual       Manual   First Owner     NaN    NaN       NaN    NaN  \n",
       "87       Dealer       Manual   First Owner     NaN    NaN       NaN    NaN  \n",
       "119  Individual       Manual  Second Owner     NaN    NaN       NaN    NaN  "
      ]
     },
     "execution_count": 10,
     "metadata": {},
     "output_type": "execute_result"
    }
   ],
   "source": [
    "#checking the NaN rows\n",
    "nan_df = df[df.isna().any(axis=1)]\n",
    "nan_df.head()"
   ]
  },
  {
   "cell_type": "code",
   "execution_count": 11,
   "id": "1fd153b1",
   "metadata": {},
   "outputs": [
    {
     "data": {
      "text/plain": [
       "(221, 12)"
      ]
     },
     "execution_count": 11,
     "metadata": {},
     "output_type": "execute_result"
    }
   ],
   "source": [
    "#Counting no of NaN\n",
    "nan_df.shape"
   ]
  },
  {
   "cell_type": "markdown",
   "id": "32c85fa5",
   "metadata": {},
   "source": [
    "<div style=\"color:white;\n",
    "            display:fill;\n",
    "            border-radius:5px;\n",
    "            background-color:#ffefd5;  \n",
    "            font-size:100%;\n",
    "            theme: cosmo;\n",
    "            letter-spacing:0.5px\">\n",
    "<h3 style=\"padding-left: 20px; padding-top: 20px; color:#4a4a4a; font-family:Arial;\"><b>Overview</b>\n",
    "</h3>\n",
    "<p style=\"padding-left: 20px; padding-right: 20px; color:#4a4a4a; font-size:110%;\">\n",
    "The dataset belongs to \"CarDekho.com\" an online platform for used cars. The cars here are from year <b>1983</b> till <b>2020 </b>.It has  <b>8128</b>  entries and 11 columns.\n",
    "   \n",
    "</p> \n",
    "<ul style=\"padding-left: 40px; padding-bottom: 20px; color:#4a4a4a; font-size:110%;\">\n",
    "    <li>Numeric variables: 4</li>\n",
    "    <li>Categorical variables: 8</li>\n",
    "    <li>Number of observations: 8128</li>\n",
    "    <li>Missing cells : 221</li>\n",
    "</ul>\n",
    "</div>"
   ]
  },
  {
   "cell_type": "markdown",
   "id": "569f8171",
   "metadata": {},
   "source": [
    "<div style=\"color:white;\n",
    "            display:fill;\n",
    "            border-radius:5px;\n",
    "            background-color:#ffefd5;  \n",
    "            font-size:100%;\n",
    "            theme:cosmo;\n",
    "            letter-spacing:0.5px\">\n",
    "<h3 style=\"padding-left: 20px; padding-top: 20px; color:#4a4a4a; font-family:Arial;\"><b>Variables</b>\n",
    "</h3>\n",
    "<ul style=\"padding-left: 40px; padding-bottom: 20px; color:#4a4a4a; font-size:110%;\">\n",
    "    <li><b>Name:</b> <b>2058</b> distinct values</li>\n",
    "    <li><b>Year</b>: <b>29</b> distinct values</li>\n",
    "    <li><b>selling_price</b>: <b>677</b> distinct values</li>\n",
    "    <li><b>km_driven</b>: <b>921</b> distinct values</li>\n",
    "    <li><b>fuel</b>: <b>4</b> distinct values</li>\n",
    "    <li><b>seller_type</b>: <b>3</b> distinct values</li>\n",
    "    <li><b>transmission</b>: <b>2</b> distinct values</li>\n",
    "    <li><b>owner</b>: <b>5</b> distinct values</li>\n",
    "    <li><b>mileage</b>: <b>393</b> distinct values</li>\n",
    "    <li><b>engine</b>: <b>121</b> distinct values</li>\n",
    "    <li><b>max_power</b>:<b>332</b> distinct values</li>\n",
    "    <li><b>seats</b>: <b>9</b> distinct values</li>\n",
    "</ul>\n",
    "</div>"
   ]
  },
  {
   "cell_type": "markdown",
   "id": "69b4cf9c",
   "metadata": {},
   "source": [
    "### 3. Cleaning the data"
   ]
  },
  {
   "cell_type": "code",
   "execution_count": 12,
   "id": "ead0d71b",
   "metadata": {},
   "outputs": [],
   "source": [
    "#we now remove the NaN rows from main dataframe\n",
    "df =df.dropna()"
   ]
  },
  {
   "cell_type": "code",
   "execution_count": 13,
   "id": "10631546",
   "metadata": {},
   "outputs": [
    {
     "data": {
      "text/plain": [
       "name             0\n",
       "year             0\n",
       "selling_price    0\n",
       "km_driven        0\n",
       "fuel             0\n",
       "seller_type      0\n",
       "transmission     0\n",
       "owner            0\n",
       "mileage          0\n",
       "engine           0\n",
       "max_power        0\n",
       "seats            0\n",
       "dtype: int64"
      ]
     },
     "execution_count": 13,
     "metadata": {},
     "output_type": "execute_result"
    }
   ],
   "source": [
    "#checking wether we have any NaN columns left\n",
    "df.isnull().sum()"
   ]
  },
  {
   "cell_type": "code",
   "execution_count": 14,
   "id": "258d8ebb",
   "metadata": {},
   "outputs": [],
   "source": [
    "#We create a function to extract numerical values from the object data\n",
    "def get_value(value):\n",
    "    return value.split(' ')[0]\n",
    "\n",
    "#turning mileage from object datatype to float datatype\n",
    "df['Mileage'] =df['mileage'].apply(lambda x: get_value(x))\n",
    "df['Mileage'] =df['Mileage'].astype('float')\n",
    "\n",
    "#turning engine from object datatype to float datatype\n",
    "df['EngineCapacity'] =df['engine'].apply(lambda x: get_value(x))\n",
    "df['EngineCapacity'] =df['EngineCapacity'].astype('int64')\n",
    "\n",
    "#turning maxpower from object datatype to float datatype\n",
    "df['MaxPower'] =df['max_power'].apply(lambda x: get_value(x))\n",
    "df['MaxPower'] = pd.to_numeric(df['MaxPower'], errors='coerce')\n",
    "df['MaxPower'] =df['MaxPower'].astype('float')\n"
   ]
  },
  {
   "cell_type": "code",
   "execution_count": 15,
   "id": "8262e431",
   "metadata": {},
   "outputs": [],
   "source": [
    "#we use the same function to extract the company name\n",
    "df['Company']=df['name'].apply(lambda x: get_value(x))"
   ]
  },
  {
   "cell_type": "code",
   "execution_count": 16,
   "id": "df454e81",
   "metadata": {},
   "outputs": [],
   "source": [
    "#we create a column dor how old is the car\n",
    "now_year = datetime.datetime.now().year\n",
    "df[\"years_old\"] = now_year - df.year"
   ]
  },
  {
   "cell_type": "code",
   "execution_count": 17,
   "id": "0c59f1e7",
   "metadata": {},
   "outputs": [],
   "source": [
    "#dropping the mileage,engine and max_power columns\n",
    "df=df.drop(['mileage','engine','max_power','year'],axis=1)"
   ]
  },
  {
   "cell_type": "code",
   "execution_count": 18,
   "id": "783556af",
   "metadata": {},
   "outputs": [],
   "source": [
    "#we replace the infinity values to 0\n",
    "df=df.replace((np.inf, -np.inf, np.nan), 0).reset_index(drop=True)"
   ]
  },
  {
   "cell_type": "markdown",
   "id": "d2e00c5f",
   "metadata": {},
   "source": [
    "### 4.We do some data analysis"
   ]
  },
  {
   "cell_type": "code",
   "execution_count": 19,
   "id": "953f7e9a",
   "metadata": {},
   "outputs": [],
   "source": [
    "#we create a new dataframe for data analysis\n",
    "df1=df.copy()"
   ]
  },
  {
   "cell_type": "code",
   "execution_count": 20,
   "id": "6e7a2673",
   "metadata": {},
   "outputs": [
    {
     "data": {
      "image/png": "[encoded data removed]",
      "text/plain": [
       "<Figure size 1800x1800 with 9 Axes>"
      ]
     },
     "metadata": {
      "needs_background": "light"
     },
     "output_type": "display_data"
    }
   ],
   "source": [
    "#create a histogram to check the values\n",
    "df1.hist(bins=50,figsize=(25,25))\n",
    "plt.show()"
   ]
  },
  {
   "cell_type": "code",
   "execution_count": 91,
   "id": "5daf8fcd",
   "metadata": {},
   "outputs": [
    {
     "data": {
      "application/vnd.plotly.v1+json": {
       "config": {
        "plotlyServerURL": "https://plot.ly"
       },
       "data": [
        {
         "hovertemplate": "years_old=%{text}<br>selling_price=%{y}<extra></extra>",
         "legendgroup": "",
         "line": {
          "color": "#636efa",
          "dash": "solid"
         },
         "marker": {
          "symbol": "circle"
         },
         "mode": "markers+lines+text",
         "name": "",
         "orientation": "v",
         "showlegend": false,
         "text": [
          2,
          3,
          4,
          5,
          6,
          7,
          8,
          9,
          10,
          11,
          12,
          13,
          14,
          15,
          16,
          17,
          18,
          19,
          20,
          21,
          22,
          23,
          24,
          25,
          26,
          27,
          28
         ],
         "textposition": "top right",
         "type": "scatter",
         "x": [
          2,
          3,
          4,
          5,
          6,
          7,
          8,
          9,
          10,
          11,
          12,
          13,
          14,
          15,
          16,
          17,
          18,
          19,
          20,
          21,
          22,
          23,
          24,
          25,
          26,
          27,
          28
         ],
         "xaxis": "x",
         "y": [
          885270.2297297297,
          1776986.2504288165,
          958183.5980148884,
          890193.0376237624,
          700317.7242990654,
          596770.2696774193,
          516675.7419354839,
          460664.621257485,
          353143.2801932367,
          322096.449122807,
          274010.632,
          228809.47619047618,
          205559.78109452737,
          179106.54913294798,
          170462.23529411765,
          143756.56578947368,
          109408.92156862745,
          101572.91891891892,
          103789.42105263157,
          46500,
          76682.125,
          76928.57142857143,
          57888.88888888889,
          86111,
          41000,
          55000,
          72000
         ],
         "yaxis": "y"
        }
       ],
       "layout": {
        "legend": {
         "tracegroupgap": 0
        },
        "margin": {
         "t": 60
        },
        "template": {
         "data": {
          "bar": [
           {
            "error_x": {
             "color": "#2a3f5f"
            },
            "error_y": {
             "color": "#2a3f5f"
            },
            "marker": {
             "line": {
              "color": "#E5ECF6",
              "width": 0.5
             },
             "pattern": {
              "fillmode": "overlay",
              "size": 10,
              "solidity": 0.2
             }
            },
            "type": "bar"
           }
          ],
          "barpolar": [
           {
            "marker": {
             "line": {
              "color": "#E5ECF6",
              "width": 0.5
             },
             "pattern": {
              "fillmode": "overlay",
              "size": 10,
              "solidity": 0.2
             }
            },
            "type": "barpolar"
           }
          ],
          "carpet": [
           {
            "aaxis": {
             "endlinecolor": "#2a3f5f",
             "gridcolor": "white",
             "linecolor": "white",
             "minorgridcolor": "white",
             "startlinecolor": "#2a3f5f"
            },
            "baxis": {
             "endlinecolor": "#2a3f5f",
             "gridcolor": "white",
             "linecolor": "white",
             "minorgridcolor": "white",
             "startlinecolor": "#2a3f5f"
            },
            "type": "carpet"
           }
          ],
          "choropleth": [
           {
            "colorbar": {
             "outlinewidth": 0,
             "ticks": ""
            },
            "type": "choropleth"
           }
          ],
          "contour": [
           {
            "colorbar": {
             "outlinewidth": 0,
             "ticks": ""
            },
            "colorscale": [
             [
              0,
              "#0d0887"
             ],
             [
              0.1111111111111111,
              "#46039f"
             ],
             [
              0.2222222222222222,
              "#7201a8"
             ],
             [
              0.3333333333333333,
              "#9c179e"
             ],
             [
              0.4444444444444444,
              "#bd3786"
             ],
             [
              0.5555555555555556,
              "#d8576b"
             ],
             [
              0.6666666666666666,
              "#ed7953"
             ],
             [
              0.7777777777777778,
              "#fb9f3a"
             ],
             [
              0.8888888888888888,
              "#fdca26"
             ],
             [
              1,
              "#f0f921"
             ]
            ],
            "type": "contour"
           }
          ],
          "contourcarpet": [
           {
            "colorbar": {
             "outlinewidth": 0,
             "ticks": ""
            },
            "type": "contourcarpet"
           }
          ],
          "heatmap": [
           {
            "colorbar": {
             "outlinewidth": 0,
             "ticks": ""
            },
            "colorscale": [
             [
              0,
              "#0d0887"
             ],
             [
              0.1111111111111111,
              "#46039f"
             ],
             [
              0.2222222222222222,
              "#7201a8"
             ],
             [
              0.3333333333333333,
              "#9c179e"
             ],
             [
              0.4444444444444444,
              "#bd3786"
             ],
             [
              0.5555555555555556,
              "#d8576b"
             ],
             [
              0.6666666666666666,
              "#ed7953"
             ],
             [
              0.7777777777777778,
              "#fb9f3a"
             ],
             [
              0.8888888888888888,
              "#fdca26"
             ],
             [
              1,
              "#f0f921"
             ]
            ],
            "type": "heatmap"
           }
          ],
          "heatmapgl": [
           {
            "colorbar": {
             "outlinewidth": 0,
             "ticks": ""
            },
            "colorscale": [
             [
              0,
              "#0d0887"
             ],
             [
              0.1111111111111111,
              "#46039f"
             ],
             [
              0.2222222222222222,
              "#7201a8"
             ],
             [
              0.3333333333333333,
              "#9c179e"
             ],
             [
              0.4444444444444444,
              "#bd3786"
             ],
             [
              0.5555555555555556,
              "#d8576b"
             ],
             [
              0.6666666666666666,
              "#ed7953"
             ],
             [
              0.7777777777777778,
              "#fb9f3a"
             ],
             [
              0.8888888888888888,
              "#fdca26"
             ],
             [
              1,
              "#f0f921"
             ]
            ],
            "type": "heatmapgl"
           }
          ],
          "histogram": [
           {
            "marker": {
             "pattern": {
              "fillmode": "overlay",
              "size": 10,
              "solidity": 0.2
             }
            },
            "type": "histogram"
           }
          ],
          "histogram2d": [
           {
            "colorbar": {
             "outlinewidth": 0,
             "ticks": ""
            },
            "colorscale": [
             [
              0,
              "#0d0887"
             ],
             [
              0.1111111111111111,
              "#46039f"
             ],
             [
              0.2222222222222222,
              "#7201a8"
             ],
             [
              0.3333333333333333,
              "#9c179e"
             ],
             [
              0.4444444444444444,
              "#bd3786"
             ],
             [
              0.5555555555555556,
              "#d8576b"
             ],
             [
              0.6666666666666666,
              "#ed7953"
             ],
             [
              0.7777777777777778,
              "#fb9f3a"
             ],
             [
              0.8888888888888888,
              "#fdca26"
             ],
             [
              1,
              "#f0f921"
             ]
            ],
            "type": "histogram2d"
           }
          ],
          "histogram2dcontour": [
           {
            "colorbar": {
             "outlinewidth": 0,
             "ticks": ""
            },
            "colorscale": [
             [
              0,
              "#0d0887"
             ],
             [
              0.1111111111111111,
              "#46039f"
             ],
             [
              0.2222222222222222,
              "#7201a8"
             ],
             [
              0.3333333333333333,
              "#9c179e"
             ],
             [
              0.4444444444444444,
              "#bd3786"
             ],
             [
              0.5555555555555556,
              "#d8576b"
             ],
             [
              0.6666666666666666,
              "#ed7953"
             ],
             [
              0.7777777777777778,
              "#fb9f3a"
             ],
             [
              0.8888888888888888,
              "#fdca26"
             ],
             [
              1,
              "#f0f921"
             ]
            ],
            "type": "histogram2dcontour"
           }
          ],
          "mesh3d": [
           {
            "colorbar": {
             "outlinewidth": 0,
             "ticks": ""
            },
            "type": "mesh3d"
           }
          ],
          "parcoords": [
           {
            "line": {
             "colorbar": {
              "outlinewidth": 0,
              "ticks": ""
             }
            },
            "type": "parcoords"
           }
          ],
          "pie": [
           {
            "automargin": true,
            "type": "pie"
           }
          ],
          "scatter": [
           {
            "fillpattern": {
             "fillmode": "overlay",
             "size": 10,
             "solidity": 0.2
            },
            "type": "scatter"
           }
          ],
          "scatter3d": [
           {
            "line": {
             "colorbar": {
              "outlinewidth": 0,
              "ticks": ""
             }
            },
            "marker": {
             "colorbar": {
              "outlinewidth": 0,
              "ticks": ""
             }
            },
            "type": "scatter3d"
           }
          ],
          "scattercarpet": [
           {
            "marker": {
             "colorbar": {
              "outlinewidth": 0,
              "ticks": ""
             }
            },
            "type": "scattercarpet"
           }
          ],
          "scattergeo": [
           {
            "marker": {
             "colorbar": {
              "outlinewidth": 0,
              "ticks": ""
             }
            },
            "type": "scattergeo"
           }
          ],
          "scattergl": [
           {
            "marker": {
             "colorbar": {
              "outlinewidth": 0,
              "ticks": ""
             }
            },
            "type": "scattergl"
           }
          ],
          "scattermapbox": [
           {
            "marker": {
             "colorbar": {
              "outlinewidth": 0,
              "ticks": ""
             }
            },
            "type": "scattermapbox"
           }
          ],
          "scatterpolar": [
           {
            "marker": {
             "colorbar": {
              "outlinewidth": 0,
              "ticks": ""
             }
            },
            "type": "scatterpolar"
           }
          ],
          "scatterpolargl": [
           {
            "marker": {
             "colorbar": {
              "outlinewidth": 0,
              "ticks": ""
             }
            },
            "type": "scatterpolargl"
           }
          ],
          "scatterternary": [
           {
            "marker": {
             "colorbar": {
              "outlinewidth": 0,
              "ticks": ""
             }
            },
            "type": "scatterternary"
           }
          ],
          "surface": [
           {
            "colorbar": {
             "outlinewidth": 0,
             "ticks": ""
            },
            "colorscale": [
             [
              0,
              "#0d0887"
             ],
             [
              0.1111111111111111,
              "#46039f"
             ],
             [
              0.2222222222222222,
              "#7201a8"
             ],
             [
              0.3333333333333333,
              "#9c179e"
             ],
             [
              0.4444444444444444,
              "#bd3786"
             ],
             [
              0.5555555555555556,
              "#d8576b"
             ],
             [
              0.6666666666666666,
              "#ed7953"
             ],
             [
              0.7777777777777778,
              "#fb9f3a"
             ],
             [
              0.8888888888888888,
              "#fdca26"
             ],
             [
              1,
              "#f0f921"
             ]
            ],
            "type": "surface"
           }
          ],
          "table": [
           {
            "cells": {
             "fill": {
              "color": "#EBF0F8"
             },
             "line": {
              "color": "white"
             }
            },
            "header": {
             "fill": {
              "color": "#C8D4E3"
             },
             "line": {
              "color": "white"
             }
            },
            "type": "table"
           }
          ]
         },
         "layout": {
          "annotationdefaults": {
           "arrowcolor": "#2a3f5f",
           "arrowhead": 0,
           "arrowwidth": 1
          },
          "autotypenumbers": "strict",
          "coloraxis": {
           "colorbar": {
            "outlinewidth": 0,
            "ticks": ""
           }
          },
          "colorscale": {
           "diverging": [
            [
             0,
             "#8e0152"
            ],
            [
             0.1,
             "#c51b7d"
            ],
            [
             0.2,
             "#de77ae"
            ],
            [
             0.3,
             "#f1b6da"
            ],
            [
             0.4,
             "#fde0ef"
            ],
            [
             0.5,
             "#f7f7f7"
            ],
            [
             0.6,
             "#e6f5d0"
            ],
            [
             0.7,
             "#b8e186"
            ],
            [
             0.8,
             "#7fbc41"
            ],
            [
             0.9,
             "#4d9221"
            ],
            [
             1,
             "#276419"
            ]
           ],
           "sequential": [
            [
             0,
             "#0d0887"
            ],
            [
             0.1111111111111111,
             "#46039f"
            ],
            [
             0.2222222222222222,
             "#7201a8"
            ],
            [
             0.3333333333333333,
             "#9c179e"
            ],
            [
             0.4444444444444444,
             "#bd3786"
            ],
            [
             0.5555555555555556,
             "#d8576b"
            ],
            [
             0.6666666666666666,
             "#ed7953"
            ],
            [
             0.7777777777777778,
             "#fb9f3a"
            ],
            [
             0.8888888888888888,
             "#fdca26"
            ],
            [
             1,
             "#f0f921"
            ]
           ],
           "sequentialminus": [
            [
             0,
             "#0d0887"
            ],
            [
             0.1111111111111111,
             "#46039f"
            ],
            [
             0.2222222222222222,
             "#7201a8"
            ],
            [
             0.3333333333333333,
             "#9c179e"
            ],
            [
             0.4444444444444444,
             "#bd3786"
            ],
            [
             0.5555555555555556,
             "#d8576b"
            ],
            [
             0.6666666666666666,
             "#ed7953"
            ],
            [
             0.7777777777777778,
             "#fb9f3a"
            ],
            [
             0.8888888888888888,
             "#fdca26"
            ],
            [
             1,
             "#f0f921"
            ]
           ]
          },
          "colorway": [
           "#636efa",
           "#EF553B",
           "#00cc96",
           "#ab63fa",
           "#FFA15A",
           "#19d3f3",
           "#FF6692",
           "#B6E880",
           "#FF97FF",
           "#FECB52"
          ],
          "font": {
           "color": "#2a3f5f"
          },
          "geo": {
           "bgcolor": "white",
           "lakecolor": "white",
           "landcolor": "#E5ECF6",
           "showlakes": true,
           "showland": true,
           "subunitcolor": "white"
          },
          "hoverlabel": {
           "align": "left"
          },
          "hovermode": "closest",
          "mapbox": {
           "style": "light"
          },
          "paper_bgcolor": "white",
          "plot_bgcolor": "#E5ECF6",
          "polar": {
           "angularaxis": {
            "gridcolor": "white",
            "linecolor": "white",
            "ticks": ""
           },
           "bgcolor": "#E5ECF6",
           "radialaxis": {
            "gridcolor": "white",
            "linecolor": "white",
            "ticks": ""
           }
          },
          "scene": {
           "xaxis": {
            "backgroundcolor": "#E5ECF6",
            "gridcolor": "white",
            "gridwidth": 2,
            "linecolor": "white",
            "showbackground": true,
            "ticks": "",
            "zerolinecolor": "white"
           },
           "yaxis": {
            "backgroundcolor": "#E5ECF6",
            "gridcolor": "white",
            "gridwidth": 2,
            "linecolor": "white",
            "showbackground": true,
            "ticks": "",
            "zerolinecolor": "white"
           },
           "zaxis": {
            "backgroundcolor": "#E5ECF6",
            "gridcolor": "white",
            "gridwidth": 2,
            "linecolor": "white",
            "showbackground": true,
            "ticks": "",
            "zerolinecolor": "white"
           }
          },
          "shapedefaults": {
           "line": {
            "color": "#2a3f5f"
           }
          },
          "ternary": {
           "aaxis": {
            "gridcolor": "white",
            "linecolor": "white",
            "ticks": ""
           },
           "baxis": {
            "gridcolor": "white",
            "linecolor": "white",
            "ticks": ""
           },
           "bgcolor": "#E5ECF6",
           "caxis": {
            "gridcolor": "white",
            "linecolor": "white",
            "ticks": ""
           }
          },
          "title": {
           "x": 0.05
          },
          "xaxis": {
           "automargin": true,
           "gridcolor": "white",
           "linecolor": "white",
           "ticks": "",
           "title": {
            "standoff": 15
           },
           "zerolinecolor": "white",
           "zerolinewidth": 2
          },
          "yaxis": {
           "automargin": true,
           "gridcolor": "white",
           "linecolor": "white",
           "ticks": "",
           "title": {
            "standoff": 15
           },
           "zerolinecolor": "white",
           "zerolinewidth": 2
          }
         }
        },
        "xaxis": {
         "anchor": "y",
         "domain": [
          0,
          1
         ],
         "title": {
          "text": "years_old"
         }
        },
        "yaxis": {
         "anchor": "x",
         "domain": [
          0,
          1
         ],
         "title": {
          "text": "selling_price"
         }
        }
       }
      },
      "text/html": [
       "<div>                            <div id=\"bed08d47-18c7-4afe-9d23-81d537fff1b2\" class=\"plotly-graph-div\" style=\"height:525px; width:100%;\"></div>            <script type=\"text/javascript\">                require([\"plotly\"], function(Plotly) {                    window.PLOTLYENV=window.PLOTLYENV || {};                                    if (document.getElementById(\"bed08d47-18c7-4afe-9d23-81d537fff1b2\")) {                    Plotly.newPlot(                        \"bed08d47-18c7-4afe-9d23-81d537fff1b2\",                        [{\"hovertemplate\":\"years_old=%{text}<br>selling_price=%{y}<extra></extra>\",\"legendgroup\":\"\",\"line\":{\"color\":\"#636efa\",\"dash\":\"solid\"},\"marker\":{\"symbol\":\"circle\"},\"mode\":\"markers+lines+text\",\"name\":\"\",\"orientation\":\"v\",\"showlegend\":false,\"text\":[2.0,3.0,4.0,5.0,6.0,7.0,8.0,9.0,10.0,11.0,12.0,13.0,14.0,15.0,16.0,17.0,18.0,19.0,20.0,21.0,22.0,23.0,24.0,25.0,26.0,27.0,28.0],\"x\":[2,3,4,5,6,7,8,9,10,11,12,13,14,15,16,17,18,19,20,21,22,23,24,25,26,27,28],\"xaxis\":\"x\",\"y\":[885270.2297297297,1776986.2504288165,958183.5980148884,890193.0376237624,700317.7242990654,596770.2696774193,516675.7419354839,460664.621257485,353143.2801932367,322096.449122807,274010.632,228809.47619047618,205559.78109452737,179106.54913294798,170462.23529411765,143756.56578947368,109408.92156862745,101572.91891891892,103789.42105263157,46500.0,76682.125,76928.57142857143,57888.88888888889,86111.0,41000.0,55000.0,72000.0],\"yaxis\":\"y\",\"type\":\"scatter\",\"textposition\":\"top right\"}],                        {\"template\":{\"data\":{\"histogram2dcontour\":[{\"type\":\"histogram2dcontour\",\"colorbar\":{\"outlinewidth\":0,\"ticks\":\"\"},\"colorscale\":[[0.0,\"#0d0887\"],[0.1111111111111111,\"#46039f\"],[0.2222222222222222,\"#7201a8\"],[0.3333333333333333,\"#9c179e\"],[0.4444444444444444,\"#bd3786\"],[0.5555555555555556,\"#d8576b\"],[0.6666666666666666,\"#ed7953\"],[0.7777777777777778,\"#fb9f3a\"],[0.8888888888888888,\"#fdca26\"],[1.0,\"#f0f921\"]]}],\"choropleth\":[{\"type\":\"choropleth\",\"colorbar\":{\"outlinewidth\":0,\"ticks\":\"\"}}],\"histogram2d\":[{\"type\":\"histogram2d\",\"colorbar\":{\"outlinewidth\":0,\"ticks\":\"\"},\"colorscale\":[[0.0,\"#0d0887\"],[0.1111111111111111,\"#46039f\"],[0.2222222222222222,\"#7201a8\"],[0.3333333333333333,\"#9c179e\"],[0.4444444444444444,\"#bd3786\"],[0.5555555555555556,\"#d8576b\"],[0.6666666666666666,\"#ed7953\"],[0.7777777777777778,\"#fb9f3a\"],[0.8888888888888888,\"#fdca26\"],[1.0,\"#f0f921\"]]}],\"heatmap\":[{\"type\":\"heatmap\",\"colorbar\":{\"outlinewidth\":0,\"ticks\":\"\"},\"colorscale\":[[0.0,\"#0d0887\"],[0.1111111111111111,\"#46039f\"],[0.2222222222222222,\"#7201a8\"],[0.3333333333333333,\"#9c179e\"],[0.4444444444444444,\"#bd3786\"],[0.5555555555555556,\"#d8576b\"],[0.6666666666666666,\"#ed7953\"],[0.7777777777777778,\"#fb9f3a\"],[0.8888888888888888,\"#fdca26\"],[1.0,\"#f0f921\"]]}],\"heatmapgl\":[{\"type\":\"heatmapgl\",\"colorbar\":{\"outlinewidth\":0,\"ticks\":\"\"},\"colorscale\":[[0.0,\"#0d0887\"],[0.1111111111111111,\"#46039f\"],[0.2222222222222222,\"#7201a8\"],[0.3333333333333333,\"#9c179e\"],[0.4444444444444444,\"#bd3786\"],[0.5555555555555556,\"#d8576b\"],[0.6666666666666666,\"#ed7953\"],[0.7777777777777778,\"#fb9f3a\"],[0.8888888888888888,\"#fdca26\"],[1.0,\"#f0f921\"]]}],\"contourcarpet\":[{\"type\":\"contourcarpet\",\"colorbar\":{\"outlinewidth\":0,\"ticks\":\"\"}}],\"contour\":[{\"type\":\"contour\",\"colorbar\":{\"outlinewidth\":0,\"ticks\":\"\"},\"colorscale\":[[0.0,\"#0d0887\"],[0.1111111111111111,\"#46039f\"],[0.2222222222222222,\"#7201a8\"],[0.3333333333333333,\"#9c179e\"],[0.4444444444444444,\"#bd3786\"],[0.5555555555555556,\"#d8576b\"],[0.6666666666666666,\"#ed7953\"],[0.7777777777777778,\"#fb9f3a\"],[0.8888888888888888,\"#fdca26\"],[1.0,\"#f0f921\"]]}],\"surface\":[{\"type\":\"surface\",\"colorbar\":{\"outlinewidth\":0,\"ticks\":\"\"},\"colorscale\":[[0.0,\"#0d0887\"],[0.1111111111111111,\"#46039f\"],[0.2222222222222222,\"#7201a8\"],[0.3333333333333333,\"#9c179e\"],[0.4444444444444444,\"#bd3786\"],[0.5555555555555556,\"#d8576b\"],[0.6666666666666666,\"#ed7953\"],[0.7777777777777778,\"#fb9f3a\"],[0.8888888888888888,\"#fdca26\"],[1.0,\"#f0f921\"]]}],\"mesh3d\":[{\"type\":\"mesh3d\",\"colorbar\":{\"outlinewidth\":0,\"ticks\":\"\"}}],\"scatter\":[{\"fillpattern\":{\"fillmode\":\"overlay\",\"size\":10,\"solidity\":0.2},\"type\":\"scatter\"}],\"parcoords\":[{\"type\":\"parcoords\",\"line\":{\"colorbar\":{\"outlinewidth\":0,\"ticks\":\"\"}}}],\"scatterpolargl\":[{\"type\":\"scatterpolargl\",\"marker\":{\"colorbar\":{\"outlinewidth\":0,\"ticks\":\"\"}}}],\"bar\":[{\"error_x\":{\"color\":\"#2a3f5f\"},\"error_y\":{\"color\":\"#2a3f5f\"},\"marker\":{\"line\":{\"color\":\"#E5ECF6\",\"width\":0.5},\"pattern\":{\"fillmode\":\"overlay\",\"size\":10,\"solidity\":0.2}},\"type\":\"bar\"}],\"scattergeo\":[{\"type\":\"scattergeo\",\"marker\":{\"colorbar\":{\"outlinewidth\":0,\"ticks\":\"\"}}}],\"scatterpolar\":[{\"type\":\"scatterpolar\",\"marker\":{\"colorbar\":{\"outlinewidth\":0,\"ticks\":\"\"}}}],\"histogram\":[{\"marker\":{\"pattern\":{\"fillmode\":\"overlay\",\"size\":10,\"solidity\":0.2}},\"type\":\"histogram\"}],\"scattergl\":[{\"type\":\"scattergl\",\"marker\":{\"colorbar\":{\"outlinewidth\":0,\"ticks\":\"\"}}}],\"scatter3d\":[{\"type\":\"scatter3d\",\"line\":{\"colorbar\":{\"outlinewidth\":0,\"ticks\":\"\"}},\"marker\":{\"colorbar\":{\"outlinewidth\":0,\"ticks\":\"\"}}}],\"scattermapbox\":[{\"type\":\"scattermapbox\",\"marker\":{\"colorbar\":{\"outlinewidth\":0,\"ticks\":\"\"}}}],\"scatterternary\":[{\"type\":\"scatterternary\",\"marker\":{\"colorbar\":{\"outlinewidth\":0,\"ticks\":\"\"}}}],\"scattercarpet\":[{\"type\":\"scattercarpet\",\"marker\":{\"colorbar\":{\"outlinewidth\":0,\"ticks\":\"\"}}}],\"carpet\":[{\"aaxis\":{\"endlinecolor\":\"#2a3f5f\",\"gridcolor\":\"white\",\"linecolor\":\"white\",\"minorgridcolor\":\"white\",\"startlinecolor\":\"#2a3f5f\"},\"baxis\":{\"endlinecolor\":\"#2a3f5f\",\"gridcolor\":\"white\",\"linecolor\":\"white\",\"minorgridcolor\":\"white\",\"startlinecolor\":\"#2a3f5f\"},\"type\":\"carpet\"}],\"table\":[{\"cells\":{\"fill\":{\"color\":\"#EBF0F8\"},\"line\":{\"color\":\"white\"}},\"header\":{\"fill\":{\"color\":\"#C8D4E3\"},\"line\":{\"color\":\"white\"}},\"type\":\"table\"}],\"barpolar\":[{\"marker\":{\"line\":{\"color\":\"#E5ECF6\",\"width\":0.5},\"pattern\":{\"fillmode\":\"overlay\",\"size\":10,\"solidity\":0.2}},\"type\":\"barpolar\"}],\"pie\":[{\"automargin\":true,\"type\":\"pie\"}]},\"layout\":{\"autotypenumbers\":\"strict\",\"colorway\":[\"#636efa\",\"#EF553B\",\"#00cc96\",\"#ab63fa\",\"#FFA15A\",\"#19d3f3\",\"#FF6692\",\"#B6E880\",\"#FF97FF\",\"#FECB52\"],\"font\":{\"color\":\"#2a3f5f\"},\"hovermode\":\"closest\",\"hoverlabel\":{\"align\":\"left\"},\"paper_bgcolor\":\"white\",\"plot_bgcolor\":\"#E5ECF6\",\"polar\":{\"bgcolor\":\"#E5ECF6\",\"angularaxis\":{\"gridcolor\":\"white\",\"linecolor\":\"white\",\"ticks\":\"\"},\"radialaxis\":{\"gridcolor\":\"white\",\"linecolor\":\"white\",\"ticks\":\"\"}},\"ternary\":{\"bgcolor\":\"#E5ECF6\",\"aaxis\":{\"gridcolor\":\"white\",\"linecolor\":\"white\",\"ticks\":\"\"},\"baxis\":{\"gridcolor\":\"white\",\"linecolor\":\"white\",\"ticks\":\"\"},\"caxis\":{\"gridcolor\":\"white\",\"linecolor\":\"white\",\"ticks\":\"\"}},\"coloraxis\":{\"colorbar\":{\"outlinewidth\":0,\"ticks\":\"\"}},\"colorscale\":{\"sequential\":[[0.0,\"#0d0887\"],[0.1111111111111111,\"#46039f\"],[0.2222222222222222,\"#7201a8\"],[0.3333333333333333,\"#9c179e\"],[0.4444444444444444,\"#bd3786\"],[0.5555555555555556,\"#d8576b\"],[0.6666666666666666,\"#ed7953\"],[0.7777777777777778,\"#fb9f3a\"],[0.8888888888888888,\"#fdca26\"],[1.0,\"#f0f921\"]],\"sequentialminus\":[[0.0,\"#0d0887\"],[0.1111111111111111,\"#46039f\"],[0.2222222222222222,\"#7201a8\"],[0.3333333333333333,\"#9c179e\"],[0.4444444444444444,\"#bd3786\"],[0.5555555555555556,\"#d8576b\"],[0.6666666666666666,\"#ed7953\"],[0.7777777777777778,\"#fb9f3a\"],[0.8888888888888888,\"#fdca26\"],[1.0,\"#f0f921\"]],\"diverging\":[[0,\"#8e0152\"],[0.1,\"#c51b7d\"],[0.2,\"#de77ae\"],[0.3,\"#f1b6da\"],[0.4,\"#fde0ef\"],[0.5,\"#f7f7f7\"],[0.6,\"#e6f5d0\"],[0.7,\"#b8e186\"],[0.8,\"#7fbc41\"],[0.9,\"#4d9221\"],[1,\"#276419\"]]},\"xaxis\":{\"gridcolor\":\"white\",\"linecolor\":\"white\",\"ticks\":\"\",\"title\":{\"standoff\":15},\"zerolinecolor\":\"white\",\"automargin\":true,\"zerolinewidth\":2},\"yaxis\":{\"gridcolor\":\"white\",\"linecolor\":\"white\",\"ticks\":\"\",\"title\":{\"standoff\":15},\"zerolinecolor\":\"white\",\"automargin\":true,\"zerolinewidth\":2},\"scene\":{\"xaxis\":{\"backgroundcolor\":\"#E5ECF6\",\"gridcolor\":\"white\",\"linecolor\":\"white\",\"showbackground\":true,\"ticks\":\"\",\"zerolinecolor\":\"white\",\"gridwidth\":2},\"yaxis\":{\"backgroundcolor\":\"#E5ECF6\",\"gridcolor\":\"white\",\"linecolor\":\"white\",\"showbackground\":true,\"ticks\":\"\",\"zerolinecolor\":\"white\",\"gridwidth\":2},\"zaxis\":{\"backgroundcolor\":\"#E5ECF6\",\"gridcolor\":\"white\",\"linecolor\":\"white\",\"showbackground\":true,\"ticks\":\"\",\"zerolinecolor\":\"white\",\"gridwidth\":2}},\"shapedefaults\":{\"line\":{\"color\":\"#2a3f5f\"}},\"annotationdefaults\":{\"arrowcolor\":\"#2a3f5f\",\"arrowhead\":0,\"arrowwidth\":1},\"geo\":{\"bgcolor\":\"white\",\"landcolor\":\"#E5ECF6\",\"subunitcolor\":\"white\",\"showland\":true,\"showlakes\":true,\"lakecolor\":\"white\"},\"title\":{\"x\":0.05},\"mapbox\":{\"style\":\"light\"}}},\"xaxis\":{\"anchor\":\"y\",\"domain\":[0.0,1.0],\"title\":{\"text\":\"years_old\"}},\"yaxis\":{\"anchor\":\"x\",\"domain\":[0.0,1.0],\"title\":{\"text\":\"selling_price\"}},\"legend\":{\"tracegroupgap\":0},\"margin\":{\"t\":60}},                        {\"responsive\": true}                    ).then(function(){\n",
       "                            \n",
       "var gd = document.getElementById('bed08d47-18c7-4afe-9d23-81d537fff1b2');\n",
       "var x = new MutationObserver(function (mutations, observer) {{\n",
       "        var display = window.getComputedStyle(gd).display;\n",
       "        if (!display || display === 'none') {{\n",
       "            console.log([gd, 'removed!']);\n",
       "            Plotly.purge(gd);\n",
       "            observer.disconnect();\n",
       "        }}\n",
       "}});\n",
       "\n",
       "// Listen for the removal of the full notebook cells\n",
       "var notebookContainer = gd.closest('#notebook-container');\n",
       "if (notebookContainer) {{\n",
       "    x.observe(notebookContainer, {childList: true});\n",
       "}}\n",
       "\n",
       "// Listen for the clearing of the current output cell\n",
       "var outputEl = gd.closest('.output');\n",
       "if (outputEl) {{\n",
       "    x.observe(outputEl, {childList: true});\n",
       "}}\n",
       "\n",
       "                        })                };                });            </script>        </div>"
      ]
     },
     "metadata": {},
     "output_type": "display_data"
    }
   ],
   "source": [
    "#Observing Selling price and its relation with age of car\n",
    "avg_price_for_age = df1.groupby(\"years_old\").selling_price.mean().reset_index()\n",
    "fig = px.line(avg_price_for_age, x='years_old', y='selling_price', text=\"years_old\")\n",
    "fig.update_traces(textposition=\"top right\")\n",
    "fig.show()"
   ]
  },
  {
   "cell_type": "code",
   "execution_count": 92,
   "id": "672c8b00",
   "metadata": {},
   "outputs": [
    {
     "data": {
      "application/vnd.plotly.v1+json": {
       "config": {
        "plotlyServerURL": "https://plot.ly"
       },
       "data": [
        {
         "hovertemplate": "seats=%{text}<br>selling_price=%{y}<extra></extra>",
         "legendgroup": "",
         "line": {
          "color": "#636efa",
          "dash": "solid"
         },
         "marker": {
          "symbol": "circle"
         },
         "mode": "markers+lines+text",
         "name": "",
         "orientation": "v",
         "showlegend": false,
         "text": [
          2,
          4,
          5,
          6,
          7,
          8,
          9,
          10,
          14
         ],
         "textposition": "top right",
         "type": "scatter",
         "x": [
          2,
          4,
          5,
          6,
          7,
          8,
          9,
          10,
          14
         ],
         "xaxis": "x",
         "y": [
          700500,
          486764.6616541353,
          630044.5518068436,
          581596.7741935484,
          812923.1848214286,
          583711.8262711865,
          500074.9375,
          344105.1052631579,
          235000
         ],
         "yaxis": "y"
        }
       ],
       "layout": {
        "legend": {
         "tracegroupgap": 0
        },
        "margin": {
         "t": 60
        },
        "template": {
         "data": {
          "bar": [
           {
            "error_x": {
             "color": "#2a3f5f"
            },
            "error_y": {
             "color": "#2a3f5f"
            },
            "marker": {
             "line": {
              "color": "#E5ECF6",
              "width": 0.5
             },
             "pattern": {
              "fillmode": "overlay",
              "size": 10,
              "solidity": 0.2
             }
            },
            "type": "bar"
           }
          ],
          "barpolar": [
           {
            "marker": {
             "line": {
              "color": "#E5ECF6",
              "width": 0.5
             },
             "pattern": {
              "fillmode": "overlay",
              "size": 10,
              "solidity": 0.2
             }
            },
            "type": "barpolar"
           }
          ],
          "carpet": [
           {
            "aaxis": {
             "endlinecolor": "#2a3f5f",
             "gridcolor": "white",
             "linecolor": "white",
             "minorgridcolor": "white",
             "startlinecolor": "#2a3f5f"
            },
            "baxis": {
             "endlinecolor": "#2a3f5f",
             "gridcolor": "white",
             "linecolor": "white",
             "minorgridcolor": "white",
             "startlinecolor": "#2a3f5f"
            },
            "type": "carpet"
           }
          ],
          "choropleth": [
           {
            "colorbar": {
             "outlinewidth": 0,
             "ticks": ""
            },
            "type": "choropleth"
           }
          ],
          "contour": [
           {
            "colorbar": {
             "outlinewidth": 0,
             "ticks": ""
            },
            "colorscale": [
             [
              0,
              "#0d0887"
             ],
             [
              0.1111111111111111,
              "#46039f"
             ],
             [
              0.2222222222222222,
              "#7201a8"
             ],
             [
              0.3333333333333333,
              "#9c179e"
             ],
             [
              0.4444444444444444,
              "#bd3786"
             ],
             [
              0.5555555555555556,
              "#d8576b"
             ],
             [
              0.6666666666666666,
              "#ed7953"
             ],
             [
              0.7777777777777778,
              "#fb9f3a"
             ],
             [
              0.8888888888888888,
              "#fdca26"
             ],
             [
              1,
              "#f0f921"
             ]
            ],
            "type": "contour"
           }
          ],
          "contourcarpet": [
           {
            "colorbar": {
             "outlinewidth": 0,
             "ticks": ""
            },
            "type": "contourcarpet"
           }
          ],
          "heatmap": [
           {
            "colorbar": {
             "outlinewidth": 0,
             "ticks": ""
            },
            "colorscale": [
             [
              0,
              "#0d0887"
             ],
             [
              0.1111111111111111,
              "#46039f"
             ],
             [
              0.2222222222222222,
              "#7201a8"
             ],
             [
              0.3333333333333333,
              "#9c179e"
             ],
             [
              0.4444444444444444,
              "#bd3786"
             ],
             [
              0.5555555555555556,
              "#d8576b"
             ],
             [
              0.6666666666666666,
              "#ed7953"
             ],
             [
              0.7777777777777778,
              "#fb9f3a"
             ],
             [
              0.8888888888888888,
              "#fdca26"
             ],
             [
              1,
              "#f0f921"
             ]
            ],
            "type": "heatmap"
           }
          ],
          "heatmapgl": [
           {
            "colorbar": {
             "outlinewidth": 0,
             "ticks": ""
            },
            "colorscale": [
             [
              0,
              "#0d0887"
             ],
             [
              0.1111111111111111,
              "#46039f"
             ],
             [
              0.2222222222222222,
              "#7201a8"
             ],
             [
              0.3333333333333333,
              "#9c179e"
             ],
             [
              0.4444444444444444,
              "#bd3786"
             ],
             [
              0.5555555555555556,
              "#d8576b"
             ],
             [
              0.6666666666666666,
              "#ed7953"
             ],
             [
              0.7777777777777778,
              "#fb9f3a"
             ],
             [
              0.8888888888888888,
              "#fdca26"
             ],
             [
              1,
              "#f0f921"
             ]
            ],
            "type": "heatmapgl"
           }
          ],
          "histogram": [
           {
            "marker": {
             "pattern": {
              "fillmode": "overlay",
              "size": 10,
              "solidity": 0.2
             }
            },
            "type": "histogram"
           }
          ],
          "histogram2d": [
           {
            "colorbar": {
             "outlinewidth": 0,
             "ticks": ""
            },
            "colorscale": [
             [
              0,
              "#0d0887"
             ],
             [
              0.1111111111111111,
              "#46039f"
             ],
             [
              0.2222222222222222,
              "#7201a8"
             ],
             [
              0.3333333333333333,
              "#9c179e"
             ],
             [
              0.4444444444444444,
              "#bd3786"
             ],
             [
              0.5555555555555556,
              "#d8576b"
             ],
             [
              0.6666666666666666,
              "#ed7953"
             ],
             [
              0.7777777777777778,
              "#fb9f3a"
             ],
             [
              0.8888888888888888,
              "#fdca26"
             ],
             [
              1,
              "#f0f921"
             ]
            ],
            "type": "histogram2d"
           }
          ],
          "histogram2dcontour": [
           {
            "colorbar": {
             "outlinewidth": 0,
             "ticks": ""
            },
            "colorscale": [
             [
              0,
              "#0d0887"
             ],
             [
              0.1111111111111111,
              "#46039f"
             ],
             [
              0.2222222222222222,
              "#7201a8"
             ],
             [
              0.3333333333333333,
              "#9c179e"
             ],
             [
              0.4444444444444444,
              "#bd3786"
             ],
             [
              0.5555555555555556,
              "#d8576b"
             ],
             [
              0.6666666666666666,
              "#ed7953"
             ],
             [
              0.7777777777777778,
              "#fb9f3a"
             ],
             [
              0.8888888888888888,
              "#fdca26"
             ],
             [
              1,
              "#f0f921"
             ]
            ],
            "type": "histogram2dcontour"
           }
          ],
          "mesh3d": [
           {
            "colorbar": {
             "outlinewidth": 0,
             "ticks": ""
            },
            "type": "mesh3d"
           }
          ],
          "parcoords": [
           {
            "line": {
             "colorbar": {
              "outlinewidth": 0,
              "ticks": ""
             }
            },
            "type": "parcoords"
           }
          ],
          "pie": [
           {
            "automargin": true,
            "type": "pie"
           }
          ],
          "scatter": [
           {
            "fillpattern": {
             "fillmode": "overlay",
             "size": 10,
             "solidity": 0.2
            },
            "type": "scatter"
           }
          ],
          "scatter3d": [
           {
            "line": {
             "colorbar": {
              "outlinewidth": 0,
              "ticks": ""
             }
            },
            "marker": {
             "colorbar": {
              "outlinewidth": 0,
              "ticks": ""
             }
            },
            "type": "scatter3d"
           }
          ],
          "scattercarpet": [
           {
            "marker": {
             "colorbar": {
              "outlinewidth": 0,
              "ticks": ""
             }
            },
            "type": "scattercarpet"
           }
          ],
          "scattergeo": [
           {
            "marker": {
             "colorbar": {
              "outlinewidth": 0,
              "ticks": ""
             }
            },
            "type": "scattergeo"
           }
          ],
          "scattergl": [
           {
            "marker": {
             "colorbar": {
              "outlinewidth": 0,
              "ticks": ""
             }
            },
            "type": "scattergl"
           }
          ],
          "scattermapbox": [
           {
            "marker": {
             "colorbar": {
              "outlinewidth": 0,
              "ticks": ""
             }
            },
            "type": "scattermapbox"
           }
          ],
          "scatterpolar": [
           {
            "marker": {
             "colorbar": {
              "outlinewidth": 0,
              "ticks": ""
             }
            },
            "type": "scatterpolar"
           }
          ],
          "scatterpolargl": [
           {
            "marker": {
             "colorbar": {
              "outlinewidth": 0,
              "ticks": ""
             }
            },
            "type": "scatterpolargl"
           }
          ],
          "scatterternary": [
           {
            "marker": {
             "colorbar": {
              "outlinewidth": 0,
              "ticks": ""
             }
            },
            "type": "scatterternary"
           }
          ],
          "surface": [
           {
            "colorbar": {
             "outlinewidth": 0,
             "ticks": ""
            },
            "colorscale": [
             [
              0,
              "#0d0887"
             ],
             [
              0.1111111111111111,
              "#46039f"
             ],
             [
              0.2222222222222222,
              "#7201a8"
             ],
             [
              0.3333333333333333,
              "#9c179e"
             ],
             [
              0.4444444444444444,
              "#bd3786"
             ],
             [
              0.5555555555555556,
              "#d8576b"
             ],
             [
              0.6666666666666666,
              "#ed7953"
             ],
             [
              0.7777777777777778,
              "#fb9f3a"
             ],
             [
              0.8888888888888888,
              "#fdca26"
             ],
             [
              1,
              "#f0f921"
             ]
            ],
            "type": "surface"
           }
          ],
          "table": [
           {
            "cells": {
             "fill": {
              "color": "#EBF0F8"
             },
             "line": {
              "color": "white"
             }
            },
            "header": {
             "fill": {
              "color": "#C8D4E3"
             },
             "line": {
              "color": "white"
             }
            },
            "type": "table"
           }
          ]
         },
         "layout": {
          "annotationdefaults": {
           "arrowcolor": "#2a3f5f",
           "arrowhead": 0,
           "arrowwidth": 1
          },
          "autotypenumbers": "strict",
          "coloraxis": {
           "colorbar": {
            "outlinewidth": 0,
            "ticks": ""
           }
          },
          "colorscale": {
           "diverging": [
            [
             0,
             "#8e0152"
            ],
            [
             0.1,
             "#c51b7d"
            ],
            [
             0.2,
             "#de77ae"
            ],
            [
             0.3,
             "#f1b6da"
            ],
            [
             0.4,
             "#fde0ef"
            ],
            [
             0.5,
             "#f7f7f7"
            ],
            [
             0.6,
             "#e6f5d0"
            ],
            [
             0.7,
             "#b8e186"
            ],
            [
             0.8,
             "#7fbc41"
            ],
            [
             0.9,
             "#4d9221"
            ],
            [
             1,
             "#276419"
            ]
           ],
           "sequential": [
            [
             0,
             "#0d0887"
            ],
            [
             0.1111111111111111,
             "#46039f"
            ],
            [
             0.2222222222222222,
             "#7201a8"
            ],
            [
             0.3333333333333333,
             "#9c179e"
            ],
            [
             0.4444444444444444,
             "#bd3786"
            ],
            [
             0.5555555555555556,
             "#d8576b"
            ],
            [
             0.6666666666666666,
             "#ed7953"
            ],
            [
             0.7777777777777778,
             "#fb9f3a"
            ],
            [
             0.8888888888888888,
             "#fdca26"
            ],
            [
             1,
             "#f0f921"
            ]
           ],
           "sequentialminus": [
            [
             0,
             "#0d0887"
            ],
            [
             0.1111111111111111,
             "#46039f"
            ],
            [
             0.2222222222222222,
             "#7201a8"
            ],
            [
             0.3333333333333333,
             "#9c179e"
            ],
            [
             0.4444444444444444,
             "#bd3786"
            ],
            [
             0.5555555555555556,
             "#d8576b"
            ],
            [
             0.6666666666666666,
             "#ed7953"
            ],
            [
             0.7777777777777778,
             "#fb9f3a"
            ],
            [
             0.8888888888888888,
             "#fdca26"
            ],
            [
             1,
             "#f0f921"
            ]
           ]
          },
          "colorway": [
           "#636efa",
           "#EF553B",
           "#00cc96",
           "#ab63fa",
           "#FFA15A",
           "#19d3f3",
           "#FF6692",
           "#B6E880",
           "#FF97FF",
           "#FECB52"
          ],
          "font": {
           "color": "#2a3f5f"
          },
          "geo": {
           "bgcolor": "white",
           "lakecolor": "white",
           "landcolor": "#E5ECF6",
           "showlakes": true,
           "showland": true,
           "subunitcolor": "white"
          },
          "hoverlabel": {
           "align": "left"
          },
          "hovermode": "closest",
          "mapbox": {
           "style": "light"
          },
          "paper_bgcolor": "white",
          "plot_bgcolor": "#E5ECF6",
          "polar": {
           "angularaxis": {
            "gridcolor": "white",
            "linecolor": "white",
            "ticks": ""
           },
           "bgcolor": "#E5ECF6",
           "radialaxis": {
            "gridcolor": "white",
            "linecolor": "white",
            "ticks": ""
           }
          },
          "scene": {
           "xaxis": {
            "backgroundcolor": "#E5ECF6",
            "gridcolor": "white",
            "gridwidth": 2,
            "linecolor": "white",
            "showbackground": true,
            "ticks": "",
            "zerolinecolor": "white"
           },
           "yaxis": {
            "backgroundcolor": "#E5ECF6",
            "gridcolor": "white",
            "gridwidth": 2,
            "linecolor": "white",
            "showbackground": true,
            "ticks": "",
            "zerolinecolor": "white"
           },
           "zaxis": {
            "backgroundcolor": "#E5ECF6",
            "gridcolor": "white",
            "gridwidth": 2,
            "linecolor": "white",
            "showbackground": true,
            "ticks": "",
            "zerolinecolor": "white"
           }
          },
          "shapedefaults": {
           "line": {
            "color": "#2a3f5f"
           }
          },
          "ternary": {
           "aaxis": {
            "gridcolor": "white",
            "linecolor": "white",
            "ticks": ""
           },
           "baxis": {
            "gridcolor": "white",
            "linecolor": "white",
            "ticks": ""
           },
           "bgcolor": "#E5ECF6",
           "caxis": {
            "gridcolor": "white",
            "linecolor": "white",
            "ticks": ""
           }
          },
          "title": {
           "x": 0.05
          },
          "xaxis": {
           "automargin": true,
           "gridcolor": "white",
           "linecolor": "white",
           "ticks": "",
           "title": {
            "standoff": 15
           },
           "zerolinecolor": "white",
           "zerolinewidth": 2
          },
          "yaxis": {
           "automargin": true,
           "gridcolor": "white",
           "linecolor": "white",
           "ticks": "",
           "title": {
            "standoff": 15
           },
           "zerolinecolor": "white",
           "zerolinewidth": 2
          }
         }
        },
        "xaxis": {
         "anchor": "y",
         "domain": [
          0,
          1
         ],
         "title": {
          "text": "seats"
         }
        },
        "yaxis": {
         "anchor": "x",
         "domain": [
          0,
          1
         ],
         "title": {
          "text": "selling_price"
         }
        }
       }
      },
      "text/html": [
       "<div>                            <div id=\"626541f2-4fe0-4e7a-9dd1-f7b04617fc41\" class=\"plotly-graph-div\" style=\"height:525px; width:100%;\"></div>            <script type=\"text/javascript\">                require([\"plotly\"], function(Plotly) {                    window.PLOTLYENV=window.PLOTLYENV || {};                                    if (document.getElementById(\"626541f2-4fe0-4e7a-9dd1-f7b04617fc41\")) {                    Plotly.newPlot(                        \"626541f2-4fe0-4e7a-9dd1-f7b04617fc41\",                        [{\"hovertemplate\":\"seats=%{text}<br>selling_price=%{y}<extra></extra>\",\"legendgroup\":\"\",\"line\":{\"color\":\"#636efa\",\"dash\":\"solid\"},\"marker\":{\"symbol\":\"circle\"},\"mode\":\"markers+lines+text\",\"name\":\"\",\"orientation\":\"v\",\"showlegend\":false,\"text\":[2.0,4.0,5.0,6.0,7.0,8.0,9.0,10.0,14.0],\"x\":[2.0,4.0,5.0,6.0,7.0,8.0,9.0,10.0,14.0],\"xaxis\":\"x\",\"y\":[700500.0,486764.6616541353,630044.5518068436,581596.7741935484,812923.1848214286,583711.8262711865,500074.9375,344105.1052631579,235000.0],\"yaxis\":\"y\",\"type\":\"scatter\",\"textposition\":\"top right\"}],                        {\"template\":{\"data\":{\"histogram2dcontour\":[{\"type\":\"histogram2dcontour\",\"colorbar\":{\"outlinewidth\":0,\"ticks\":\"\"},\"colorscale\":[[0.0,\"#0d0887\"],[0.1111111111111111,\"#46039f\"],[0.2222222222222222,\"#7201a8\"],[0.3333333333333333,\"#9c179e\"],[0.4444444444444444,\"#bd3786\"],[0.5555555555555556,\"#d8576b\"],[0.6666666666666666,\"#ed7953\"],[0.7777777777777778,\"#fb9f3a\"],[0.8888888888888888,\"#fdca26\"],[1.0,\"#f0f921\"]]}],\"choropleth\":[{\"type\":\"choropleth\",\"colorbar\":{\"outlinewidth\":0,\"ticks\":\"\"}}],\"histogram2d\":[{\"type\":\"histogram2d\",\"colorbar\":{\"outlinewidth\":0,\"ticks\":\"\"},\"colorscale\":[[0.0,\"#0d0887\"],[0.1111111111111111,\"#46039f\"],[0.2222222222222222,\"#7201a8\"],[0.3333333333333333,\"#9c179e\"],[0.4444444444444444,\"#bd3786\"],[0.5555555555555556,\"#d8576b\"],[0.6666666666666666,\"#ed7953\"],[0.7777777777777778,\"#fb9f3a\"],[0.8888888888888888,\"#fdca26\"],[1.0,\"#f0f921\"]]}],\"heatmap\":[{\"type\":\"heatmap\",\"colorbar\":{\"outlinewidth\":0,\"ticks\":\"\"},\"colorscale\":[[0.0,\"#0d0887\"],[0.1111111111111111,\"#46039f\"],[0.2222222222222222,\"#7201a8\"],[0.3333333333333333,\"#9c179e\"],[0.4444444444444444,\"#bd3786\"],[0.5555555555555556,\"#d8576b\"],[0.6666666666666666,\"#ed7953\"],[0.7777777777777778,\"#fb9f3a\"],[0.8888888888888888,\"#fdca26\"],[1.0,\"#f0f921\"]]}],\"heatmapgl\":[{\"type\":\"heatmapgl\",\"colorbar\":{\"outlinewidth\":0,\"ticks\":\"\"},\"colorscale\":[[0.0,\"#0d0887\"],[0.1111111111111111,\"#46039f\"],[0.2222222222222222,\"#7201a8\"],[0.3333333333333333,\"#9c179e\"],[0.4444444444444444,\"#bd3786\"],[0.5555555555555556,\"#d8576b\"],[0.6666666666666666,\"#ed7953\"],[0.7777777777777778,\"#fb9f3a\"],[0.8888888888888888,\"#fdca26\"],[1.0,\"#f0f921\"]]}],\"contourcarpet\":[{\"type\":\"contourcarpet\",\"colorbar\":{\"outlinewidth\":0,\"ticks\":\"\"}}],\"contour\":[{\"type\":\"contour\",\"colorbar\":{\"outlinewidth\":0,\"ticks\":\"\"},\"colorscale\":[[0.0,\"#0d0887\"],[0.1111111111111111,\"#46039f\"],[0.2222222222222222,\"#7201a8\"],[0.3333333333333333,\"#9c179e\"],[0.4444444444444444,\"#bd3786\"],[0.5555555555555556,\"#d8576b\"],[0.6666666666666666,\"#ed7953\"],[0.7777777777777778,\"#fb9f3a\"],[0.8888888888888888,\"#fdca26\"],[1.0,\"#f0f921\"]]}],\"surface\":[{\"type\":\"surface\",\"colorbar\":{\"outlinewidth\":0,\"ticks\":\"\"},\"colorscale\":[[0.0,\"#0d0887\"],[0.1111111111111111,\"#46039f\"],[0.2222222222222222,\"#7201a8\"],[0.3333333333333333,\"#9c179e\"],[0.4444444444444444,\"#bd3786\"],[0.5555555555555556,\"#d8576b\"],[0.6666666666666666,\"#ed7953\"],[0.7777777777777778,\"#fb9f3a\"],[0.8888888888888888,\"#fdca26\"],[1.0,\"#f0f921\"]]}],\"mesh3d\":[{\"type\":\"mesh3d\",\"colorbar\":{\"outlinewidth\":0,\"ticks\":\"\"}}],\"scatter\":[{\"fillpattern\":{\"fillmode\":\"overlay\",\"size\":10,\"solidity\":0.2},\"type\":\"scatter\"}],\"parcoords\":[{\"type\":\"parcoords\",\"line\":{\"colorbar\":{\"outlinewidth\":0,\"ticks\":\"\"}}}],\"scatterpolargl\":[{\"type\":\"scatterpolargl\",\"marker\":{\"colorbar\":{\"outlinewidth\":0,\"ticks\":\"\"}}}],\"bar\":[{\"error_x\":{\"color\":\"#2a3f5f\"},\"error_y\":{\"color\":\"#2a3f5f\"},\"marker\":{\"line\":{\"color\":\"#E5ECF6\",\"width\":0.5},\"pattern\":{\"fillmode\":\"overlay\",\"size\":10,\"solidity\":0.2}},\"type\":\"bar\"}],\"scattergeo\":[{\"type\":\"scattergeo\",\"marker\":{\"colorbar\":{\"outlinewidth\":0,\"ticks\":\"\"}}}],\"scatterpolar\":[{\"type\":\"scatterpolar\",\"marker\":{\"colorbar\":{\"outlinewidth\":0,\"ticks\":\"\"}}}],\"histogram\":[{\"marker\":{\"pattern\":{\"fillmode\":\"overlay\",\"size\":10,\"solidity\":0.2}},\"type\":\"histogram\"}],\"scattergl\":[{\"type\":\"scattergl\",\"marker\":{\"colorbar\":{\"outlinewidth\":0,\"ticks\":\"\"}}}],\"scatter3d\":[{\"type\":\"scatter3d\",\"line\":{\"colorbar\":{\"outlinewidth\":0,\"ticks\":\"\"}},\"marker\":{\"colorbar\":{\"outlinewidth\":0,\"ticks\":\"\"}}}],\"scattermapbox\":[{\"type\":\"scattermapbox\",\"marker\":{\"colorbar\":{\"outlinewidth\":0,\"ticks\":\"\"}}}],\"scatterternary\":[{\"type\":\"scatterternary\",\"marker\":{\"colorbar\":{\"outlinewidth\":0,\"ticks\":\"\"}}}],\"scattercarpet\":[{\"type\":\"scattercarpet\",\"marker\":{\"colorbar\":{\"outlinewidth\":0,\"ticks\":\"\"}}}],\"carpet\":[{\"aaxis\":{\"endlinecolor\":\"#2a3f5f\",\"gridcolor\":\"white\",\"linecolor\":\"white\",\"minorgridcolor\":\"white\",\"startlinecolor\":\"#2a3f5f\"},\"baxis\":{\"endlinecolor\":\"#2a3f5f\",\"gridcolor\":\"white\",\"linecolor\":\"white\",\"minorgridcolor\":\"white\",\"startlinecolor\":\"#2a3f5f\"},\"type\":\"carpet\"}],\"table\":[{\"cells\":{\"fill\":{\"color\":\"#EBF0F8\"},\"line\":{\"color\":\"white\"}},\"header\":{\"fill\":{\"color\":\"#C8D4E3\"},\"line\":{\"color\":\"white\"}},\"type\":\"table\"}],\"barpolar\":[{\"marker\":{\"line\":{\"color\":\"#E5ECF6\",\"width\":0.5},\"pattern\":{\"fillmode\":\"overlay\",\"size\":10,\"solidity\":0.2}},\"type\":\"barpolar\"}],\"pie\":[{\"automargin\":true,\"type\":\"pie\"}]},\"layout\":{\"autotypenumbers\":\"strict\",\"colorway\":[\"#636efa\",\"#EF553B\",\"#00cc96\",\"#ab63fa\",\"#FFA15A\",\"#19d3f3\",\"#FF6692\",\"#B6E880\",\"#FF97FF\",\"#FECB52\"],\"font\":{\"color\":\"#2a3f5f\"},\"hovermode\":\"closest\",\"hoverlabel\":{\"align\":\"left\"},\"paper_bgcolor\":\"white\",\"plot_bgcolor\":\"#E5ECF6\",\"polar\":{\"bgcolor\":\"#E5ECF6\",\"angularaxis\":{\"gridcolor\":\"white\",\"linecolor\":\"white\",\"ticks\":\"\"},\"radialaxis\":{\"gridcolor\":\"white\",\"linecolor\":\"white\",\"ticks\":\"\"}},\"ternary\":{\"bgcolor\":\"#E5ECF6\",\"aaxis\":{\"gridcolor\":\"white\",\"linecolor\":\"white\",\"ticks\":\"\"},\"baxis\":{\"gridcolor\":\"white\",\"linecolor\":\"white\",\"ticks\":\"\"},\"caxis\":{\"gridcolor\":\"white\",\"linecolor\":\"white\",\"ticks\":\"\"}},\"coloraxis\":{\"colorbar\":{\"outlinewidth\":0,\"ticks\":\"\"}},\"colorscale\":{\"sequential\":[[0.0,\"#0d0887\"],[0.1111111111111111,\"#46039f\"],[0.2222222222222222,\"#7201a8\"],[0.3333333333333333,\"#9c179e\"],[0.4444444444444444,\"#bd3786\"],[0.5555555555555556,\"#d8576b\"],[0.6666666666666666,\"#ed7953\"],[0.7777777777777778,\"#fb9f3a\"],[0.8888888888888888,\"#fdca26\"],[1.0,\"#f0f921\"]],\"sequentialminus\":[[0.0,\"#0d0887\"],[0.1111111111111111,\"#46039f\"],[0.2222222222222222,\"#7201a8\"],[0.3333333333333333,\"#9c179e\"],[0.4444444444444444,\"#bd3786\"],[0.5555555555555556,\"#d8576b\"],[0.6666666666666666,\"#ed7953\"],[0.7777777777777778,\"#fb9f3a\"],[0.8888888888888888,\"#fdca26\"],[1.0,\"#f0f921\"]],\"diverging\":[[0,\"#8e0152\"],[0.1,\"#c51b7d\"],[0.2,\"#de77ae\"],[0.3,\"#f1b6da\"],[0.4,\"#fde0ef\"],[0.5,\"#f7f7f7\"],[0.6,\"#e6f5d0\"],[0.7,\"#b8e186\"],[0.8,\"#7fbc41\"],[0.9,\"#4d9221\"],[1,\"#276419\"]]},\"xaxis\":{\"gridcolor\":\"white\",\"linecolor\":\"white\",\"ticks\":\"\",\"title\":{\"standoff\":15},\"zerolinecolor\":\"white\",\"automargin\":true,\"zerolinewidth\":2},\"yaxis\":{\"gridcolor\":\"white\",\"linecolor\":\"white\",\"ticks\":\"\",\"title\":{\"standoff\":15},\"zerolinecolor\":\"white\",\"automargin\":true,\"zerolinewidth\":2},\"scene\":{\"xaxis\":{\"backgroundcolor\":\"#E5ECF6\",\"gridcolor\":\"white\",\"linecolor\":\"white\",\"showbackground\":true,\"ticks\":\"\",\"zerolinecolor\":\"white\",\"gridwidth\":2},\"yaxis\":{\"backgroundcolor\":\"#E5ECF6\",\"gridcolor\":\"white\",\"linecolor\":\"white\",\"showbackground\":true,\"ticks\":\"\",\"zerolinecolor\":\"white\",\"gridwidth\":2},\"zaxis\":{\"backgroundcolor\":\"#E5ECF6\",\"gridcolor\":\"white\",\"linecolor\":\"white\",\"showbackground\":true,\"ticks\":\"\",\"zerolinecolor\":\"white\",\"gridwidth\":2}},\"shapedefaults\":{\"line\":{\"color\":\"#2a3f5f\"}},\"annotationdefaults\":{\"arrowcolor\":\"#2a3f5f\",\"arrowhead\":0,\"arrowwidth\":1},\"geo\":{\"bgcolor\":\"white\",\"landcolor\":\"#E5ECF6\",\"subunitcolor\":\"white\",\"showland\":true,\"showlakes\":true,\"lakecolor\":\"white\"},\"title\":{\"x\":0.05},\"mapbox\":{\"style\":\"light\"}}},\"xaxis\":{\"anchor\":\"y\",\"domain\":[0.0,1.0],\"title\":{\"text\":\"seats\"}},\"yaxis\":{\"anchor\":\"x\",\"domain\":[0.0,1.0],\"title\":{\"text\":\"selling_price\"}},\"legend\":{\"tracegroupgap\":0},\"margin\":{\"t\":60}},                        {\"responsive\": true}                    ).then(function(){\n",
       "                            \n",
       "var gd = document.getElementById('626541f2-4fe0-4e7a-9dd1-f7b04617fc41');\n",
       "var x = new MutationObserver(function (mutations, observer) {{\n",
       "        var display = window.getComputedStyle(gd).display;\n",
       "        if (!display || display === 'none') {{\n",
       "            console.log([gd, 'removed!']);\n",
       "            Plotly.purge(gd);\n",
       "            observer.disconnect();\n",
       "        }}\n",
       "}});\n",
       "\n",
       "// Listen for the removal of the full notebook cells\n",
       "var notebookContainer = gd.closest('#notebook-container');\n",
       "if (notebookContainer) {{\n",
       "    x.observe(notebookContainer, {childList: true});\n",
       "}}\n",
       "\n",
       "// Listen for the clearing of the current output cell\n",
       "var outputEl = gd.closest('.output');\n",
       "if (outputEl) {{\n",
       "    x.observe(outputEl, {childList: true});\n",
       "}}\n",
       "\n",
       "                        })                };                });            </script>        </div>"
      ]
     },
     "metadata": {},
     "output_type": "display_data"
    }
   ],
   "source": [
    "#observing The impact of seats on the price of car\n",
    "avg_price_for_seats = df1.groupby(\"seats\").selling_price.mean().reset_index()\n",
    "fig = px.line(avg_price_for_seats, x='seats', y='selling_price', text=\"seats\")\n",
    "fig.update_traces(textposition=\"top right\")\n",
    "fig.show()"
   ]
  },
  {
   "cell_type": "code",
   "execution_count": 23,
   "id": "c4cffa08",
   "metadata": {},
   "outputs": [],
   "source": [
    "#we create a new column for km driven so as to group it for data analysis\n",
    "df1['km_drivem_per1000']=df1['km_driven']/1000"
   ]
  },
  {
   "cell_type": "code",
   "execution_count": 24,
   "id": "50981b6c",
   "metadata": {},
   "outputs": [],
   "source": [
    "#we create a function which counts km driven \n",
    "def counter(x):\n",
    "    if x<20:\n",
    "        return '0-20'\n",
    "    elif x>=20 and x<40:\n",
    "        return '20-40'\n",
    "    elif x>=40 and x<60:\n",
    "        return '40-60'\n",
    "    elif x>=60 and x<80:\n",
    "        return '60-80'\n",
    "    elif x>=80 and x<100:\n",
    "        return '80-100'\n",
    "    elif x>=100 and x<150:\n",
    "        return '100-150'\n",
    "    elif x>=150 and x<200:\n",
    "        return '150-200'\n",
    "    elif x>=200 and x<250:\n",
    "        return '200-250'\n",
    "    else :\n",
    "        return '250+'"
   ]
  },
  {
   "cell_type": "code",
   "execution_count": 25,
   "id": "c5188a9a",
   "metadata": {},
   "outputs": [
    {
     "data": {
      "image/png": "[encoded data removed]",
      "text/plain": [
       "<Figure size 432x288 with 1 Axes>"
      ]
     },
     "metadata": {
      "needs_background": "light"
     },
     "output_type": "display_data"
    }
   ],
   "source": [
    "#Observving Km driven and their selling price\n",
    "df1['km_range']=df1['km_drivem_per1000'].apply(counter)\n",
    "avg_price_per_category = df1.groupby('km_range').mean()['selling_price']\n",
    "avg_price_per_category=avg_price_per_category.sort_index().to_frame()\n",
    "reorderlist = ['0-20','20-40','40-60','60-80','80-100','100-150','150-200','200-250','250+']\n",
    "avg_price_per_category=avg_price_per_category.reindex(reorderlist)\n",
    "\n",
    "plt.xlabel('km driven per 1000 km')\n",
    "plt.ylabel('Selling Price in Million ')\n",
    "plt.plot(avg_price_per_category.index,avg_price_per_category.selling_price,color='red',linewidth=1.2)\n",
    "sns.set(rc={'figure.figsize':(12,10)})\n",
    "plt.show()"
   ]
  },
  {
   "cell_type": "code",
   "execution_count": 26,
   "id": "ea21ff31",
   "metadata": {},
   "outputs": [
    {
     "data": {
      "text/plain": [
       "<AxesSubplot:xlabel='owner', ylabel='selling_price'>"
      ]
     },
     "execution_count": 26,
     "metadata": {},
     "output_type": "execute_result"
    },
    {
     "data": {
      "image/png": "[encoded data removed]",
      "text/plain": [
       "<Figure size 1440x1440 with 4 Axes>"
      ]
     },
     "metadata": {},
     "output_type": "display_data"
    }
   ],
   "source": [
    "#Observing the relation of Fuel, Seller Type, Transmission and Owner's Relation with Selling Price\n",
    "avg_price_fuel = df.groupby(\"fuel\").selling_price.mean().reset_index()\n",
    "avg_price_seller_type = df.groupby(\"seller_type\").selling_price.mean().reset_index()\n",
    "avg_price_transmission = df.groupby(\"transmission\").selling_price.mean().reset_index()\n",
    "avg_price_owner = df.groupby(\"owner\").selling_price.mean().reset_index()\n",
    "\n",
    "\n",
    "fig, axes = plt.subplots(nrows=2, ncols=2, figsize=(20,20))\n",
    "sns.barplot(data=avg_price_fuel, x='fuel', y='selling_price',ax=axes[0,0],palette=\"Greens\")\n",
    "sns.barplot(data=avg_price_seller_type, x='seller_type', y='selling_price',ax=axes[0,1],\n",
    "palette=\"Greys\")\n",
    "sns.barplot(data=avg_price_transmission, x='transmission', y='selling_price',ax=axes[1,0],\n",
    "palette=\"Oranges\")\n",
    "sns.barplot(data=avg_price_owner, x='owner', y='selling_price',ax=axes[1,1],\n",
    "palette=\"PuBu\")"
   ]
  },
  {
   "cell_type": "code",
   "execution_count": 27,
   "id": "5680f306",
   "metadata": {},
   "outputs": [
    {
     "data": {
      "application/vnd.plotly.v1+json": {
       "config": {
        "plotlyServerURL": "https://plot.ly"
       },
       "data": [
        {
         "hovertemplate": "Company=%{x}<br>selling_price=%{y}<extra></extra>",
         "legendgroup": "",
         "line": {
          "color": "#636efa",
          "dash": "solid"
         },
         "marker": {
          "symbol": "circle"
         },
         "mode": "lines",
         "name": "",
         "orientation": "v",
         "showlegend": false,
         "textposition": "top right",
         "type": "scatter",
         "x": [
          "Ambassador",
          "Ashok",
          "Audi",
          "BMW",
          "Chevrolet",
          "Daewoo",
          "Datsun",
          "Fiat",
          "Force",
          "Ford",
          "Honda",
          "Hyundai",
          "Isuzu",
          "Jaguar",
          "Jeep",
          "Kia",
          "Land",
          "Lexus",
          "MG",
          "Mahindra",
          "Maruti",
          "Mercedes-Benz",
          "Mitsubishi",
          "Nissan",
          "Opel",
          "Renault",
          "Skoda",
          "Tata",
          "Toyota",
          "Volkswagen",
          "Volvo"
         ],
         "xaxis": "x",
         "y": [
          124000,
          300000,
          2612199.925,
          4153813.559322034,
          273867.47826086957,
          77000,
          314599.95384615386,
          317195.0731707317,
          887500,
          520873.67268041236,
          596920.8862660944,
          473280.475,
          1942000,
          2915464.7887323946,
          2149612.870967742,
          1504500,
          3608333.3333333335,
          5150000,
          1783333.3333333333,
          630021.0699208443,
          408872.2005912162,
          2470444.4444444445,
          817500,
          465407.35802469135,
          68000,
          462618.38157894736,
          609721.1153846154,
          361853.82753824757,
          1011920.3053097345,
          489891.8756756757,
          3272014.925373134
         ],
         "yaxis": "y"
        }
       ],
       "layout": {
        "legend": {
         "tracegroupgap": 0
        },
        "margin": {
         "t": 60
        },
        "template": {
         "data": {
          "bar": [
           {
            "error_x": {
             "color": "#2a3f5f"
            },
            "error_y": {
             "color": "#2a3f5f"
            },
            "marker": {
             "line": {
              "color": "#E5ECF6",
              "width": 0.5
             },
             "pattern": {
              "fillmode": "overlay",
              "size": 10,
              "solidity": 0.2
             }
            },
            "type": "bar"
           }
          ],
          "barpolar": [
           {
            "marker": {
             "line": {
              "color": "#E5ECF6",
              "width": 0.5
             },
             "pattern": {
              "fillmode": "overlay",
              "size": 10,
              "solidity": 0.2
             }
            },
            "type": "barpolar"
           }
          ],
          "carpet": [
           {
            "aaxis": {
             "endlinecolor": "#2a3f5f",
             "gridcolor": "white",
             "linecolor": "white",
             "minorgridcolor": "white",
             "startlinecolor": "#2a3f5f"
            },
            "baxis": {
             "endlinecolor": "#2a3f5f",
             "gridcolor": "white",
             "linecolor": "white",
             "minorgridcolor": "white",
             "startlinecolor": "#2a3f5f"
            },
            "type": "carpet"
           }
          ],
          "choropleth": [
           {
            "colorbar": {
             "outlinewidth": 0,
             "ticks": ""
            },
            "type": "choropleth"
           }
          ],
          "contour": [
           {
            "colorbar": {
             "outlinewidth": 0,
             "ticks": ""
            },
            "colorscale": [
             [
              0,
              "#0d0887"
             ],
             [
              0.1111111111111111,
              "#46039f"
             ],
             [
              0.2222222222222222,
              "#7201a8"
             ],
             [
              0.3333333333333333,
              "#9c179e"
             ],
             [
              0.4444444444444444,
              "#bd3786"
             ],
             [
              0.5555555555555556,
              "#d8576b"
             ],
             [
              0.6666666666666666,
              "#ed7953"
             ],
             [
              0.7777777777777778,
              "#fb9f3a"
             ],
             [
              0.8888888888888888,
              "#fdca26"
             ],
             [
              1,
              "#f0f921"
             ]
            ],
            "type": "contour"
           }
          ],
          "contourcarpet": [
           {
            "colorbar": {
             "outlinewidth": 0,
             "ticks": ""
            },
            "type": "contourcarpet"
           }
          ],
          "heatmap": [
           {
            "colorbar": {
             "outlinewidth": 0,
             "ticks": ""
            },
            "colorscale": [
             [
              0,
              "#0d0887"
             ],
             [
              0.1111111111111111,
              "#46039f"
             ],
             [
              0.2222222222222222,
              "#7201a8"
             ],
             [
              0.3333333333333333,
              "#9c179e"
             ],
             [
              0.4444444444444444,
              "#bd3786"
             ],
             [
              0.5555555555555556,
              "#d8576b"
             ],
             [
              0.6666666666666666,
              "#ed7953"
             ],
             [
              0.7777777777777778,
              "#fb9f3a"
             ],
             [
              0.8888888888888888,
              "#fdca26"
             ],
             [
              1,
              "#f0f921"
             ]
            ],
            "type": "heatmap"
           }
          ],
          "heatmapgl": [
           {
            "colorbar": {
             "outlinewidth": 0,
             "ticks": ""
            },
            "colorscale": [
             [
              0,
              "#0d0887"
             ],
             [
              0.1111111111111111,
              "#46039f"
             ],
             [
              0.2222222222222222,
              "#7201a8"
             ],
             [
              0.3333333333333333,
              "#9c179e"
             ],
             [
              0.4444444444444444,
              "#bd3786"
             ],
             [
              0.5555555555555556,
              "#d8576b"
             ],
             [
              0.6666666666666666,
              "#ed7953"
             ],
             [
              0.7777777777777778,
              "#fb9f3a"
             ],
             [
              0.8888888888888888,
              "#fdca26"
             ],
             [
              1,
              "#f0f921"
             ]
            ],
            "type": "heatmapgl"
           }
          ],
          "histogram": [
           {
            "marker": {
             "pattern": {
              "fillmode": "overlay",
              "size": 10,
              "solidity": 0.2
             }
            },
            "type": "histogram"
           }
          ],
          "histogram2d": [
           {
            "colorbar": {
             "outlinewidth": 0,
             "ticks": ""
            },
            "colorscale": [
             [
              0,
              "#0d0887"
             ],
             [
              0.1111111111111111,
              "#46039f"
             ],
             [
              0.2222222222222222,
              "#7201a8"
             ],
             [
              0.3333333333333333,
              "#9c179e"
             ],
             [
              0.4444444444444444,
              "#bd3786"
             ],
             [
              0.5555555555555556,
              "#d8576b"
             ],
             [
              0.6666666666666666,
              "#ed7953"
             ],
             [
              0.7777777777777778,
              "#fb9f3a"
             ],
             [
              0.8888888888888888,
              "#fdca26"
             ],
             [
              1,
              "#f0f921"
             ]
            ],
            "type": "histogram2d"
           }
          ],
          "histogram2dcontour": [
           {
            "colorbar": {
             "outlinewidth": 0,
             "ticks": ""
            },
            "colorscale": [
             [
              0,
              "#0d0887"
             ],
             [
              0.1111111111111111,
              "#46039f"
             ],
             [
              0.2222222222222222,
              "#7201a8"
             ],
             [
              0.3333333333333333,
              "#9c179e"
             ],
             [
              0.4444444444444444,
              "#bd3786"
             ],
             [
              0.5555555555555556,
              "#d8576b"
             ],
             [
              0.6666666666666666,
              "#ed7953"
             ],
             [
              0.7777777777777778,
              "#fb9f3a"
             ],
             [
              0.8888888888888888,
              "#fdca26"
             ],
             [
              1,
              "#f0f921"
             ]
            ],
            "type": "histogram2dcontour"
           }
          ],
          "mesh3d": [
           {
            "colorbar": {
             "outlinewidth": 0,
             "ticks": ""
            },
            "type": "mesh3d"
           }
          ],
          "parcoords": [
           {
            "line": {
             "colorbar": {
              "outlinewidth": 0,
              "ticks": ""
             }
            },
            "type": "parcoords"
           }
          ],
          "pie": [
           {
            "automargin": true,
            "type": "pie"
           }
          ],
          "scatter": [
           {
            "fillpattern": {
             "fillmode": "overlay",
             "size": 10,
             "solidity": 0.2
            },
            "type": "scatter"
           }
          ],
          "scatter3d": [
           {
            "line": {
             "colorbar": {
              "outlinewidth": 0,
              "ticks": ""
             }
            },
            "marker": {
             "colorbar": {
              "outlinewidth": 0,
              "ticks": ""
             }
            },
            "type": "scatter3d"
           }
          ],
          "scattercarpet": [
           {
            "marker": {
             "colorbar": {
              "outlinewidth": 0,
              "ticks": ""
             }
            },
            "type": "scattercarpet"
           }
          ],
          "scattergeo": [
           {
            "marker": {
             "colorbar": {
              "outlinewidth": 0,
              "ticks": ""
             }
            },
            "type": "scattergeo"
           }
          ],
          "scattergl": [
           {
            "marker": {
             "colorbar": {
              "outlinewidth": 0,
              "ticks": ""
             }
            },
            "type": "scattergl"
           }
          ],
          "scattermapbox": [
           {
            "marker": {
             "colorbar": {
              "outlinewidth": 0,
              "ticks": ""
             }
            },
            "type": "scattermapbox"
           }
          ],
          "scatterpolar": [
           {
            "marker": {
             "colorbar": {
              "outlinewidth": 0,
              "ticks": ""
             }
            },
            "type": "scatterpolar"
           }
          ],
          "scatterpolargl": [
           {
            "marker": {
             "colorbar": {
              "outlinewidth": 0,
              "ticks": ""
             }
            },
            "type": "scatterpolargl"
           }
          ],
          "scatterternary": [
           {
            "marker": {
             "colorbar": {
              "outlinewidth": 0,
              "ticks": ""
             }
            },
            "type": "scatterternary"
           }
          ],
          "surface": [
           {
            "colorbar": {
             "outlinewidth": 0,
             "ticks": ""
            },
            "colorscale": [
             [
              0,
              "#0d0887"
             ],
             [
              0.1111111111111111,
              "#46039f"
             ],
             [
              0.2222222222222222,
              "#7201a8"
             ],
             [
              0.3333333333333333,
              "#9c179e"
             ],
             [
              0.4444444444444444,
              "#bd3786"
             ],
             [
              0.5555555555555556,
              "#d8576b"
             ],
             [
              0.6666666666666666,
              "#ed7953"
             ],
             [
              0.7777777777777778,
              "#fb9f3a"
             ],
             [
              0.8888888888888888,
              "#fdca26"
             ],
             [
              1,
              "#f0f921"
             ]
            ],
            "type": "surface"
           }
          ],
          "table": [
           {
            "cells": {
             "fill": {
              "color": "#EBF0F8"
             },
             "line": {
              "color": "white"
             }
            },
            "header": {
             "fill": {
              "color": "#C8D4E3"
             },
             "line": {
              "color": "white"
             }
            },
            "type": "table"
           }
          ]
         },
         "layout": {
          "annotationdefaults": {
           "arrowcolor": "#2a3f5f",
           "arrowhead": 0,
           "arrowwidth": 1
          },
          "autotypenumbers": "strict",
          "coloraxis": {
           "colorbar": {
            "outlinewidth": 0,
            "ticks": ""
           }
          },
          "colorscale": {
           "diverging": [
            [
             0,
             "#8e0152"
            ],
            [
             0.1,
             "#c51b7d"
            ],
            [
             0.2,
             "#de77ae"
            ],
            [
             0.3,
             "#f1b6da"
            ],
            [
             0.4,
             "#fde0ef"
            ],
            [
             0.5,
             "#f7f7f7"
            ],
            [
             0.6,
             "#e6f5d0"
            ],
            [
             0.7,
             "#b8e186"
            ],
            [
             0.8,
             "#7fbc41"
            ],
            [
             0.9,
             "#4d9221"
            ],
            [
             1,
             "#276419"
            ]
           ],
           "sequential": [
            [
             0,
             "#0d0887"
            ],
            [
             0.1111111111111111,
             "#46039f"
            ],
            [
             0.2222222222222222,
             "#7201a8"
            ],
            [
             0.3333333333333333,
             "#9c179e"
            ],
            [
             0.4444444444444444,
             "#bd3786"
            ],
            [
             0.5555555555555556,
             "#d8576b"
            ],
            [
             0.6666666666666666,
             "#ed7953"
            ],
            [
             0.7777777777777778,
             "#fb9f3a"
            ],
            [
             0.8888888888888888,
             "#fdca26"
            ],
            [
             1,
             "#f0f921"
            ]
           ],
           "sequentialminus": [
            [
             0,
             "#0d0887"
            ],
            [
             0.1111111111111111,
             "#46039f"
            ],
            [
             0.2222222222222222,
             "#7201a8"
            ],
            [
             0.3333333333333333,
             "#9c179e"
            ],
            [
             0.4444444444444444,
             "#bd3786"
            ],
            [
             0.5555555555555556,
             "#d8576b"
            ],
            [
             0.6666666666666666,
             "#ed7953"
            ],
            [
             0.7777777777777778,
             "#fb9f3a"
            ],
            [
             0.8888888888888888,
             "#fdca26"
            ],
            [
             1,
             "#f0f921"
            ]
           ]
          },
          "colorway": [
           "#636efa",
           "#EF553B",
           "#00cc96",
           "#ab63fa",
           "#FFA15A",
           "#19d3f3",
           "#FF6692",
           "#B6E880",
           "#FF97FF",
           "#FECB52"
          ],
          "font": {
           "color": "#2a3f5f"
          },
          "geo": {
           "bgcolor": "white",
           "lakecolor": "white",
           "landcolor": "#E5ECF6",
           "showlakes": true,
           "showland": true,
           "subunitcolor": "white"
          },
          "hoverlabel": {
           "align": "left"
          },
          "hovermode": "closest",
          "mapbox": {
           "style": "light"
          },
          "paper_bgcolor": "white",
          "plot_bgcolor": "#E5ECF6",
          "polar": {
           "angularaxis": {
            "gridcolor": "white",
            "linecolor": "white",
            "ticks": ""
           },
           "bgcolor": "#E5ECF6",
           "radialaxis": {
            "gridcolor": "white",
            "linecolor": "white",
            "ticks": ""
           }
          },
          "scene": {
           "xaxis": {
            "backgroundcolor": "#E5ECF6",
            "gridcolor": "white",
            "gridwidth": 2,
            "linecolor": "white",
            "showbackground": true,
            "ticks": "",
            "zerolinecolor": "white"
           },
           "yaxis": {
            "backgroundcolor": "#E5ECF6",
            "gridcolor": "white",
            "gridwidth": 2,
            "linecolor": "white",
            "showbackground": true,
            "ticks": "",
            "zerolinecolor": "white"
           },
           "zaxis": {
            "backgroundcolor": "#E5ECF6",
            "gridcolor": "white",
            "gridwidth": 2,
            "linecolor": "white",
            "showbackground": true,
            "ticks": "",
            "zerolinecolor": "white"
           }
          },
          "shapedefaults": {
           "line": {
            "color": "#2a3f5f"
           }
          },
          "ternary": {
           "aaxis": {
            "gridcolor": "white",
            "linecolor": "white",
            "ticks": ""
           },
           "baxis": {
            "gridcolor": "white",
            "linecolor": "white",
            "ticks": ""
           },
           "bgcolor": "#E5ECF6",
           "caxis": {
            "gridcolor": "white",
            "linecolor": "white",
            "ticks": ""
           }
          },
          "title": {
           "x": 0.05
          },
          "xaxis": {
           "automargin": true,
           "gridcolor": "white",
           "linecolor": "white",
           "ticks": "",
           "title": {
            "standoff": 15
           },
           "zerolinecolor": "white",
           "zerolinewidth": 2
          },
          "yaxis": {
           "automargin": true,
           "gridcolor": "white",
           "linecolor": "white",
           "ticks": "",
           "title": {
            "standoff": 15
           },
           "zerolinecolor": "white",
           "zerolinewidth": 2
          }
         }
        },
        "xaxis": {
         "anchor": "y",
         "domain": [
          0,
          1
         ],
         "title": {
          "text": "Company"
         }
        },
        "yaxis": {
         "anchor": "x",
         "domain": [
          0,
          1
         ],
         "title": {
          "text": "selling_price"
         }
        }
       }
      },
      "text/html": [
       "<div>                            <div id=\"f0094cf5-1c2c-416e-bae2-1d3db20feb11\" class=\"plotly-graph-div\" style=\"height:525px; width:100%;\"></div>            <script type=\"text/javascript\">                require([\"plotly\"], function(Plotly) {                    window.PLOTLYENV=window.PLOTLYENV || {};                                    if (document.getElementById(\"f0094cf5-1c2c-416e-bae2-1d3db20feb11\")) {                    Plotly.newPlot(                        \"f0094cf5-1c2c-416e-bae2-1d3db20feb11\",                        [{\"hovertemplate\":\"Company=%{x}<br>selling_price=%{y}<extra></extra>\",\"legendgroup\":\"\",\"line\":{\"color\":\"#636efa\",\"dash\":\"solid\"},\"marker\":{\"symbol\":\"circle\"},\"mode\":\"lines\",\"name\":\"\",\"orientation\":\"v\",\"showlegend\":false,\"x\":[\"Ambassador\",\"Ashok\",\"Audi\",\"BMW\",\"Chevrolet\",\"Daewoo\",\"Datsun\",\"Fiat\",\"Force\",\"Ford\",\"Honda\",\"Hyundai\",\"Isuzu\",\"Jaguar\",\"Jeep\",\"Kia\",\"Land\",\"Lexus\",\"MG\",\"Mahindra\",\"Maruti\",\"Mercedes-Benz\",\"Mitsubishi\",\"Nissan\",\"Opel\",\"Renault\",\"Skoda\",\"Tata\",\"Toyota\",\"Volkswagen\",\"Volvo\"],\"xaxis\":\"x\",\"y\":[124000.0,300000.0,2612199.925,4153813.559322034,273867.47826086957,77000.0,314599.95384615386,317195.0731707317,887500.0,520873.67268041236,596920.8862660944,473280.475,1942000.0,2915464.7887323946,2149612.870967742,1504500.0,3608333.3333333335,5150000.0,1783333.3333333333,630021.0699208443,408872.2005912162,2470444.4444444445,817500.0,465407.35802469135,68000.0,462618.38157894736,609721.1153846154,361853.82753824757,1011920.3053097345,489891.8756756757,3272014.925373134],\"yaxis\":\"y\",\"type\":\"scatter\",\"textposition\":\"top right\"}],                        {\"template\":{\"data\":{\"histogram2dcontour\":[{\"type\":\"histogram2dcontour\",\"colorbar\":{\"outlinewidth\":0,\"ticks\":\"\"},\"colorscale\":[[0.0,\"#0d0887\"],[0.1111111111111111,\"#46039f\"],[0.2222222222222222,\"#7201a8\"],[0.3333333333333333,\"#9c179e\"],[0.4444444444444444,\"#bd3786\"],[0.5555555555555556,\"#d8576b\"],[0.6666666666666666,\"#ed7953\"],[0.7777777777777778,\"#fb9f3a\"],[0.8888888888888888,\"#fdca26\"],[1.0,\"#f0f921\"]]}],\"choropleth\":[{\"type\":\"choropleth\",\"colorbar\":{\"outlinewidth\":0,\"ticks\":\"\"}}],\"histogram2d\":[{\"type\":\"histogram2d\",\"colorbar\":{\"outlinewidth\":0,\"ticks\":\"\"},\"colorscale\":[[0.0,\"#0d0887\"],[0.1111111111111111,\"#46039f\"],[0.2222222222222222,\"#7201a8\"],[0.3333333333333333,\"#9c179e\"],[0.4444444444444444,\"#bd3786\"],[0.5555555555555556,\"#d8576b\"],[0.6666666666666666,\"#ed7953\"],[0.7777777777777778,\"#fb9f3a\"],[0.8888888888888888,\"#fdca26\"],[1.0,\"#f0f921\"]]}],\"heatmap\":[{\"type\":\"heatmap\",\"colorbar\":{\"outlinewidth\":0,\"ticks\":\"\"},\"colorscale\":[[0.0,\"#0d0887\"],[0.1111111111111111,\"#46039f\"],[0.2222222222222222,\"#7201a8\"],[0.3333333333333333,\"#9c179e\"],[0.4444444444444444,\"#bd3786\"],[0.5555555555555556,\"#d8576b\"],[0.6666666666666666,\"#ed7953\"],[0.7777777777777778,\"#fb9f3a\"],[0.8888888888888888,\"#fdca26\"],[1.0,\"#f0f921\"]]}],\"heatmapgl\":[{\"type\":\"heatmapgl\",\"colorbar\":{\"outlinewidth\":0,\"ticks\":\"\"},\"colorscale\":[[0.0,\"#0d0887\"],[0.1111111111111111,\"#46039f\"],[0.2222222222222222,\"#7201a8\"],[0.3333333333333333,\"#9c179e\"],[0.4444444444444444,\"#bd3786\"],[0.5555555555555556,\"#d8576b\"],[0.6666666666666666,\"#ed7953\"],[0.7777777777777778,\"#fb9f3a\"],[0.8888888888888888,\"#fdca26\"],[1.0,\"#f0f921\"]]}],\"contourcarpet\":[{\"type\":\"contourcarpet\",\"colorbar\":{\"outlinewidth\":0,\"ticks\":\"\"}}],\"contour\":[{\"type\":\"contour\",\"colorbar\":{\"outlinewidth\":0,\"ticks\":\"\"},\"colorscale\":[[0.0,\"#0d0887\"],[0.1111111111111111,\"#46039f\"],[0.2222222222222222,\"#7201a8\"],[0.3333333333333333,\"#9c179e\"],[0.4444444444444444,\"#bd3786\"],[0.5555555555555556,\"#d8576b\"],[0.6666666666666666,\"#ed7953\"],[0.7777777777777778,\"#fb9f3a\"],[0.8888888888888888,\"#fdca26\"],[1.0,\"#f0f921\"]]}],\"surface\":[{\"type\":\"surface\",\"colorbar\":{\"outlinewidth\":0,\"ticks\":\"\"},\"colorscale\":[[0.0,\"#0d0887\"],[0.1111111111111111,\"#46039f\"],[0.2222222222222222,\"#7201a8\"],[0.3333333333333333,\"#9c179e\"],[0.4444444444444444,\"#bd3786\"],[0.5555555555555556,\"#d8576b\"],[0.6666666666666666,\"#ed7953\"],[0.7777777777777778,\"#fb9f3a\"],[0.8888888888888888,\"#fdca26\"],[1.0,\"#f0f921\"]]}],\"mesh3d\":[{\"type\":\"mesh3d\",\"colorbar\":{\"outlinewidth\":0,\"ticks\":\"\"}}],\"scatter\":[{\"fillpattern\":{\"fillmode\":\"overlay\",\"size\":10,\"solidity\":0.2},\"type\":\"scatter\"}],\"parcoords\":[{\"type\":\"parcoords\",\"line\":{\"colorbar\":{\"outlinewidth\":0,\"ticks\":\"\"}}}],\"scatterpolargl\":[{\"type\":\"scatterpolargl\",\"marker\":{\"colorbar\":{\"outlinewidth\":0,\"ticks\":\"\"}}}],\"bar\":[{\"error_x\":{\"color\":\"#2a3f5f\"},\"error_y\":{\"color\":\"#2a3f5f\"},\"marker\":{\"line\":{\"color\":\"#E5ECF6\",\"width\":0.5},\"pattern\":{\"fillmode\":\"overlay\",\"size\":10,\"solidity\":0.2}},\"type\":\"bar\"}],\"scattergeo\":[{\"type\":\"scattergeo\",\"marker\":{\"colorbar\":{\"outlinewidth\":0,\"ticks\":\"\"}}}],\"scatterpolar\":[{\"type\":\"scatterpolar\",\"marker\":{\"colorbar\":{\"outlinewidth\":0,\"ticks\":\"\"}}}],\"histogram\":[{\"marker\":{\"pattern\":{\"fillmode\":\"overlay\",\"size\":10,\"solidity\":0.2}},\"type\":\"histogram\"}],\"scattergl\":[{\"type\":\"scattergl\",\"marker\":{\"colorbar\":{\"outlinewidth\":0,\"ticks\":\"\"}}}],\"scatter3d\":[{\"type\":\"scatter3d\",\"line\":{\"colorbar\":{\"outlinewidth\":0,\"ticks\":\"\"}},\"marker\":{\"colorbar\":{\"outlinewidth\":0,\"ticks\":\"\"}}}],\"scattermapbox\":[{\"type\":\"scattermapbox\",\"marker\":{\"colorbar\":{\"outlinewidth\":0,\"ticks\":\"\"}}}],\"scatterternary\":[{\"type\":\"scatterternary\",\"marker\":{\"colorbar\":{\"outlinewidth\":0,\"ticks\":\"\"}}}],\"scattercarpet\":[{\"type\":\"scattercarpet\",\"marker\":{\"colorbar\":{\"outlinewidth\":0,\"ticks\":\"\"}}}],\"carpet\":[{\"aaxis\":{\"endlinecolor\":\"#2a3f5f\",\"gridcolor\":\"white\",\"linecolor\":\"white\",\"minorgridcolor\":\"white\",\"startlinecolor\":\"#2a3f5f\"},\"baxis\":{\"endlinecolor\":\"#2a3f5f\",\"gridcolor\":\"white\",\"linecolor\":\"white\",\"minorgridcolor\":\"white\",\"startlinecolor\":\"#2a3f5f\"},\"type\":\"carpet\"}],\"table\":[{\"cells\":{\"fill\":{\"color\":\"#EBF0F8\"},\"line\":{\"color\":\"white\"}},\"header\":{\"fill\":{\"color\":\"#C8D4E3\"},\"line\":{\"color\":\"white\"}},\"type\":\"table\"}],\"barpolar\":[{\"marker\":{\"line\":{\"color\":\"#E5ECF6\",\"width\":0.5},\"pattern\":{\"fillmode\":\"overlay\",\"size\":10,\"solidity\":0.2}},\"type\":\"barpolar\"}],\"pie\":[{\"automargin\":true,\"type\":\"pie\"}]},\"layout\":{\"autotypenumbers\":\"strict\",\"colorway\":[\"#636efa\",\"#EF553B\",\"#00cc96\",\"#ab63fa\",\"#FFA15A\",\"#19d3f3\",\"#FF6692\",\"#B6E880\",\"#FF97FF\",\"#FECB52\"],\"font\":{\"color\":\"#2a3f5f\"},\"hovermode\":\"closest\",\"hoverlabel\":{\"align\":\"left\"},\"paper_bgcolor\":\"white\",\"plot_bgcolor\":\"#E5ECF6\",\"polar\":{\"bgcolor\":\"#E5ECF6\",\"angularaxis\":{\"gridcolor\":\"white\",\"linecolor\":\"white\",\"ticks\":\"\"},\"radialaxis\":{\"gridcolor\":\"white\",\"linecolor\":\"white\",\"ticks\":\"\"}},\"ternary\":{\"bgcolor\":\"#E5ECF6\",\"aaxis\":{\"gridcolor\":\"white\",\"linecolor\":\"white\",\"ticks\":\"\"},\"baxis\":{\"gridcolor\":\"white\",\"linecolor\":\"white\",\"ticks\":\"\"},\"caxis\":{\"gridcolor\":\"white\",\"linecolor\":\"white\",\"ticks\":\"\"}},\"coloraxis\":{\"colorbar\":{\"outlinewidth\":0,\"ticks\":\"\"}},\"colorscale\":{\"sequential\":[[0.0,\"#0d0887\"],[0.1111111111111111,\"#46039f\"],[0.2222222222222222,\"#7201a8\"],[0.3333333333333333,\"#9c179e\"],[0.4444444444444444,\"#bd3786\"],[0.5555555555555556,\"#d8576b\"],[0.6666666666666666,\"#ed7953\"],[0.7777777777777778,\"#fb9f3a\"],[0.8888888888888888,\"#fdca26\"],[1.0,\"#f0f921\"]],\"sequentialminus\":[[0.0,\"#0d0887\"],[0.1111111111111111,\"#46039f\"],[0.2222222222222222,\"#7201a8\"],[0.3333333333333333,\"#9c179e\"],[0.4444444444444444,\"#bd3786\"],[0.5555555555555556,\"#d8576b\"],[0.6666666666666666,\"#ed7953\"],[0.7777777777777778,\"#fb9f3a\"],[0.8888888888888888,\"#fdca26\"],[1.0,\"#f0f921\"]],\"diverging\":[[0,\"#8e0152\"],[0.1,\"#c51b7d\"],[0.2,\"#de77ae\"],[0.3,\"#f1b6da\"],[0.4,\"#fde0ef\"],[0.5,\"#f7f7f7\"],[0.6,\"#e6f5d0\"],[0.7,\"#b8e186\"],[0.8,\"#7fbc41\"],[0.9,\"#4d9221\"],[1,\"#276419\"]]},\"xaxis\":{\"gridcolor\":\"white\",\"linecolor\":\"white\",\"ticks\":\"\",\"title\":{\"standoff\":15},\"zerolinecolor\":\"white\",\"automargin\":true,\"zerolinewidth\":2},\"yaxis\":{\"gridcolor\":\"white\",\"linecolor\":\"white\",\"ticks\":\"\",\"title\":{\"standoff\":15},\"zerolinecolor\":\"white\",\"automargin\":true,\"zerolinewidth\":2},\"scene\":{\"xaxis\":{\"backgroundcolor\":\"#E5ECF6\",\"gridcolor\":\"white\",\"linecolor\":\"white\",\"showbackground\":true,\"ticks\":\"\",\"zerolinecolor\":\"white\",\"gridwidth\":2},\"yaxis\":{\"backgroundcolor\":\"#E5ECF6\",\"gridcolor\":\"white\",\"linecolor\":\"white\",\"showbackground\":true,\"ticks\":\"\",\"zerolinecolor\":\"white\",\"gridwidth\":2},\"zaxis\":{\"backgroundcolor\":\"#E5ECF6\",\"gridcolor\":\"white\",\"linecolor\":\"white\",\"showbackground\":true,\"ticks\":\"\",\"zerolinecolor\":\"white\",\"gridwidth\":2}},\"shapedefaults\":{\"line\":{\"color\":\"#2a3f5f\"}},\"annotationdefaults\":{\"arrowcolor\":\"#2a3f5f\",\"arrowhead\":0,\"arrowwidth\":1},\"geo\":{\"bgcolor\":\"white\",\"landcolor\":\"#E5ECF6\",\"subunitcolor\":\"white\",\"showland\":true,\"showlakes\":true,\"lakecolor\":\"white\"},\"title\":{\"x\":0.05},\"mapbox\":{\"style\":\"light\"}}},\"xaxis\":{\"anchor\":\"y\",\"domain\":[0.0,1.0],\"title\":{\"text\":\"Company\"}},\"yaxis\":{\"anchor\":\"x\",\"domain\":[0.0,1.0],\"title\":{\"text\":\"selling_price\"}},\"legend\":{\"tracegroupgap\":0},\"margin\":{\"t\":60}},                        {\"responsive\": true}                    ).then(function(){\n",
       "                            \n",
       "var gd = document.getElementById('f0094cf5-1c2c-416e-bae2-1d3db20feb11');\n",
       "var x = new MutationObserver(function (mutations, observer) {{\n",
       "        var display = window.getComputedStyle(gd).display;\n",
       "        if (!display || display === 'none') {{\n",
       "            console.log([gd, 'removed!']);\n",
       "            Plotly.purge(gd);\n",
       "            observer.disconnect();\n",
       "        }}\n",
       "}});\n",
       "\n",
       "// Listen for the removal of the full notebook cells\n",
       "var notebookContainer = gd.closest('#notebook-container');\n",
       "if (notebookContainer) {{\n",
       "    x.observe(notebookContainer, {childList: true});\n",
       "}}\n",
       "\n",
       "// Listen for the clearing of the current output cell\n",
       "var outputEl = gd.closest('.output');\n",
       "if (outputEl) {{\n",
       "    x.observe(outputEl, {childList: true});\n",
       "}}\n",
       "\n",
       "                        })                };                });            </script>        </div>"
      ]
     },
     "metadata": {},
     "output_type": "display_data"
    }
   ],
   "source": [
    "# Observing Brand name vs Selling Price\n",
    "avg_price_Company = df.groupby(\"Company\").selling_price.mean().reset_index()\n",
    "fig = px.line(avg_price_Company, x='Company', y='selling_price')\n",
    "fig.update_traces(textposition=\"top right\")\n",
    "fig.show()"
   ]
  },
  {
   "cell_type": "markdown",
   "id": "57ded09c",
   "metadata": {},
   "source": [
    "<div style=\"color:white;\n",
    "            display:fill;\n",
    "            border-radius:5px;\n",
    "            background-color:#ffefd5;  \n",
    "            font-size:100%;\n",
    "            theme:cosmo;\n",
    "            letter-spacing:0.5px\">\n",
    "<h3 style=\"padding-left: 20px; padding-top: 20px; color:#4a4a4a; font-family:Arial;\"><b>The above Analysis gives us features which have highest selling price in their respective category </b>\n",
    "</h3>\n",
    "<ol style=\"padding-left: 40px; padding-bottom: 20px; color:#4a4a4a; font-size:110%;\">\n",
    "    <li>People like to pay more for <b>3</b>  year old cars.</li>\n",
    "    <li><b>7</b> seater cars fetch good price.</li>\n",
    "    <li>Its obvious people will pay more for cars which has not been used more so <b>0-20 km</b> driven car sells at higher rate.</li>\n",
    "    <li>Cars operating on <b>Diesel</b> sells at higher price.</li>\n",
    "    <li><b>Dealers</b> have High selling price.</li>\n",
    "    <li>In terms of transmission <b>Automatic</b> transmission gives higher price.</li>\n",
    "    <li><b>Test Drive</b> cars have the highest selling price.</li>\n",
    "    <li><b>Lexus</b> gets the highest selling price in used cars.</li>\n",
    "</ol>\n",
    "</div>"
   ]
  },
  {
   "cell_type": "markdown",
   "id": "e1893164",
   "metadata": {},
   "source": [
    "### 5.Encoding the categorical data"
   ]
  },
  {
   "cell_type": "code",
   "execution_count": 28,
   "id": "c6b9c19a",
   "metadata": {},
   "outputs": [],
   "source": [
    "# encoding the \"fuel\" column\n",
    "df.replace({'fuel':{'Diesel':0,'Petrol':1,'CNG':2,'LPG':3}},inplace=True)\n",
    "\n",
    "# encoding the \"seller_type\" column\n",
    "df.replace({'seller_type':{'Individual':0,'Dealer':1,'Trustmark Dealer':2}},inplace=True)\n",
    "\n",
    "# encoding the \"transmission\" column\n",
    "df.replace({'transmission':{'Manual':0,'Automatic':1}},inplace=True)\n",
    "\n",
    "# encoding the \"owner\" column\n",
    "df.replace({'owner':{'First Owner':0,'Second Owner':1,'Third Owner':2,'Fourth & Above Owner':3,'Test Drive Car':4}},inplace=True)\n",
    "\n",
    "#encoding the 'Company' column\n",
    "df.replace({'Company':{'Ambassador':0,'Ashok':1,'Audi':2,'BMW':3,'Chevrolet':4,'Daewoo':5,'Datsun':6,'Fiat':7,'Force':8,'Ford':9,'Honda':10,\n",
    "                       'Hyundai':11,'Isuzu':12,'Jaguar':13,'Jeep':14,'Kia':15,'Land':16,'Lexus':17,'MG':18,'Mahindra':19,'Maruti':20,'Mercedes-Benz':21,\n",
    "                       'Mitsubishi':22,'Nissan':23,'Opel':24,'Renault':25,'Skoda':26,'Tata':27,'Toyota':28,'Volkswagen':29,'Volvo':30}},inplace=True)"
   ]
  },
  {
   "cell_type": "code",
   "execution_count": 29,
   "id": "b23e14c5",
   "metadata": {},
   "outputs": [],
   "source": [
    "# changing seats from float64 to int\n",
    "df['seats']=df['seats'].astype('int64')"
   ]
  },
  {
   "cell_type": "code",
   "execution_count": 30,
   "id": "8669a8ee",
   "metadata": {},
   "outputs": [
    {
     "data": {
      "text/html": [
       "<style type=\"text/css\">\n",
       "#T_19978_row0_col1, #T_19978_row0_col5, #T_19978_row1_col2, #T_19978_row2_col6, #T_19978_row2_col7, #T_19978_row3_col3, #T_19978_row4_col5, #T_19978_row4_col6, #T_19978_row4_col9, #T_19978_row4_col10, #T_19978_row4_col12, #T_19978_row5_col3, #T_19978_row6_col6, #T_19978_row6_col11, #T_19978_row7_col7, #T_19978_row8_col4, #T_19978_row8_col8, #T_19978_row9_col3, #T_19978_row9_col6 {\n",
       "  background-color: #fde725;\n",
       "  color: #000000;\n",
       "}\n",
       "#T_19978_row0_col2, #T_19978_row9_col2 {\n",
       "  background-color: #31678e;\n",
       "  color: #f1f1f1;\n",
       "}\n",
       "#T_19978_row0_col3, #T_19978_row0_col4, #T_19978_row0_col6, #T_19978_row0_col7, #T_19978_row1_col3, #T_19978_row1_col4, #T_19978_row1_col5, #T_19978_row1_col6, #T_19978_row1_col7, #T_19978_row1_col11, #T_19978_row2_col3, #T_19978_row2_col4, #T_19978_row2_col5, #T_19978_row3_col2, #T_19978_row3_col4, #T_19978_row3_col5, #T_19978_row3_col6, #T_19978_row3_col7, #T_19978_row3_col9, #T_19978_row3_col10, #T_19978_row4_col3, #T_19978_row4_col4, #T_19978_row4_col7, #T_19978_row4_col8, #T_19978_row5_col4, #T_19978_row5_col5, #T_19978_row5_col6, #T_19978_row5_col7, #T_19978_row5_col12, #T_19978_row6_col1, #T_19978_row6_col3, #T_19978_row6_col4, #T_19978_row6_col5, #T_19978_row6_col7, #T_19978_row7_col3, #T_19978_row7_col4, #T_19978_row7_col5, #T_19978_row7_col6, #T_19978_row7_col12, #T_19978_row8_col3, #T_19978_row8_col5, #T_19978_row8_col6, #T_19978_row8_col7, #T_19978_row9_col4, #T_19978_row9_col5, #T_19978_row9_col7, #T_19978_row9_col11 {\n",
       "  background-color: #440154;\n",
       "  color: #f1f1f1;\n",
       "}\n",
       "#T_19978_row0_col8, #T_19978_row7_col8 {\n",
       "  background-color: #2c738e;\n",
       "  color: #f1f1f1;\n",
       "}\n",
       "#T_19978_row0_col9, #T_19978_row2_col9, #T_19978_row7_col9 {\n",
       "  background-color: #29af7f;\n",
       "  color: #f1f1f1;\n",
       "}\n",
       "#T_19978_row0_col10 {\n",
       "  background-color: #d0e11c;\n",
       "  color: #000000;\n",
       "}\n",
       "#T_19978_row0_col11 {\n",
       "  background-color: #472d7b;\n",
       "  color: #f1f1f1;\n",
       "}\n",
       "#T_19978_row0_col12 {\n",
       "  background-color: #2b748e;\n",
       "  color: #f1f1f1;\n",
       "}\n",
       "#T_19978_row1_col1 {\n",
       "  background-color: #481b6d;\n",
       "  color: #f1f1f1;\n",
       "}\n",
       "#T_19978_row1_col8 {\n",
       "  background-color: #69cd5b;\n",
       "  color: #000000;\n",
       "}\n",
       "#T_19978_row1_col9, #T_19978_row1_col10, #T_19978_row4_col1 {\n",
       "  background-color: #38598c;\n",
       "  color: #f1f1f1;\n",
       "}\n",
       "#T_19978_row1_col12 {\n",
       "  background-color: #24878e;\n",
       "  color: #f1f1f1;\n",
       "}\n",
       "#T_19978_row2_col1 {\n",
       "  background-color: #2e6f8e;\n",
       "  color: #f1f1f1;\n",
       "}\n",
       "#T_19978_row2_col2 {\n",
       "  background-color: #f4e61e;\n",
       "  color: #000000;\n",
       "}\n",
       "#T_19978_row2_col8 {\n",
       "  background-color: #33628d;\n",
       "  color: #f1f1f1;\n",
       "}\n",
       "#T_19978_row2_col10 {\n",
       "  background-color: #228c8d;\n",
       "  color: #f1f1f1;\n",
       "}\n",
       "#T_19978_row2_col11, #T_19978_row7_col11 {\n",
       "  background-color: #21918c;\n",
       "  color: #f1f1f1;\n",
       "}\n",
       "#T_19978_row2_col12 {\n",
       "  background-color: #3d4d8a;\n",
       "  color: #f1f1f1;\n",
       "}\n",
       "#T_19978_row3_col1 {\n",
       "  background-color: #48186a;\n",
       "  color: #f1f1f1;\n",
       "}\n",
       "#T_19978_row3_col8 {\n",
       "  background-color: #ece51b;\n",
       "  color: #000000;\n",
       "}\n",
       "#T_19978_row3_col11, #T_19978_row5_col11, #T_19978_row8_col11 {\n",
       "  background-color: #1fa088;\n",
       "  color: #f1f1f1;\n",
       "}\n",
       "#T_19978_row3_col12 {\n",
       "  background-color: #481c6e;\n",
       "  color: #f1f1f1;\n",
       "}\n",
       "#T_19978_row4_col2 {\n",
       "  background-color: #a5db36;\n",
       "  color: #000000;\n",
       "}\n",
       "#T_19978_row4_col11 {\n",
       "  background-color: #28ae80;\n",
       "  color: #f1f1f1;\n",
       "}\n",
       "#T_19978_row5_col1 {\n",
       "  background-color: #404688;\n",
       "  color: #f1f1f1;\n",
       "}\n",
       "#T_19978_row5_col2 {\n",
       "  background-color: #482677;\n",
       "  color: #f1f1f1;\n",
       "}\n",
       "#T_19978_row5_col8 {\n",
       "  background-color: #6ece58;\n",
       "  color: #000000;\n",
       "}\n",
       "#T_19978_row5_col9, #T_19978_row9_col9 {\n",
       "  background-color: #433e85;\n",
       "  color: #f1f1f1;\n",
       "}\n",
       "#T_19978_row5_col10, #T_19978_row9_col10 {\n",
       "  background-color: #3e4c8a;\n",
       "  color: #f1f1f1;\n",
       "}\n",
       "#T_19978_row6_col2, #T_19978_row9_col8 {\n",
       "  background-color: #1f9f88;\n",
       "  color: #f1f1f1;\n",
       "}\n",
       "#T_19978_row6_col8 {\n",
       "  background-color: #277e8e;\n",
       "  color: #f1f1f1;\n",
       "}\n",
       "#T_19978_row6_col9 {\n",
       "  background-color: #375a8c;\n",
       "  color: #f1f1f1;\n",
       "}\n",
       "#T_19978_row6_col10 {\n",
       "  background-color: #463480;\n",
       "  color: #f1f1f1;\n",
       "}\n",
       "#T_19978_row6_col12 {\n",
       "  background-color: #1f998a;\n",
       "  color: #f1f1f1;\n",
       "}\n",
       "#T_19978_row7_col1 {\n",
       "  background-color: #1fa188;\n",
       "  color: #f1f1f1;\n",
       "}\n",
       "#T_19978_row7_col2 {\n",
       "  background-color: #6ccd5a;\n",
       "  color: #000000;\n",
       "}\n",
       "#T_19978_row7_col10 {\n",
       "  background-color: #25ab82;\n",
       "  color: #f1f1f1;\n",
       "}\n",
       "#T_19978_row8_col1 {\n",
       "  background-color: #3e4a89;\n",
       "  color: #f1f1f1;\n",
       "}\n",
       "#T_19978_row8_col2 {\n",
       "  background-color: #481d6f;\n",
       "  color: #f1f1f1;\n",
       "}\n",
       "#T_19978_row8_col9 {\n",
       "  background-color: #404588;\n",
       "  color: #f1f1f1;\n",
       "}\n",
       "#T_19978_row8_col10 {\n",
       "  background-color: #38588c;\n",
       "  color: #f1f1f1;\n",
       "}\n",
       "#T_19978_row8_col12 {\n",
       "  background-color: #453581;\n",
       "  color: #f1f1f1;\n",
       "}\n",
       "#T_19978_row9_col1 {\n",
       "  background-color: #482475;\n",
       "  color: #f1f1f1;\n",
       "}\n",
       "#T_19978_row9_col12 {\n",
       "  background-color: #34618d;\n",
       "  color: #f1f1f1;\n",
       "}\n",
       "</style>\n",
       "<table id=\"T_19978_\">\n",
       "  <thead>\n",
       "    <tr>\n",
       "      <th class=\"blank level0\" >&nbsp;</th>\n",
       "      <th class=\"col_heading level0 col0\" >name</th>\n",
       "      <th class=\"col_heading level0 col1\" >selling_price</th>\n",
       "      <th class=\"col_heading level0 col2\" >km_driven</th>\n",
       "      <th class=\"col_heading level0 col3\" >fuel</th>\n",
       "      <th class=\"col_heading level0 col4\" >seller_type</th>\n",
       "      <th class=\"col_heading level0 col5\" >transmission</th>\n",
       "      <th class=\"col_heading level0 col6\" >owner</th>\n",
       "      <th class=\"col_heading level0 col7\" >seats</th>\n",
       "      <th class=\"col_heading level0 col8\" >Mileage</th>\n",
       "      <th class=\"col_heading level0 col9\" >EngineCapacity</th>\n",
       "      <th class=\"col_heading level0 col10\" >MaxPower</th>\n",
       "      <th class=\"col_heading level0 col11\" >Company</th>\n",
       "      <th class=\"col_heading level0 col12\" >years_old</th>\n",
       "    </tr>\n",
       "  </thead>\n",
       "  <tbody>\n",
       "    <tr>\n",
       "      <th id=\"T_19978_level0_row0\" class=\"row_heading level0 row0\" >1911</th>\n",
       "      <td id=\"T_19978_row0_col0\" class=\"data row0 col0\" >Jaguar XF 2.2 Litre Luxury</td>\n",
       "      <td id=\"T_19978_row0_col1\" class=\"data row0 col1\" >2450000</td>\n",
       "      <td id=\"T_19978_row0_col2\" class=\"data row0 col2\" >60000</td>\n",
       "      <td id=\"T_19978_row0_col3\" class=\"data row0 col3\" >0</td>\n",
       "      <td id=\"T_19978_row0_col4\" class=\"data row0 col4\" >0</td>\n",
       "      <td id=\"T_19978_row0_col5\" class=\"data row0 col5\" >1</td>\n",
       "      <td id=\"T_19978_row0_col6\" class=\"data row0 col6\" >0</td>\n",
       "      <td id=\"T_19978_row0_col7\" class=\"data row0 col7\" >5</td>\n",
       "      <td id=\"T_19978_row0_col8\" class=\"data row0 col8\" >16.360000</td>\n",
       "      <td id=\"T_19978_row0_col9\" class=\"data row0 col9\" >2179</td>\n",
       "      <td id=\"T_19978_row0_col10\" class=\"data row0 col10\" >187.700000</td>\n",
       "      <td id=\"T_19978_row0_col11\" class=\"data row0 col11\" >13</td>\n",
       "      <td id=\"T_19978_row0_col12\" class=\"data row0 col12\" >9</td>\n",
       "    </tr>\n",
       "    <tr>\n",
       "      <th id=\"T_19978_level0_row1\" class=\"row_heading level0 row1\" >699</th>\n",
       "      <td id=\"T_19978_row1_col0\" class=\"data row1 col0\" >Hyundai i20 Sportz 1.4 CRDi</td>\n",
       "      <td id=\"T_19978_row1_col1\" class=\"data row1 col1\" >335000</td>\n",
       "      <td id=\"T_19978_row1_col2\" class=\"data row1 col2\" >135000</td>\n",
       "      <td id=\"T_19978_row1_col3\" class=\"data row1 col3\" >0</td>\n",
       "      <td id=\"T_19978_row1_col4\" class=\"data row1 col4\" >0</td>\n",
       "      <td id=\"T_19978_row1_col5\" class=\"data row1 col5\" >0</td>\n",
       "      <td id=\"T_19978_row1_col6\" class=\"data row1 col6\" >0</td>\n",
       "      <td id=\"T_19978_row1_col7\" class=\"data row1 col7\" >5</td>\n",
       "      <td id=\"T_19978_row1_col8\" class=\"data row1 col8\" >21.900000</td>\n",
       "      <td id=\"T_19978_row1_col9\" class=\"data row1 col9\" >1396</td>\n",
       "      <td id=\"T_19978_row1_col10\" class=\"data row1 col10\" >88.760000</td>\n",
       "      <td id=\"T_19978_row1_col11\" class=\"data row1 col11\" >11</td>\n",
       "      <td id=\"T_19978_row1_col12\" class=\"data row1 col12\" >10</td>\n",
       "    </tr>\n",
       "    <tr>\n",
       "      <th id=\"T_19978_level0_row2\" class=\"row_heading level0 row2\" >6796</th>\n",
       "      <td id=\"T_19978_row2_col0\" class=\"data row2 col0\" >Mahindra Scorpio S10 7 Seater</td>\n",
       "      <td id=\"T_19978_row2_col1\" class=\"data row2 col1\" >1000000</td>\n",
       "      <td id=\"T_19978_row2_col2\" class=\"data row2 col2\" >133000</td>\n",
       "      <td id=\"T_19978_row2_col3\" class=\"data row2 col3\" >0</td>\n",
       "      <td id=\"T_19978_row2_col4\" class=\"data row2 col4\" >0</td>\n",
       "      <td id=\"T_19978_row2_col5\" class=\"data row2 col5\" >0</td>\n",
       "      <td id=\"T_19978_row2_col6\" class=\"data row2 col6\" >1</td>\n",
       "      <td id=\"T_19978_row2_col7\" class=\"data row2 col7\" >7</td>\n",
       "      <td id=\"T_19978_row2_col8\" class=\"data row2 col8\" >15.400000</td>\n",
       "      <td id=\"T_19978_row2_col9\" class=\"data row2 col9\" >2179</td>\n",
       "      <td id=\"T_19978_row2_col10\" class=\"data row2 col10\" >120.000000</td>\n",
       "      <td id=\"T_19978_row2_col11\" class=\"data row2 col11\" >19</td>\n",
       "      <td id=\"T_19978_row2_col12\" class=\"data row2 col12\" >7</td>\n",
       "    </tr>\n",
       "    <tr>\n",
       "      <th id=\"T_19978_level0_row3\" class=\"row_heading level0 row3\" >4504</th>\n",
       "      <td id=\"T_19978_row3_col0\" class=\"data row3 col0\" >Maruti Alto 800 VXI</td>\n",
       "      <td id=\"T_19978_row3_col1\" class=\"data row3 col1\" >325000</td>\n",
       "      <td id=\"T_19978_row3_col2\" class=\"data row3 col2\" >23000</td>\n",
       "      <td id=\"T_19978_row3_col3\" class=\"data row3 col3\" >1</td>\n",
       "      <td id=\"T_19978_row3_col4\" class=\"data row3 col4\" >0</td>\n",
       "      <td id=\"T_19978_row3_col5\" class=\"data row3 col5\" >0</td>\n",
       "      <td id=\"T_19978_row3_col6\" class=\"data row3 col6\" >0</td>\n",
       "      <td id=\"T_19978_row3_col7\" class=\"data row3 col7\" >5</td>\n",
       "      <td id=\"T_19978_row3_col8\" class=\"data row3 col8\" >24.700000</td>\n",
       "      <td id=\"T_19978_row3_col9\" class=\"data row3 col9\" >796</td>\n",
       "      <td id=\"T_19978_row3_col10\" class=\"data row3 col10\" >47.300000</td>\n",
       "      <td id=\"T_19978_row3_col11\" class=\"data row3 col11\" >20</td>\n",
       "      <td id=\"T_19978_row3_col12\" class=\"data row3 col12\" >5</td>\n",
       "    </tr>\n",
       "    <tr>\n",
       "      <th id=\"T_19978_level0_row4\" class=\"row_heading level0 row4\" >1762</th>\n",
       "      <td id=\"T_19978_row4_col0\" class=\"data row4 col0\" >Mercedes-Benz E-Class E270 CDI</td>\n",
       "      <td id=\"T_19978_row4_col1\" class=\"data row4 col1\" >800000</td>\n",
       "      <td id=\"T_19978_row4_col2\" class=\"data row4 col2\" >120005</td>\n",
       "      <td id=\"T_19978_row4_col3\" class=\"data row4 col3\" >0</td>\n",
       "      <td id=\"T_19978_row4_col4\" class=\"data row4 col4\" >0</td>\n",
       "      <td id=\"T_19978_row4_col5\" class=\"data row4 col5\" >1</td>\n",
       "      <td id=\"T_19978_row4_col6\" class=\"data row4 col6\" >1</td>\n",
       "      <td id=\"T_19978_row4_col7\" class=\"data row4 col7\" >5</td>\n",
       "      <td id=\"T_19978_row4_col8\" class=\"data row4 col8\" >11.000000</td>\n",
       "      <td id=\"T_19978_row4_col9\" class=\"data row4 col9\" >2987</td>\n",
       "      <td id=\"T_19978_row4_col10\" class=\"data row4 col10\" >198.500000</td>\n",
       "      <td id=\"T_19978_row4_col11\" class=\"data row4 col11\" >21</td>\n",
       "      <td id=\"T_19978_row4_col12\" class=\"data row4 col12\" >17</td>\n",
       "    </tr>\n",
       "    <tr>\n",
       "      <th id=\"T_19978_level0_row5\" class=\"row_heading level0 row5\" >2488</th>\n",
       "      <td id=\"T_19978_row5_col0\" class=\"data row5 col0\" >Maruti Swift Dzire VXI 1.2 BS IV</td>\n",
       "      <td id=\"T_19978_row5_col1\" class=\"data row5 col1\" >650000</td>\n",
       "      <td id=\"T_19978_row5_col2\" class=\"data row5 col2\" >35000</td>\n",
       "      <td id=\"T_19978_row5_col3\" class=\"data row5 col3\" >1</td>\n",
       "      <td id=\"T_19978_row5_col4\" class=\"data row5 col4\" >0</td>\n",
       "      <td id=\"T_19978_row5_col5\" class=\"data row5 col5\" >0</td>\n",
       "      <td id=\"T_19978_row5_col6\" class=\"data row5 col6\" >0</td>\n",
       "      <td id=\"T_19978_row5_col7\" class=\"data row5 col7\" >5</td>\n",
       "      <td id=\"T_19978_row5_col8\" class=\"data row5 col8\" >22.000000</td>\n",
       "      <td id=\"T_19978_row5_col9\" class=\"data row5 col9\" >1197</td>\n",
       "      <td id=\"T_19978_row5_col10\" class=\"data row5 col10\" >81.800000</td>\n",
       "      <td id=\"T_19978_row5_col11\" class=\"data row5 col11\" >20</td>\n",
       "      <td id=\"T_19978_row5_col12\" class=\"data row5 col12\" >4</td>\n",
       "    </tr>\n",
       "    <tr>\n",
       "      <th id=\"T_19978_level0_row6\" class=\"row_heading level0 row6\" >3582</th>\n",
       "      <td id=\"T_19978_row6_col0\" class=\"data row6 col0\" >Tata Indigo LS</td>\n",
       "      <td id=\"T_19978_row6_col1\" class=\"data row6 col1\" >175000</td>\n",
       "      <td id=\"T_19978_row6_col2\" class=\"data row6 col2\" >85700</td>\n",
       "      <td id=\"T_19978_row6_col3\" class=\"data row6 col3\" >0</td>\n",
       "      <td id=\"T_19978_row6_col4\" class=\"data row6 col4\" >0</td>\n",
       "      <td id=\"T_19978_row6_col5\" class=\"data row6 col5\" >0</td>\n",
       "      <td id=\"T_19978_row6_col6\" class=\"data row6 col6\" >1</td>\n",
       "      <td id=\"T_19978_row6_col7\" class=\"data row6 col7\" >5</td>\n",
       "      <td id=\"T_19978_row6_col8\" class=\"data row6 col8\" >17.000000</td>\n",
       "      <td id=\"T_19978_row6_col9\" class=\"data row6 col9\" >1405</td>\n",
       "      <td id=\"T_19978_row6_col10\" class=\"data row6 col10\" >70.000000</td>\n",
       "      <td id=\"T_19978_row6_col11\" class=\"data row6 col11\" >27</td>\n",
       "      <td id=\"T_19978_row6_col12\" class=\"data row6 col12\" >11</td>\n",
       "    </tr>\n",
       "    <tr>\n",
       "      <th id=\"T_19978_level0_row7\" class=\"row_heading level0 row7\" >1588</th>\n",
       "      <td id=\"T_19978_row7_col0\" class=\"data row7 col0\" >Mahindra Scorpio S11 BSIV</td>\n",
       "      <td id=\"T_19978_row7_col1\" class=\"data row7 col1\" >1465000</td>\n",
       "      <td id=\"T_19978_row7_col2\" class=\"data row7 col2\" >110000</td>\n",
       "      <td id=\"T_19978_row7_col3\" class=\"data row7 col3\" >0</td>\n",
       "      <td id=\"T_19978_row7_col4\" class=\"data row7 col4\" >0</td>\n",
       "      <td id=\"T_19978_row7_col5\" class=\"data row7 col5\" >0</td>\n",
       "      <td id=\"T_19978_row7_col6\" class=\"data row7 col6\" >0</td>\n",
       "      <td id=\"T_19978_row7_col7\" class=\"data row7 col7\" >7</td>\n",
       "      <td id=\"T_19978_row7_col8\" class=\"data row7 col8\" >16.360000</td>\n",
       "      <td id=\"T_19978_row7_col9\" class=\"data row7 col9\" >2179</td>\n",
       "      <td id=\"T_19978_row7_col10\" class=\"data row7 col10\" >140.000000</td>\n",
       "      <td id=\"T_19978_row7_col11\" class=\"data row7 col11\" >19</td>\n",
       "      <td id=\"T_19978_row7_col12\" class=\"data row7 col12\" >4</td>\n",
       "    </tr>\n",
       "    <tr>\n",
       "      <th id=\"T_19978_level0_row8\" class=\"row_heading level0 row8\" >1397</th>\n",
       "      <td id=\"T_19978_row8_col0\" class=\"data row8 col0\" >Maruti S-Cross 2017-2020 Delta DDiS 200 SH</td>\n",
       "      <td id=\"T_19978_row8_col1\" class=\"data row8 col1\" >690000</td>\n",
       "      <td id=\"T_19978_row8_col2\" class=\"data row8 col2\" >32000</td>\n",
       "      <td id=\"T_19978_row8_col3\" class=\"data row8 col3\" >0</td>\n",
       "      <td id=\"T_19978_row8_col4\" class=\"data row8 col4\" >1</td>\n",
       "      <td id=\"T_19978_row8_col5\" class=\"data row8 col5\" >0</td>\n",
       "      <td id=\"T_19978_row8_col6\" class=\"data row8 col6\" >0</td>\n",
       "      <td id=\"T_19978_row8_col7\" class=\"data row8 col7\" >5</td>\n",
       "      <td id=\"T_19978_row8_col8\" class=\"data row8 col8\" >25.100000</td>\n",
       "      <td id=\"T_19978_row8_col9\" class=\"data row8 col9\" >1248</td>\n",
       "      <td id=\"T_19978_row8_col10\" class=\"data row8 col10\" >88.500000</td>\n",
       "      <td id=\"T_19978_row8_col11\" class=\"data row8 col11\" >20</td>\n",
       "      <td id=\"T_19978_row8_col12\" class=\"data row8 col12\" >6</td>\n",
       "    </tr>\n",
       "    <tr>\n",
       "      <th id=\"T_19978_level0_row9\" class=\"row_heading level0 row9\" >175</th>\n",
       "      <td id=\"T_19978_row9_col0\" class=\"data row9 col0\" >Hyundai Grand i10 Sportz</td>\n",
       "      <td id=\"T_19978_row9_col1\" class=\"data row9 col1\" >400000</td>\n",
       "      <td id=\"T_19978_row9_col2\" class=\"data row9 col2\" >60000</td>\n",
       "      <td id=\"T_19978_row9_col3\" class=\"data row9 col3\" >1</td>\n",
       "      <td id=\"T_19978_row9_col4\" class=\"data row9 col4\" >0</td>\n",
       "      <td id=\"T_19978_row9_col5\" class=\"data row9 col5\" >0</td>\n",
       "      <td id=\"T_19978_row9_col6\" class=\"data row9 col6\" >1</td>\n",
       "      <td id=\"T_19978_row9_col7\" class=\"data row9 col7\" >5</td>\n",
       "      <td id=\"T_19978_row9_col8\" class=\"data row9 col8\" >18.900000</td>\n",
       "      <td id=\"T_19978_row9_col9\" class=\"data row9 col9\" >1197</td>\n",
       "      <td id=\"T_19978_row9_col10\" class=\"data row9 col10\" >82.000000</td>\n",
       "      <td id=\"T_19978_row9_col11\" class=\"data row9 col11\" >11</td>\n",
       "      <td id=\"T_19978_row9_col12\" class=\"data row9 col12\" >8</td>\n",
       "    </tr>\n",
       "  </tbody>\n",
       "</table>\n"
      ],
      "text/plain": [
       "<pandas.io.formats.style.Styler at 0x2a6d0ebad00>"
      ]
     },
     "execution_count": 30,
     "metadata": {},
     "output_type": "execute_result"
    }
   ],
   "source": [
    "#checking the dataframe\n",
    "df.sample(10).style.background_gradient(cmap = \"viridis\")"
   ]
  },
  {
   "cell_type": "markdown",
   "id": "a6387075",
   "metadata": {},
   "source": [
    "### 6.Splitting the data and target"
   ]
  },
  {
   "cell_type": "code",
   "execution_count": 88,
   "id": "378cd60c",
   "metadata": {},
   "outputs": [
    {
     "data": {
      "text/plain": [
       "2272     360000\n",
       "2951      45000\n",
       "4606    1000000\n",
       "3081     500000\n",
       "3055     400000\n",
       "2262     246000\n",
       "5870     900000\n",
       "6061     170000\n",
       "4299     600000\n",
       "3659     700000\n",
       "Name: selling_price, dtype: int64"
      ]
     },
     "execution_count": 88,
     "metadata": {},
     "output_type": "execute_result"
    }
   ],
   "source": [
    "#creating data and target variables\n",
    "X= df.drop(['name','selling_price'],axis=1)\n",
    "Y = df['selling_price']\n",
    "Y.sample(10)"
   ]
  },
  {
   "cell_type": "code",
   "execution_count": 87,
   "id": "f427d8a0",
   "metadata": {},
   "outputs": [
    {
     "data": {
      "text/html": [
       "<style type=\"text/css\">\n",
       "#T_f3715_row0_col0, #T_f3715_row0_col2, #T_f3715_row0_col3, #T_f3715_row0_col4, #T_f3715_row0_col5, #T_f3715_row0_col10, #T_f3715_row1_col3, #T_f3715_row1_col4, #T_f3715_row1_col5, #T_f3715_row2_col2, #T_f3715_row2_col3, #T_f3715_row2_col4, #T_f3715_row2_col5, #T_f3715_row2_col7, #T_f3715_row3_col1, #T_f3715_row3_col2, #T_f3715_row3_col3, #T_f3715_row3_col4, #T_f3715_row3_col5, #T_f3715_row4_col1, #T_f3715_row4_col2, #T_f3715_row4_col3, #T_f3715_row4_col4, #T_f3715_row4_col6, #T_f3715_row5_col1, #T_f3715_row5_col2, #T_f3715_row5_col3, #T_f3715_row5_col4, #T_f3715_row5_col5, #T_f3715_row6_col2, #T_f3715_row6_col3, #T_f3715_row6_col4, #T_f3715_row6_col5, #T_f3715_row6_col7, #T_f3715_row6_col8, #T_f3715_row7_col1, #T_f3715_row7_col3, #T_f3715_row7_col4, #T_f3715_row8_col2, #T_f3715_row8_col3, #T_f3715_row8_col5, #T_f3715_row8_col9, #T_f3715_row9_col2, #T_f3715_row9_col3, #T_f3715_row9_col5 {\n",
       "  background-color: #fff5eb;\n",
       "  color: #000000;\n",
       "}\n",
       "#T_f3715_row0_col1, #T_f3715_row1_col1, #T_f3715_row1_col2, #T_f3715_row1_col9, #T_f3715_row2_col1, #T_f3715_row2_col6, #T_f3715_row3_col8, #T_f3715_row4_col0, #T_f3715_row4_col5, #T_f3715_row4_col7, #T_f3715_row4_col9, #T_f3715_row6_col1, #T_f3715_row6_col10, #T_f3715_row7_col9, #T_f3715_row8_col1, #T_f3715_row9_col1, #T_f3715_row9_col4 {\n",
       "  background-color: #7f2704;\n",
       "  color: #f1f1f1;\n",
       "}\n",
       "#T_f3715_row0_col6, #T_f3715_row8_col0 {\n",
       "  background-color: #f3701b;\n",
       "  color: #f1f1f1;\n",
       "}\n",
       "#T_f3715_row0_col7, #T_f3715_row8_col7 {\n",
       "  background-color: #fdd3a7;\n",
       "  color: #000000;\n",
       "}\n",
       "#T_f3715_row0_col8 {\n",
       "  background-color: #fdc189;\n",
       "  color: #000000;\n",
       "}\n",
       "#T_f3715_row0_col9 {\n",
       "  background-color: #8b2c04;\n",
       "  color: #f1f1f1;\n",
       "}\n",
       "#T_f3715_row1_col0 {\n",
       "  background-color: #feebd8;\n",
       "  color: #000000;\n",
       "}\n",
       "#T_f3715_row1_col6 {\n",
       "  background-color: #fdc088;\n",
       "  color: #000000;\n",
       "}\n",
       "#T_f3715_row1_col7, #T_f3715_row5_col7 {\n",
       "  background-color: #fda45d;\n",
       "  color: #000000;\n",
       "}\n",
       "#T_f3715_row1_col8 {\n",
       "  background-color: #fdb77a;\n",
       "  color: #000000;\n",
       "}\n",
       "#T_f3715_row1_col10, #T_f3715_row5_col0, #T_f3715_row7_col10 {\n",
       "  background-color: #fdd9b4;\n",
       "  color: #000000;\n",
       "}\n",
       "#T_f3715_row2_col0 {\n",
       "  background-color: #fdc590;\n",
       "  color: #000000;\n",
       "}\n",
       "#T_f3715_row2_col8, #T_f3715_row7_col6 {\n",
       "  background-color: #ffeede;\n",
       "  color: #000000;\n",
       "}\n",
       "#T_f3715_row2_col9 {\n",
       "  background-color: #a53603;\n",
       "  color: #f1f1f1;\n",
       "}\n",
       "#T_f3715_row2_col10, #T_f3715_row4_col10 {\n",
       "  background-color: #fdc38d;\n",
       "  color: #000000;\n",
       "}\n",
       "#T_f3715_row3_col0 {\n",
       "  background-color: #fb8735;\n",
       "  color: #f1f1f1;\n",
       "}\n",
       "#T_f3715_row3_col6 {\n",
       "  background-color: #fdb87c;\n",
       "  color: #000000;\n",
       "}\n",
       "#T_f3715_row3_col7 {\n",
       "  background-color: #e65a0b;\n",
       "  color: #f1f1f1;\n",
       "}\n",
       "#T_f3715_row3_col9 {\n",
       "  background-color: #fda35c;\n",
       "  color: #000000;\n",
       "}\n",
       "#T_f3715_row3_col10, #T_f3715_row5_col10 {\n",
       "  background-color: #fee9d4;\n",
       "  color: #000000;\n",
       "}\n",
       "#T_f3715_row4_col8 {\n",
       "  background-color: #fd9d53;\n",
       "  color: #000000;\n",
       "}\n",
       "#T_f3715_row5_col6 {\n",
       "  background-color: #bb3d02;\n",
       "  color: #f1f1f1;\n",
       "}\n",
       "#T_f3715_row5_col8 {\n",
       "  background-color: #fda159;\n",
       "  color: #000000;\n",
       "}\n",
       "#T_f3715_row5_col9 {\n",
       "  background-color: #fdd7b1;\n",
       "  color: #000000;\n",
       "}\n",
       "#T_f3715_row6_col0 {\n",
       "  background-color: #fee0c3;\n",
       "  color: #000000;\n",
       "}\n",
       "#T_f3715_row6_col6 {\n",
       "  background-color: #f87e2b;\n",
       "  color: #f1f1f1;\n",
       "}\n",
       "#T_f3715_row6_col9, #T_f3715_row7_col5, #T_f3715_row9_col9 {\n",
       "  background-color: #e95e0d;\n",
       "  color: #f1f1f1;\n",
       "}\n",
       "#T_f3715_row7_col0 {\n",
       "  background-color: #ea5f0e;\n",
       "  color: #f1f1f1;\n",
       "}\n",
       "#T_f3715_row7_col2, #T_f3715_row8_col4 {\n",
       "  background-color: #fd8c3b;\n",
       "  color: #f1f1f1;\n",
       "}\n",
       "#T_f3715_row7_col7 {\n",
       "  background-color: #912e04;\n",
       "  color: #f1f1f1;\n",
       "}\n",
       "#T_f3715_row7_col8 {\n",
       "  background-color: #bd3e02;\n",
       "  color: #f1f1f1;\n",
       "}\n",
       "#T_f3715_row8_col6 {\n",
       "  background-color: #fd984b;\n",
       "  color: #000000;\n",
       "}\n",
       "#T_f3715_row8_col8 {\n",
       "  background-color: #fdcb9b;\n",
       "  color: #000000;\n",
       "}\n",
       "#T_f3715_row8_col10, #T_f3715_row9_col10 {\n",
       "  background-color: #c54102;\n",
       "  color: #f1f1f1;\n",
       "}\n",
       "#T_f3715_row9_col0 {\n",
       "  background-color: #d54601;\n",
       "  color: #f1f1f1;\n",
       "}\n",
       "#T_f3715_row9_col6 {\n",
       "  background-color: #ec620f;\n",
       "  color: #f1f1f1;\n",
       "}\n",
       "#T_f3715_row9_col7 {\n",
       "  background-color: #fee7d0;\n",
       "  color: #000000;\n",
       "}\n",
       "#T_f3715_row9_col8 {\n",
       "  background-color: #fedebf;\n",
       "  color: #000000;\n",
       "}\n",
       "</style>\n",
       "<table id=\"T_f3715_\">\n",
       "  <thead>\n",
       "    <tr>\n",
       "      <th class=\"blank level0\" >&nbsp;</th>\n",
       "      <th class=\"col_heading level0 col0\" >km_driven</th>\n",
       "      <th class=\"col_heading level0 col1\" >fuel</th>\n",
       "      <th class=\"col_heading level0 col2\" >seller_type</th>\n",
       "      <th class=\"col_heading level0 col3\" >transmission</th>\n",
       "      <th class=\"col_heading level0 col4\" >owner</th>\n",
       "      <th class=\"col_heading level0 col5\" >seats</th>\n",
       "      <th class=\"col_heading level0 col6\" >Mileage</th>\n",
       "      <th class=\"col_heading level0 col7\" >EngineCapacity</th>\n",
       "      <th class=\"col_heading level0 col8\" >MaxPower</th>\n",
       "      <th class=\"col_heading level0 col9\" >Company</th>\n",
       "      <th class=\"col_heading level0 col10\" >years_old</th>\n",
       "    </tr>\n",
       "  </thead>\n",
       "  <tbody>\n",
       "    <tr>\n",
       "      <th id=\"T_f3715_level0_row0\" class=\"row_heading level0 row0\" >779</th>\n",
       "      <td id=\"T_f3715_row0_col0\" class=\"data row0 col0\" >15000</td>\n",
       "      <td id=\"T_f3715_row0_col1\" class=\"data row0 col1\" >1</td>\n",
       "      <td id=\"T_f3715_row0_col2\" class=\"data row0 col2\" >0</td>\n",
       "      <td id=\"T_f3715_row0_col3\" class=\"data row0 col3\" >0</td>\n",
       "      <td id=\"T_f3715_row0_col4\" class=\"data row0 col4\" >0</td>\n",
       "      <td id=\"T_f3715_row0_col5\" class=\"data row0 col5\" >5</td>\n",
       "      <td id=\"T_f3715_row0_col6\" class=\"data row0 col6\" >20.300000</td>\n",
       "      <td id=\"T_f3715_row0_col7\" class=\"data row0 col7\" >1199</td>\n",
       "      <td id=\"T_f3715_row0_col8\" class=\"data row0 col8\" >84.000000</td>\n",
       "      <td id=\"T_f3715_row0_col9\" class=\"data row0 col9\" >27</td>\n",
       "      <td id=\"T_f3715_row0_col10\" class=\"data row0 col10\" >3</td>\n",
       "    </tr>\n",
       "    <tr>\n",
       "      <th id=\"T_f3715_level0_row1\" class=\"row_heading level0 row1\" >6516</th>\n",
       "      <td id=\"T_f3715_row1_col0\" class=\"data row1 col0\" >25538</td>\n",
       "      <td id=\"T_f3715_row1_col1\" class=\"data row1 col1\" >1</td>\n",
       "      <td id=\"T_f3715_row1_col2\" class=\"data row1 col2\" >2</td>\n",
       "      <td id=\"T_f3715_row1_col3\" class=\"data row1 col3\" >0</td>\n",
       "      <td id=\"T_f3715_row1_col4\" class=\"data row1 col4\" >0</td>\n",
       "      <td id=\"T_f3715_row1_col5\" class=\"data row1 col5\" >5</td>\n",
       "      <td id=\"T_f3715_row1_col6\" class=\"data row1 col6\" >16.780000</td>\n",
       "      <td id=\"T_f3715_row1_col7\" class=\"data row1 col7\" >1496</td>\n",
       "      <td id=\"T_f3715_row1_col8\" class=\"data row1 col8\" >88.730000</td>\n",
       "      <td id=\"T_f3715_row1_col9\" class=\"data row1 col9\" >28</td>\n",
       "      <td id=\"T_f3715_row1_col10\" class=\"data row1 col10\" >5</td>\n",
       "    </tr>\n",
       "    <tr>\n",
       "      <th id=\"T_f3715_level0_row2\" class=\"row_heading level0 row2\" >1271</th>\n",
       "      <td id=\"T_f3715_row2_col0\" class=\"data row2 col0\" >51500</td>\n",
       "      <td id=\"T_f3715_row2_col1\" class=\"data row2 col1\" >1</td>\n",
       "      <td id=\"T_f3715_row2_col2\" class=\"data row2 col2\" >0</td>\n",
       "      <td id=\"T_f3715_row2_col3\" class=\"data row2 col3\" >0</td>\n",
       "      <td id=\"T_f3715_row2_col4\" class=\"data row2 col4\" >0</td>\n",
       "      <td id=\"T_f3715_row2_col5\" class=\"data row2 col5\" >5</td>\n",
       "      <td id=\"T_f3715_row2_col6\" class=\"data row2 col6\" >25.170000</td>\n",
       "      <td id=\"T_f3715_row2_col7\" class=\"data row2 col7\" >799</td>\n",
       "      <td id=\"T_f3715_row2_col8\" class=\"data row2 col8\" >53.300000</td>\n",
       "      <td id=\"T_f3715_row2_col9\" class=\"data row2 col9\" >25</td>\n",
       "      <td id=\"T_f3715_row2_col10\" class=\"data row2 col10\" >6</td>\n",
       "    </tr>\n",
       "    <tr>\n",
       "      <th id=\"T_f3715_level0_row3\" class=\"row_heading level0 row3\" >4649</th>\n",
       "      <td id=\"T_f3715_row3_col0\" class=\"data row3 col0\" >80000</td>\n",
       "      <td id=\"T_f3715_row3_col1\" class=\"data row3 col1\" >0</td>\n",
       "      <td id=\"T_f3715_row3_col2\" class=\"data row3 col2\" >0</td>\n",
       "      <td id=\"T_f3715_row3_col3\" class=\"data row3 col3\" >0</td>\n",
       "      <td id=\"T_f3715_row3_col4\" class=\"data row3 col4\" >0</td>\n",
       "      <td id=\"T_f3715_row3_col5\" class=\"data row3 col5\" >5</td>\n",
       "      <td id=\"T_f3715_row3_col6\" class=\"data row3 col6\" >17.100000</td>\n",
       "      <td id=\"T_f3715_row3_col7\" class=\"data row3 col7\" >1956</td>\n",
       "      <td id=\"T_f3715_row3_col8\" class=\"data row3 col8\" >170.000000</td>\n",
       "      <td id=\"T_f3715_row3_col9\" class=\"data row3 col9\" >14</td>\n",
       "      <td id=\"T_f3715_row3_col10\" class=\"data row3 col10\" >4</td>\n",
       "    </tr>\n",
       "    <tr>\n",
       "      <th id=\"T_f3715_level0_row4\" class=\"row_heading level0 row4\" >77</th>\n",
       "      <td id=\"T_f3715_row4_col0\" class=\"data row4 col0\" >140000</td>\n",
       "      <td id=\"T_f3715_row4_col1\" class=\"data row4 col1\" >0</td>\n",
       "      <td id=\"T_f3715_row4_col2\" class=\"data row4 col2\" >0</td>\n",
       "      <td id=\"T_f3715_row4_col3\" class=\"data row4 col3\" >0</td>\n",
       "      <td id=\"T_f3715_row4_col4\" class=\"data row4 col4\" >0</td>\n",
       "      <td id=\"T_f3715_row4_col5\" class=\"data row4 col5\" >8</td>\n",
       "      <td id=\"T_f3715_row4_col6\" class=\"data row4 col6\" >12.990000</td>\n",
       "      <td id=\"T_f3715_row4_col7\" class=\"data row4 col7\" >2494</td>\n",
       "      <td id=\"T_f3715_row4_col8\" class=\"data row4 col8\" >100.600000</td>\n",
       "      <td id=\"T_f3715_row4_col9\" class=\"data row4 col9\" >28</td>\n",
       "      <td id=\"T_f3715_row4_col10\" class=\"data row4 col10\" >6</td>\n",
       "    </tr>\n",
       "    <tr>\n",
       "      <th id=\"T_f3715_level0_row5\" class=\"row_heading level0 row5\" >4269</th>\n",
       "      <td id=\"T_f3715_row5_col0\" class=\"data row5 col0\" >40000</td>\n",
       "      <td id=\"T_f3715_row5_col1\" class=\"data row5 col1\" >0</td>\n",
       "      <td id=\"T_f3715_row5_col2\" class=\"data row5 col2\" >0</td>\n",
       "      <td id=\"T_f3715_row5_col3\" class=\"data row5 col3\" >0</td>\n",
       "      <td id=\"T_f3715_row5_col4\" class=\"data row5 col4\" >0</td>\n",
       "      <td id=\"T_f3715_row5_col5\" class=\"data row5 col5\" >5</td>\n",
       "      <td id=\"T_f3715_row5_col6\" class=\"data row5 col6\" >23.000000</td>\n",
       "      <td id=\"T_f3715_row5_col7\" class=\"data row5 col7\" >1498</td>\n",
       "      <td id=\"T_f3715_row5_col8\" class=\"data row5 col8\" >98.960000</td>\n",
       "      <td id=\"T_f3715_row5_col9\" class=\"data row5 col9\" >9</td>\n",
       "      <td id=\"T_f3715_row5_col10\" class=\"data row5 col10\" >4</td>\n",
       "    </tr>\n",
       "    <tr>\n",
       "      <th id=\"T_f3715_level0_row6\" class=\"row_heading level0 row6\" >3279</th>\n",
       "      <td id=\"T_f3715_row6_col0\" class=\"data row6 col0\" >35000</td>\n",
       "      <td id=\"T_f3715_row6_col1\" class=\"data row6 col1\" >1</td>\n",
       "      <td id=\"T_f3715_row6_col2\" class=\"data row6 col2\" >0</td>\n",
       "      <td id=\"T_f3715_row6_col3\" class=\"data row6 col3\" >0</td>\n",
       "      <td id=\"T_f3715_row6_col4\" class=\"data row6 col4\" >0</td>\n",
       "      <td id=\"T_f3715_row6_col5\" class=\"data row6 col5\" >5</td>\n",
       "      <td id=\"T_f3715_row6_col6\" class=\"data row6 col6\" >19.700000</td>\n",
       "      <td id=\"T_f3715_row6_col7\" class=\"data row6 col7\" >796</td>\n",
       "      <td id=\"T_f3715_row6_col8\" class=\"data row6 col8\" >46.300000</td>\n",
       "      <td id=\"T_f3715_row6_col9\" class=\"data row6 col9\" >20</td>\n",
       "      <td id=\"T_f3715_row6_col10\" class=\"data row6 col10\" >13</td>\n",
       "    </tr>\n",
       "    <tr>\n",
       "      <th id=\"T_f3715_level0_row7\" class=\"row_heading level0 row7\" >6123</th>\n",
       "      <td id=\"T_f3715_row7_col0\" class=\"data row7 col0\" >98000</td>\n",
       "      <td id=\"T_f3715_row7_col1\" class=\"data row7 col1\" >0</td>\n",
       "      <td id=\"T_f3715_row7_col2\" class=\"data row7 col2\" >1</td>\n",
       "      <td id=\"T_f3715_row7_col3\" class=\"data row7 col3\" >0</td>\n",
       "      <td id=\"T_f3715_row7_col4\" class=\"data row7 col4\" >0</td>\n",
       "      <td id=\"T_f3715_row7_col5\" class=\"data row7 col5\" >7</td>\n",
       "      <td id=\"T_f3715_row7_col6\" class=\"data row7 col6\" >13.680000</td>\n",
       "      <td id=\"T_f3715_row7_col7\" class=\"data row7 col7\" >2393</td>\n",
       "      <td id=\"T_f3715_row7_col8\" class=\"data row7 col8\" >147.510000</td>\n",
       "      <td id=\"T_f3715_row7_col9\" class=\"data row7 col9\" >28</td>\n",
       "      <td id=\"T_f3715_row7_col10\" class=\"data row7 col10\" >5</td>\n",
       "    </tr>\n",
       "    <tr>\n",
       "      <th id=\"T_f3715_level0_row8\" class=\"row_heading level0 row8\" >5583</th>\n",
       "      <td id=\"T_f3715_row8_col0\" class=\"data row8 col0\" >90000</td>\n",
       "      <td id=\"T_f3715_row8_col1\" class=\"data row8 col1\" >1</td>\n",
       "      <td id=\"T_f3715_row8_col2\" class=\"data row8 col2\" >0</td>\n",
       "      <td id=\"T_f3715_row8_col3\" class=\"data row8 col3\" >0</td>\n",
       "      <td id=\"T_f3715_row8_col4\" class=\"data row8 col4\" >1</td>\n",
       "      <td id=\"T_f3715_row8_col5\" class=\"data row8 col5\" >5</td>\n",
       "      <td id=\"T_f3715_row8_col6\" class=\"data row8 col6\" >18.600000</td>\n",
       "      <td id=\"T_f3715_row8_col7\" class=\"data row8 col7\" >1199</td>\n",
       "      <td id=\"T_f3715_row8_col8\" class=\"data row8 col8\" >79.400000</td>\n",
       "      <td id=\"T_f3715_row8_col9\" class=\"data row8 col9\" >4</td>\n",
       "      <td id=\"T_f3715_row8_col10\" class=\"data row8 col10\" >11</td>\n",
       "    </tr>\n",
       "    <tr>\n",
       "      <th id=\"T_f3715_level0_row9\" class=\"row_heading level0 row9\" >7820</th>\n",
       "      <td id=\"T_f3715_row9_col0\" class=\"data row9 col0\" >110048</td>\n",
       "      <td id=\"T_f3715_row9_col1\" class=\"data row9 col1\" >1</td>\n",
       "      <td id=\"T_f3715_row9_col2\" class=\"data row9 col2\" >0</td>\n",
       "      <td id=\"T_f3715_row9_col3\" class=\"data row9 col3\" >0</td>\n",
       "      <td id=\"T_f3715_row9_col4\" class=\"data row9 col4\" >2</td>\n",
       "      <td id=\"T_f3715_row9_col5\" class=\"data row9 col5\" >5</td>\n",
       "      <td id=\"T_f3715_row9_col6\" class=\"data row9 col6\" >20.920000</td>\n",
       "      <td id=\"T_f3715_row9_col7\" class=\"data row9 col7\" >998</td>\n",
       "      <td id=\"T_f3715_row9_col8\" class=\"data row9 col8\" >67.100000</td>\n",
       "      <td id=\"T_f3715_row9_col9\" class=\"data row9 col9\" >20</td>\n",
       "      <td id=\"T_f3715_row9_col10\" class=\"data row9 col10\" >11</td>\n",
       "    </tr>\n",
       "  </tbody>\n",
       "</table>\n"
      ],
      "text/plain": [
       "<pandas.io.formats.style.Styler at 0x2a6d0df7790>"
      ]
     },
     "execution_count": 87,
     "metadata": {},
     "output_type": "execute_result"
    }
   ],
   "source": [
    "X.sample(10).style.background_gradient(cmap = \"Oranges\")"
   ]
  },
  {
   "cell_type": "code",
   "execution_count": 33,
   "id": "05cd8e4e",
   "metadata": {},
   "outputs": [
    {
     "data": {
      "image/png": "[encoded data removed]",
      "text/plain": [
       "<Figure size 864x720 with 1 Axes>"
      ]
     },
     "metadata": {},
     "output_type": "display_data"
    }
   ],
   "source": [
    "#checking corelation between variables\n",
    "correlation =X.corr()\n",
    "sns.heatmap(X.corr(),cmap=\"YlGnBu\",cbar=False, annot=True)\n",
    "sns.set(rc={'figure.figsize':(15,15)})\n",
    "plt.show()"
   ]
  },
  {
   "cell_type": "code",
   "execution_count": 34,
   "id": "ea146c08",
   "metadata": {},
   "outputs": [],
   "source": [
    "#we observe that Engine capacity and max power are highly corelated, we drop Max Power\n",
    "X.drop('MaxPower',axis=1,inplace=True)"
   ]
  },
  {
   "cell_type": "markdown",
   "id": "a0d528e6",
   "metadata": {},
   "source": [
    "### 7.Splitting Training data and Test data"
   ]
  },
  {
   "cell_type": "code",
   "execution_count": 78,
   "id": "09e9cb41",
   "metadata": {},
   "outputs": [
    {
     "name": "stdout",
     "output_type": "stream",
     "text": [
      "Train set shape:  (6325, 11)\n",
      "Test set shape :   (1582, 11)\n"
     ]
    }
   ],
   "source": [
    "#splitting into train and test set\n",
    "X_train,X_test,y_train,y_test=train_test_split(X,Y,test_size=0.2,random_state=42)\n",
    "print(\"Train set shape: \",X_train.shape)\n",
    "print(\"Test set shape :  \",X_test.shape)"
   ]
  },
  {
   "cell_type": "markdown",
   "id": "ab749afb",
   "metadata": {},
   "source": [
    "### 8.Model Training\n",
    "\n",
    "##### 1. Linear Regression"
   ]
  },
  {
   "cell_type": "code",
   "execution_count": 37,
   "id": "b61deaf1",
   "metadata": {},
   "outputs": [],
   "source": [
    "# loading the linear regression model\n",
    "lin_reg = LinearRegression()"
   ]
  },
  {
   "cell_type": "code",
   "execution_count": 38,
   "id": "d9ea19e7",
   "metadata": {},
   "outputs": [
    {
     "data": {
      "text/plain": [
       "LinearRegression()"
      ]
     },
     "execution_count": 38,
     "metadata": {},
     "output_type": "execute_result"
    }
   ],
   "source": [
    "#training the model\n",
    "lin_reg.fit(X_train,y_train)"
   ]
  },
  {
   "cell_type": "code",
   "execution_count": 39,
   "id": "8cdbc5e3",
   "metadata": {},
   "outputs": [],
   "source": [
    "#prediction on training data\n",
    "training_data_prediction1 = lin_reg.predict(X_train)"
   ]
  },
  {
   "cell_type": "code",
   "execution_count": 40,
   "id": "2ae9788f",
   "metadata": {},
   "outputs": [
    {
     "name": "stdout",
     "output_type": "stream",
     "text": [
      "R squared Error 0.5674726990683008\n"
     ]
    }
   ],
   "source": [
    "#R squared error\n",
    "train_error_score1 = metrics.r2_score(y_train,training_data_prediction1)\n",
    "print('R squared Error',train_error_score1)"
   ]
  },
  {
   "cell_type": "code",
   "execution_count": 97,
   "id": "3fe999bc",
   "metadata": {},
   "outputs": [
    {
     "data": {
      "text/plain": [
       "Text(0.5, 1.0, 'Actual_Prices vs Predicted Prices')"
      ]
     },
     "execution_count": 97,
     "metadata": {},
     "output_type": "execute_result"
    },
    {
     "data": {
      "image/png": "[encoded data removed]",
      "text/plain": [
       "<Figure size 432x288 with 1 Axes>"
      ]
     },
     "metadata": {
      "needs_background": "light"
     },
     "output_type": "display_data"
    }
   ],
   "source": [
    "#Visualisng the actual prices and the predicted prices\n",
    "plt.scatter(y_train,training_data_prediction1)\n",
    "plt.xlabel('Actual Prices')\n",
    "plt.ylabel('Predicted Price')\n",
    "plt.title('Actual_Prices vs Predicted Prices')"
   ]
  },
  {
   "cell_type": "code",
   "execution_count": 42,
   "id": "82c29f1b",
   "metadata": {},
   "outputs": [],
   "source": [
    "#prediction on test data\n",
    "test_data_prediction1 = lin_reg.predict(X_test)"
   ]
  },
  {
   "cell_type": "code",
   "execution_count": 43,
   "id": "c8c9eee5",
   "metadata": {},
   "outputs": [
    {
     "name": "stdout",
     "output_type": "stream",
     "text": [
      "R squared Error 0.5732186089678111\n"
     ]
    }
   ],
   "source": [
    "#R squared error\n",
    "test_error_score1 = metrics.r2_score(y_test,test_data_prediction1)\n",
    "print('R squared Error',test_error_score1)"
   ]
  },
  {
   "cell_type": "code",
   "execution_count": 96,
   "id": "d63bc97e",
   "metadata": {},
   "outputs": [
    {
     "data": {
      "text/plain": [
       "Text(0.5, 1.0, 'Actual_Prices vs Predicted Prices')"
      ]
     },
     "execution_count": 96,
     "metadata": {},
     "output_type": "execute_result"
    },
    {
     "data": {
      "image/png": "[encoded data removed]",
      "text/plain": [
       "<Figure size 432x288 with 1 Axes>"
      ]
     },
     "metadata": {
      "needs_background": "light"
     },
     "output_type": "display_data"
    }
   ],
   "source": [
    "#Visualisng the actual prices and the predicted prices\n",
    "plt.scatter(y_test,test_data_prediction1)\n",
    "plt.xlabel('Actual Prices')\n",
    "plt.ylabel('Predicted Price')\n",
    "plt.title('Actual_Prices vs Predicted Prices')"
   ]
  },
  {
   "cell_type": "markdown",
   "id": "d990b656",
   "metadata": {},
   "source": [
    "##### 2. Lasso Regression"
   ]
  },
  {
   "cell_type": "code",
   "execution_count": 45,
   "id": "b959e04a",
   "metadata": {},
   "outputs": [],
   "source": [
    "# loading the Lasso Regression model\n",
    "lasso_reg = Lasso()"
   ]
  },
  {
   "cell_type": "code",
   "execution_count": 46,
   "id": "a409e597",
   "metadata": {},
   "outputs": [
    {
     "data": {
      "text/plain": [
       "Lasso()"
      ]
     },
     "execution_count": 46,
     "metadata": {},
     "output_type": "execute_result"
    }
   ],
   "source": [
    "#Training the model\n",
    "lasso_reg.fit(X_train,y_train)"
   ]
  },
  {
   "cell_type": "code",
   "execution_count": 47,
   "id": "b604335d",
   "metadata": {},
   "outputs": [],
   "source": [
    "#prediction on training data\n",
    "training_data_prediction2 = lasso_reg.predict(X_train)"
   ]
  },
  {
   "cell_type": "code",
   "execution_count": 48,
   "id": "4bc517e6",
   "metadata": {},
   "outputs": [
    {
     "name": "stdout",
     "output_type": "stream",
     "text": [
      "R squared Error 0.5674726990323404\n"
     ]
    }
   ],
   "source": [
    "#R squared error\n",
    "train_error_score2 = metrics.r2_score(y_train,training_data_prediction2)\n",
    "print('R squared Error',train_error_score2)"
   ]
  },
  {
   "cell_type": "code",
   "execution_count": 95,
   "id": "7c1df5f5",
   "metadata": {},
   "outputs": [
    {
     "data": {
      "text/plain": [
       "Text(0.5, 1.0, 'Actual_Prices vs Predicted Prices')"
      ]
     },
     "execution_count": 95,
     "metadata": {},
     "output_type": "execute_result"
    },
    {
     "data": {
      "image/png": "[encoded data removed]",
      "text/plain": [
       "<Figure size 432x288 with 1 Axes>"
      ]
     },
     "metadata": {
      "needs_background": "light"
     },
     "output_type": "display_data"
    }
   ],
   "source": [
    "#Visualising the actual prices and the predicted prices\n",
    "plt.scatter(y_train,training_data_prediction2)\n",
    "plt.xlabel('Actual Prices')\n",
    "plt.ylabel('Predicted Price')\n",
    "plt.title('Actual_Prices vs Predicted Prices')"
   ]
  },
  {
   "cell_type": "code",
   "execution_count": 50,
   "id": "0298eb0c",
   "metadata": {},
   "outputs": [],
   "source": [
    "#prediction on test data\n",
    "test_data_prediction2 = lasso_reg.predict(X_test)"
   ]
  },
  {
   "cell_type": "code",
   "execution_count": 51,
   "id": "f8a5a55a",
   "metadata": {},
   "outputs": [
    {
     "name": "stdout",
     "output_type": "stream",
     "text": [
      "R squared Error 0.5732179840334997\n"
     ]
    }
   ],
   "source": [
    "#R squared error\n",
    "test_error_score2 = metrics.r2_score(y_test,test_data_prediction2)\n",
    "print('R squared Error',test_error_score2)"
   ]
  },
  {
   "cell_type": "code",
   "execution_count": 94,
   "id": "5ab14e32",
   "metadata": {},
   "outputs": [
    {
     "data": {
      "text/plain": [
       "Text(0.5, 1.0, 'Actual_Prices vs Predicted Prices')"
      ]
     },
     "execution_count": 94,
     "metadata": {},
     "output_type": "execute_result"
    },
    {
     "data": {
      "image/png": "[encoded data removed]",
      "text/plain": [
       "<Figure size 432x288 with 1 Axes>"
      ]
     },
     "metadata": {
      "needs_background": "light"
     },
     "output_type": "display_data"
    }
   ],
   "source": [
    "#Visualisng the actual prices and the predicted prices\n",
    "plt.scatter(y_test,test_data_prediction2)\n",
    "plt.xlabel('Actual Prices')\n",
    "plt.ylabel('Predicted Price')\n",
    "plt.title('Actual_Prices vs Predicted Prices')"
   ]
  },
  {
   "cell_type": "markdown",
   "id": "b9339ce5",
   "metadata": {},
   "source": [
    "##### 3. Decision Tree"
   ]
  },
  {
   "cell_type": "code",
   "execution_count": 53,
   "id": "dd563b74",
   "metadata": {},
   "outputs": [],
   "source": [
    "# loading the Lasso Decision Tree model\n",
    "tree_model = tree.DecisionTreeClassifier()"
   ]
  },
  {
   "cell_type": "code",
   "execution_count": 54,
   "id": "1568f4a7",
   "metadata": {},
   "outputs": [
    {
     "data": {
      "text/plain": [
       "DecisionTreeClassifier()"
      ]
     },
     "execution_count": 54,
     "metadata": {},
     "output_type": "execute_result"
    }
   ],
   "source": [
    "#training the model\n",
    "tree_model.fit(X_train,y_train)"
   ]
  },
  {
   "cell_type": "code",
   "execution_count": 55,
   "id": "d0674777",
   "metadata": {},
   "outputs": [],
   "source": [
    "#prediction on training data\n",
    "training_data_prediction3 = tree_model.predict(X_train)"
   ]
  },
  {
   "cell_type": "code",
   "execution_count": 56,
   "id": "86aabd57",
   "metadata": {},
   "outputs": [
    {
     "name": "stdout",
     "output_type": "stream",
     "text": [
      "R squared Error 0.9991832617193759\n"
     ]
    }
   ],
   "source": [
    "#R squared error\n",
    "train_error_score3 = metrics.r2_score(y_train,training_data_prediction3)\n",
    "print('R squared Error',train_error_score3)"
   ]
  },
  {
   "cell_type": "code",
   "execution_count": 102,
   "id": "6815a3ec",
   "metadata": {},
   "outputs": [
    {
     "data": {
      "text/plain": [
       "Text(0.5, 1.0, 'Actual_Prices vs Predicted Prices')"
      ]
     },
     "execution_count": 102,
     "metadata": {},
     "output_type": "execute_result"
    },
    {
     "data": {
      "image/png": "[encoded data removed]",
      "text/plain": [
       "<Figure size 432x288 with 1 Axes>"
      ]
     },
     "metadata": {
      "needs_background": "light"
     },
     "output_type": "display_data"
    }
   ],
   "source": [
    "#Visualising the actual prices and the predicted prices\n",
    "plt.scatter(y_train,training_data_prediction3)\n",
    "plt.xlabel('Actual Prices')\n",
    "plt.ylabel('Predicted Price')\n",
    "plt.title('Actual_Prices vs Predicted Prices')"
   ]
  },
  {
   "cell_type": "code",
   "execution_count": 58,
   "id": "d9065553",
   "metadata": {},
   "outputs": [],
   "source": [
    "#prediction on test data\n",
    "test_data_prediction3 = tree_model.predict(X_test)"
   ]
  },
  {
   "cell_type": "code",
   "execution_count": 59,
   "id": "943e2360",
   "metadata": {},
   "outputs": [
    {
     "name": "stdout",
     "output_type": "stream",
     "text": [
      "R squared Error 0.9223235224859022\n"
     ]
    }
   ],
   "source": [
    "#R squared error\n",
    "test_error_score3 = metrics.r2_score(y_test,test_data_prediction3)\n",
    "print('R squared Error',test_error_score3)"
   ]
  },
  {
   "cell_type": "code",
   "execution_count": 99,
   "id": "eb0d2785",
   "metadata": {},
   "outputs": [
    {
     "data": {
      "text/plain": [
       "Text(0.5, 1.0, 'Actual_Prices vs Predicted Prices')"
      ]
     },
     "execution_count": 99,
     "metadata": {},
     "output_type": "execute_result"
    },
    {
     "data": {
      "image/png": "[encoded data removed]",
      "text/plain": [
       "<Figure size 432x288 with 1 Axes>"
      ]
     },
     "metadata": {
      "needs_background": "light"
     },
     "output_type": "display_data"
    }
   ],
   "source": [
    "#Visualisng the actual prices and the predicted prices\n",
    "plt.scatter(y_test,test_data_prediction3)\n",
    "plt.xlabel('Actual Prices')\n",
    "plt.ylabel('Predicted Price')\n",
    "plt.title('Actual_Prices vs Predicted Prices')"
   ]
  },
  {
   "cell_type": "markdown",
   "id": "c4123285",
   "metadata": {},
   "source": [
    "##### 4. Random Forest Classifier"
   ]
  },
  {
   "cell_type": "code",
   "execution_count": 61,
   "id": "72de0c8d",
   "metadata": {},
   "outputs": [],
   "source": [
    "# loading the Random Forest Classifier\n",
    "RFC= RandomForestClassifier()"
   ]
  },
  {
   "cell_type": "code",
   "execution_count": 62,
   "id": "73d118eb",
   "metadata": {},
   "outputs": [
    {
     "data": {
      "text/plain": [
       "RandomForestClassifier()"
      ]
     },
     "execution_count": 62,
     "metadata": {},
     "output_type": "execute_result"
    }
   ],
   "source": [
    "#training the model\n",
    "RFC.fit(X_train,y_train)"
   ]
  },
  {
   "cell_type": "code",
   "execution_count": 63,
   "id": "5fff46fe",
   "metadata": {},
   "outputs": [],
   "source": [
    "#prediction on training data\n",
    "training_data_prediction4 = RFC.predict(X_train)"
   ]
  },
  {
   "cell_type": "code",
   "execution_count": 64,
   "id": "eb5fbd14",
   "metadata": {},
   "outputs": [
    {
     "name": "stdout",
     "output_type": "stream",
     "text": [
      "R squared Error 0.9992735991613886\n"
     ]
    }
   ],
   "source": [
    "#R squared error\n",
    "train_error_score4 = metrics.r2_score(y_train,training_data_prediction4)\n",
    "print('R squared Error',train_error_score4)"
   ]
  },
  {
   "cell_type": "code",
   "execution_count": 98,
   "id": "d2247a2b",
   "metadata": {},
   "outputs": [
    {
     "data": {
      "text/plain": [
       "Text(0.5, 1.0, 'Actual_Prices vs Predicted Prices')"
      ]
     },
     "execution_count": 98,
     "metadata": {},
     "output_type": "execute_result"
    },
    {
     "data": {
      "image/png": "[encoded data removed]",
      "text/plain": [
       "<Figure size 432x288 with 1 Axes>"
      ]
     },
     "metadata": {
      "needs_background": "light"
     },
     "output_type": "display_data"
    }
   ],
   "source": [
    "#Visualising the actual prices and the predicted prices\n",
    "plt.scatter(y_train,training_data_prediction4)\n",
    "plt.xlabel('Actual Prices')\n",
    "plt.ylabel('Predicted Price')\n",
    "plt.title('Actual_Prices vs Predicted Prices')"
   ]
  },
  {
   "cell_type": "code",
   "execution_count": 66,
   "id": "309f0798",
   "metadata": {},
   "outputs": [],
   "source": [
    "#prediction on test data\n",
    "test_data_prediction4= RFC.predict(X_test)"
   ]
  },
  {
   "cell_type": "code",
   "execution_count": 67,
   "id": "659406de",
   "metadata": {},
   "outputs": [
    {
     "name": "stdout",
     "output_type": "stream",
     "text": [
      "R squared Error 0.9700321226289526\n"
     ]
    }
   ],
   "source": [
    "#R squared error\n",
    "test_error_score4 = metrics.r2_score(y_test,test_data_prediction4)\n",
    "print('R squared Error',test_error_score4)"
   ]
  },
  {
   "cell_type": "code",
   "execution_count": 100,
   "id": "8ac5b3c7",
   "metadata": {},
   "outputs": [
    {
     "data": {
      "text/plain": [
       "Text(0.5, 1.0, 'Actual_Prices vs Predicted Prices')"
      ]
     },
     "execution_count": 100,
     "metadata": {},
     "output_type": "execute_result"
    },
    {
     "data": {
      "image/png": "[encoded data removed]",
      "text/plain": [
       "<Figure size 432x288 with 1 Axes>"
      ]
     },
     "metadata": {
      "needs_background": "light"
     },
     "output_type": "display_data"
    }
   ],
   "source": [
    "#Visualising the actual prices and the predicted prices\n",
    "plt.scatter(y_test,test_data_prediction4)\n",
    "plt.xlabel('Actual Prices')\n",
    "plt.ylabel('Predicted Price')\n",
    "plt.title('Actual_Prices vs Predicted Prices')"
   ]
  },
  {
   "cell_type": "code",
   "execution_count": 101,
   "id": "19454267",
   "metadata": {},
   "outputs": [
    {
     "data": {
      "text/html": [
       "<style type=\"text/css\">\n",
       "#T_ac921_row0_col1, #T_ac921_row0_col2, #T_ac921_row1_col1, #T_ac921_row1_col2 {\n",
       "  background-color: #000000;\n",
       "  color: #f1f1f1;\n",
       "}\n",
       "#T_ac921_row2_col1, #T_ac921_row3_col1, #T_ac921_row3_col2 {\n",
       "  background-color: #ffc77f;\n",
       "  color: #000000;\n",
       "}\n",
       "#T_ac921_row2_col2 {\n",
       "  background-color: #ffb070;\n",
       "  color: #000000;\n",
       "}\n",
       "</style>\n",
       "<table id=\"T_ac921_\">\n",
       "  <thead>\n",
       "    <tr>\n",
       "      <th class=\"blank level0\" >&nbsp;</th>\n",
       "      <th class=\"col_heading level0 col0\" >Model</th>\n",
       "      <th class=\"col_heading level0 col1\" >train score</th>\n",
       "      <th class=\"col_heading level0 col2\" >test score</th>\n",
       "    </tr>\n",
       "  </thead>\n",
       "  <tbody>\n",
       "    <tr>\n",
       "      <th id=\"T_ac921_level0_row0\" class=\"row_heading level0 row0\" >0</th>\n",
       "      <td id=\"T_ac921_row0_col0\" class=\"data row0 col0\" >Linear Reg</td>\n",
       "      <td id=\"T_ac921_row0_col1\" class=\"data row0 col1\" >0.567473</td>\n",
       "      <td id=\"T_ac921_row0_col2\" class=\"data row0 col2\" >0.573219</td>\n",
       "    </tr>\n",
       "    <tr>\n",
       "      <th id=\"T_ac921_level0_row1\" class=\"row_heading level0 row1\" >1</th>\n",
       "      <td id=\"T_ac921_row1_col0\" class=\"data row1 col0\" >Lasso Reg</td>\n",
       "      <td id=\"T_ac921_row1_col1\" class=\"data row1 col1\" >0.567473</td>\n",
       "      <td id=\"T_ac921_row1_col2\" class=\"data row1 col2\" >0.573218</td>\n",
       "    </tr>\n",
       "    <tr>\n",
       "      <th id=\"T_ac921_level0_row2\" class=\"row_heading level0 row2\" >2</th>\n",
       "      <td id=\"T_ac921_row2_col0\" class=\"data row2 col0\" >Decision Tree</td>\n",
       "      <td id=\"T_ac921_row2_col1\" class=\"data row2 col1\" >0.999183</td>\n",
       "      <td id=\"T_ac921_row2_col2\" class=\"data row2 col2\" >0.922324</td>\n",
       "    </tr>\n",
       "    <tr>\n",
       "      <th id=\"T_ac921_level0_row3\" class=\"row_heading level0 row3\" >3</th>\n",
       "      <td id=\"T_ac921_row3_col0\" class=\"data row3 col0\" >Random Forest Classifier</td>\n",
       "      <td id=\"T_ac921_row3_col1\" class=\"data row3 col1\" >0.999274</td>\n",
       "      <td id=\"T_ac921_row3_col2\" class=\"data row3 col2\" >0.970032</td>\n",
       "    </tr>\n",
       "  </tbody>\n",
       "</table>\n"
      ],
      "text/plain": [
       "<pandas.io.formats.style.Styler at 0x2a78f41e910>"
      ]
     },
     "execution_count": 101,
     "metadata": {},
     "output_type": "execute_result"
    }
   ],
   "source": [
    "#we compare the abobe models based on train score and test score\n",
    "compare_models = pd.DataFrame(\n",
    "    {  'Model' : ['Linear Reg', 'Lasso Reg' ,'Decision Tree', 'Random Forest Classifier'],\n",
    "       'train score' : [train_error_score1,train_error_score2,train_error_score3,train_error_score4],     \n",
    "       'test score' : [test_error_score1, test_error_score2,test_error_score3,test_error_score4]\n",
    "    })\n",
    "compare_models.style.background_gradient(cmap = \"copper\")"
   ]
  },
  {
   "cell_type": "markdown",
   "id": "431414de",
   "metadata": {},
   "source": [
    "<div style=\"color:white;\n",
    "            display:fill;\n",
    "            border-radius:5px;\n",
    "            background-color:#ffefd5;  \n",
    "            font-size:100%;\n",
    "            theme:cosmo;\n",
    "            letter-spacing:0.5px\">\n",
    "<h3 style=\"padding-left: 20px; padding-top: 20px; color:#4a4a4a; font-family:Arial;\"><b>Conclusion:</b>\n",
    "</h3>\n",
    "<ul style=\"padding-left: 40px; padding-bottom: 20px; color:#4a4a4a; font-size:110%;\">\n",
    "    <li><b>Random Forest Classifier</b> is the best among the chosen models.</li>\n",
    "    <li>On test data it has <b>99.93%</b> accuracy.</li>\n",
    "    <li>On train data it has <b>97.00%</b> accuracy.</li>\n",
    "\n",
    "</ul>\n",
    "</div>"
   ]
  },
  {
   "cell_type": "markdown",
   "id": "7c1ce20b",
   "metadata": {},
   "source": [
    "<b>Author :</b> Gulshan Acharjee\n",
    "\n",
    "<b>Dataset Source:</b> Kaggle"
   ]
  }
 ],
 "metadata": {
  "kernelspec": {
   "display_name": "Python 3 (ipykernel)",
   "language": "python",
   "name": "python3"
  },
  "language_info": {
   "codemirror_mode": {
    "name": "ipython",
    "version": 3
   },
   "file_extension": ".py",
   "mimetype": "text/x-python",
   "name": "python",
   "nbconvert_exporter": "python",
   "pygments_lexer": "ipython3",
   "version": "3.9.7"
  }
 },
 "nbformat": 4,
 "nbformat_minor": 5
}
